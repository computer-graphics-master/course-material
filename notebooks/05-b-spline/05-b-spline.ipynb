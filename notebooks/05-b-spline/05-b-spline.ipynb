{
 "cells": [
  {
   "cell_type": "code",
   "execution_count": 1,
   "metadata": {},
   "outputs": [
    {
     "data": {
      "text/html": [
       "\n",
       "    <script>require.config({ baseUrl: 'https://rawgit.com/kompgraf/course-material/master/assets/' });</script>\n",
       "    "
      ],
      "text/plain": [
       "<IPython.core.display.HTML object>"
      ]
     },
     "execution_count": 1,
     "metadata": {},
     "output_type": "execute_result"
    }
   ],
   "source": [
    "from IPython.core.display import HTML\n",
    "from string import Template\n",
    "def jsConfig():\n",
    "    src = \"\"\"\n",
    "    <script>require.config({ baseUrl: 'https://rawgit.com/kompgraf/course-material/master/assets/' });</script>\n",
    "    \"\"\"\n",
    "    return HTML(src)\n",
    "def addScript(script, identifier):\n",
    "    src = Template(\"\"\"\n",
    "    <div id=\"${identifier}-container\"></div>\n",
    "    <script>require(['${script}'], main => main($$(\"#${identifier}-container\"), '${identifier}'));</script>\n",
    "    \"\"\")\n",
    "    return HTML(src.substitute(script = script, identifier = identifier))\n",
    "jsConfig()\n"
   ]
  },
  {
   "cell_type": "code",
   "execution_count": 2,
   "metadata": {
    "collapsed": true
   },
   "outputs": [],
   "source": [
    "%matplotlib inline\n",
    "import matplotlib\n",
    "import matplotlib.pyplot as plt\n",
    "import numpy as np"
   ]
  },
  {
   "cell_type": "markdown",
   "metadata": {},
   "source": [
    "# B-Spline"
   ]
  },
  {
   "cell_type": "markdown",
   "metadata": {},
   "source": [
    "## Bevezetés, avagy miért szükséges a B-Spline?"
   ]
  },
  {
   "cell_type": "markdown",
   "metadata": {},
   "source": [
    "A megelőző jegyzetekben már számos különböző görbetípussal megismerkedtünk, melyek különböző paramétereket igényeltek, és igen eltérő tulajdonságokkal rendelkeztek. Miért van szükség egy újabb fajta görbére, melyek azok a problémák, melyek az eddig bemutatott görbékkel egyáltalán nem, vagy csak szuboptimális módon oldhatóak meg?\n",
    "\n",
    "Az Hermite-ív előnytelen voltáról már a Bézier-görbével kapcsolatos jegyzetben is volt szó. Az, hogy ehhez a görbetípushoz explicit módon meg kell adnunk az érintővektorokat, kényelmetlenné teszi a használatát. Ráadásul a kontrollpontok számának növelése esetén magunknak kell gondoskodnunk a görbék csatlakoztatásáról.\n",
    "\n",
    "A Cardinal Spline az Hermite-ív esetén tapasztalt problémákat megoldja, hiszen az érintővektorok előállítása automatikus, és a megfelelően definiált súlyfüggvények a görbedarabok csatlakozását is biztosítják. Ez az a pont azonban, ahol a Cardinal Spline legnagyobb gyengesége megjelenik. A görbét alkotó görbedarabok csatlakozása csupán $C^1$ folytonosságú, mely sok esetben nem elégséges. Számtalan esetben ennél magasabb rendű folytonosság szükséges.\n",
    "\n",
    "Szerencsére rendelkezünk még egy görbetípussal a tarsolyunkban, a Bézier-görbével. A Cardinal Spline-hoz hasonlóan a Bézier-görbe esetében is kizárólag kontrollpontokat kell megadnunk geometriai adatként. Megoldja a csatlakozás problémáját is, hiszen tetszőleges számú kontrollpontra tudunk egy darabból álló Bézier-görbét illeszteni, azaz nem lesznek csatlakozási pontok. Mely tulajdonságok alkotják akkor a Bézier-görbe árnyoldalát? \n",
    "\n",
    "Az elhelyezett kontrollpontok számával egyenes arányban nő a Bézier-görbe fokszáma is. Például kilenc kontrollpontra már nyolcadfokú görbét fogunk illeszteni! A legtöbb alkalmazás nem igényel ilyen magas fokszámú görbét, emellett számítási instabilitások is megjelenhetnek. Nem szabad elfelejteni azt sem, hogy a Bézier-görbe csak pszeudoglobálisan változtatható. Azaz bármely kontrollpont elmozdítása hatással van a *teljes* görbére.\n",
    "\n",
    "Mind a fokszám, mind a pszeudoglobális változtathatóság problémáját meg tudnánk oldani azzal, ha több Bézier-görbe darabot illesztenénk össze. Ez azonban nem más, mint a Cardinal-Spline, ráadásul manuálisan kellene biztosítanunk a megfelelő folytonosságú csatlakozást, ami rendkívül fáradságos.\n",
    "\n",
    "Láthatjuk, hogy az eddig ismert görbetípusokkal nem tudunk tetszőleges folytonosságú csatlakozásokat és egyúttal lokális változtathatóságot biztosítani. A B-Spline görbe fog ebben a szorongatott helyzetben a segítségünkre sietni."
   ]
  },
  {
   "cell_type": "markdown",
   "metadata": {},
   "source": [
    "## A B-Spline súlyfüggvények"
   ]
  },
  {
   "cell_type": "markdown",
   "metadata": {},
   "source": [
    "Most már tudjuk, hogy melyek azok a tulajdonságok, melyekkel az új görbetípusnak rendelkeznie kell. Tervezzük meg ezek alapján a B-Spline görbét! Ehhez először megfelelően megválasztott súlyfüggvényekre van szükség, hiszen a görbét ezúttal is a súlyfüggvények és a geometriai adatok kombinációjaként szeretnénk leírni, valamilyen paramétertartomány fölött értelmezve:\n",
    "\n",
    "$$\n",
    "\\gamma(t) = \\sum\\limits_{i=0}^{n} b(t - i) \\cdot P_i .\n",
    "$$\n",
    "\n",
    "Ha a fenti képletben szereplő, egyelőre nem definiált $b$ függvény jó tulajdonságokkal rendelkezik, akkor a görbe is örökölni fogja azokat:\n",
    "\n",
    "  * Ha $b(t)$ az értelmezési tartománynak csak egy kis részén vesz fel nullától különböző értéket, akkor a $\\gamma(t)$ függvényben szereplő összeg szintén csak néhány nullától különböző tagból fog állni. Ennek eredményeként bármely $t$ esetén csak korlátozott számú kontrollpont kombinációja adja az adott paraméterértékhez tartozó görbepontot.\n",
    "  * Ha $b(t)$ olyan, hogy $\\sum b(t-i) = 1$ teljesül bármely $t$ esetén, akkor a $\\gamma(t)$ függvény nem más, mint a kontrollpontok affin kombinációja. Ez azt jelenti, hogy az előállított görbe az affin transzformációkra nézve invariáns lesz.\n",
    "  * Ha az előző tulajdonság mellett $b(t) \\in [0, 1]$ bármilyen $t$ értékre, akkor a $\\sum\\limits_{i=0}^{n} b(t - i) \\cdot P_i$ összeg a kontrollpontok konvex kombinációja. Ez garantálja, hogy a görbe a kontrollpontok konvex burkán belül fog haladni.\n",
    "  \n",
    "A lokális változtathatóság lehetőségét és a konvex burok tulajdonságot mindenképpen biztosítani szeretnénk. Mi szükséges viszont ahhoz, hogy magasabb, akár tetszőleges fokszámúak legyenek a csatlakozások? Természetesen magasabb fokszámú görbedarabok. Itt érdemes visszagondolni a Bézier-görbére, melynél az okozta a problémát, hogy a görbe fokszáma a kontrollpontok számával arányosan nőtt. Válasszuk tehát el egymástól a kettőt! Tegyük lehetővé, hogy az egyes darabok fokszáma a kontrollpontok számától függetlenül (de azok által meghatározott korlátok között) változtatható legyen!"
   ]
  },
  {
   "cell_type": "markdown",
   "metadata": {},
   "source": [
    "### Csomók"
   ]
  },
  {
   "cell_type": "markdown",
   "metadata": {},
   "source": [
    "Mind a Cardinal Spline-t, mind az előző $\\gamma(t)$ függvényt úgy definiáltuk, hogy a görbe értelmezési tartományát $1$ hosszúságú részekre osztottuk. Hagyjuk el ezt a kötöttséget is és osszuk fel a paramétertartományt tetszőleges, akár $0$ hosszúságú darabokra! Azaz az egyes görbedarabokhoz a paramétertartomány más és más hosszúságú részei fognak tartozni, újabb lehetőséget biztosítva a görbe alakjának módosítására.\n",
    "\n",
    "Tegyük fel, hogy a $t$ paraméter $0$ és $1$ között vehet fel értékeket. Ekkor a $[0, 1]$ tartományt részekre osztó\n",
    "\n",
    "$$\n",
    "0 \\leq t_0 \\leq t_1 \\leq \\ldots \\leq t_m \\leq 1\n",
    "$$\n",
    "\n",
    "értékeket *csomóknak* nevezzük. A csomók egy monoton növekvő sorozatot alkotnak, azaz $t_i \\leq t_{i + 1}$ bármely $i$ esetén. A csomók a paramétertartományt csomótartományoknak nevezett részekre osztják. Az $i$-edik csomótartomány a $[t_i, t_{i + 1})$ intervallum lesz. Mivel az egyenlőség megengedett, egy-egy intervallum akár $0$ hosszúságú is lehet. Ez akkor fordulhat elő, ha egy csomó többször is megjelenik. Ha a $t_i$ csomó előfordulásainak száma $k$, akkor azt mondjuk, hogy $t_i$ egy $k$ multiplicitású csomó.\n",
    "\n",
    "A csomókból egy vektor képezhető (jelölje ezt $U$), melyet *csomóvektornak* nevezünk. Azt mondjuk, hogy a csomóvektor *uniform*, amennyiben a csomótartományok hossza azonos, azaz az egymást követő csomók közti különbség állandó. Egyébként a csomóvektor *nem-uniform*.\n",
    "\n",
    "A nem-uniform (azaz nem $1$ hosszúságú) csomótartományok megjelenése miatt a $b(t - i)$ kifejezés már nem lesz használható a görbét leíró függvényben. Helyette más módon kell megadnunk a súlyfüggvényt, súlyfüggvényeket. "
   ]
  },
  {
   "cell_type": "markdown",
   "metadata": {},
   "source": [
    "### Rekurzív definíció"
   ]
  },
  {
   "cell_type": "markdown",
   "metadata": {},
   "source": [
    "A B-Spline súlyfüggvényeket egy rekurzív formula segítségével fogjuk megadni. Az $i$-edik $p$-edfokú B-Spline súlyfüggvényt $N_{i, p}(t)$-vel jelöljük, és a következőképpen definiáljuk:\n",
    "\n",
    "$$\n",
    "\\begin{align*}\n",
    "N_{i, 0}(t) &= \n",
    "  \\begin{cases}\n",
    "    1, & \\text{ha } t_i \\leq t < t_{i + 1} \\\\\n",
    "    0, & \\text{egyébként}\n",
    "  \\end{cases} \\\\\n",
    "N_{i, p}(t) &= \\frac{t - t_i}{t_{i + p} - t_i} \\cdot N_{i, p - 1}(t) + \\frac{t_{i + p + 1} - t}{t_{i + p + 1} - t_{i + 1}} \\cdot N_{i + 1, p - 1}(t).\n",
    "\\end{align*}\n",
    "$$\n",
    "\n",
    "Bár a fenti definíció összetettnek tűnik, valójában rendkívül egyszerű. Ha $p$ értéke $0$, akkor a súlyfüggvény $1$-et vesz fel, ha $t$ benne van az $i$-edik csomótartományban, és $0$-t egyébként."
   ]
  },
  {
   "cell_type": "code",
   "execution_count": 4,
   "metadata": {},
   "outputs": [
    {
     "data": {
      "image/png": "[encoded data removed]",
      "text/plain": [
       "<matplotlib.figure.Figure at 0x1e21192d4e0>"
      ]
     },
     "metadata": {},
     "output_type": "display_data"
    }
   ],
   "source": [
    "def n0(i, axes):    \n",
    "    axes.set_ylim([-0.3, 1.3])\n",
    "    axes.set_xlim([0, 3])\n",
    "\n",
    "    axes.hlines(0, xmin=i, xmax=i+1, color='k')\n",
    "    \n",
    "    axes.hlines(1, xmin=i, xmax=i+1, color=\"r\")\n",
    "    axes.hlines(0, xmin=0, xmax=i, color=\"r\")\n",
    "    axes.hlines(0, xmin=i+1, xmax=3, color=\"r\")\n",
    "    \n",
    "    axes.vlines(i, ymin=0, ymax=1, color=\"r\", linestyle=\":\")\n",
    "    axes.vlines(i+1, ymin=0, ymax=1, color=\"r\", linestyle=\":\")\n",
    "    \n",
    "    axes.set_xlabel('t')\n",
    "\n",
    "\n",
    "def showCardinalSplineBlendingFunctions():\n",
    "    fig, (ax1, ax2, ax3) = plt.subplots(1, 3, sharey = True, figsize = (11, 4))\n",
    "    \n",
    "    plt.suptitle(\"Nulladfokú B-Spline súlyfüggvények $[0, 1, 2, 3]$ csomóvektor esetén\")\n",
    "    \n",
    "    n0(0, ax1)\n",
    "    n0(1, ax2)\n",
    "    n0(2, ax3)\n",
    "    \n",
    "showCardinalSplineBlendingFunctions()"
   ]
  },
  {
   "cell_type": "markdown",
   "metadata": {},
   "source": [
    "A magasabb fokszámú definíció pedig két alacsonyabb fokszámú súlyfüggvény kombinációjaként áll elő.\n",
    "\n",
    "A számítás menetét egy háromszöghöz hasonló sémával illusztrálhatjuk."
   ]
  },
  {
   "cell_type": "markdown",
   "metadata": {},
   "source": [
    "<img src=\"data:image/png;base64,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\" style=\"max-width:100%;\" />"
   ]
  },
  {
   "cell_type": "markdown",
   "metadata": {},
   "source": [
    "A háromszög legalján (az ábrán a második oszlop) a rekurzió alapesetei, a nulladfokú súlyfüggvények szerepelnek. Adott $t$ esetén ezek értékét rögtön ki tudjuk számolni. Ezután léphetünk feljebb a háromszögben. $N_{i, 1}(t)$ meghatározásához szükség van két nulladfokú súlyfüggvény értékére, melyeket előzőleg számoltunk ki. Ezeket a súlyfüggvény definíciójának megfelelően kombináljuk, majd pedig feljebb lépünk a következő szintre. Ezt addig ismételjük, amíg az adott $t$ és $p$ értékekre az összes $N_{i, p}(t)$ érték elő nem állt."
   ]
  },
  {
   "cell_type": "markdown",
   "metadata": {},
   "source": [
    "Legyen például a csomóvektorunk $U = [0, 1, 2, 3, 4]$! Ábrázoljuk az $N_{i, 1}(t)$ függvényeket!"
   ]
  },
  {
   "cell_type": "code",
   "execution_count": 3,
   "metadata": {},
   "outputs": [
    {
     "data": {
      "image/png": "[encoded data removed]",
      "text/plain": [
       "<matplotlib.figure.Figure at 0x1e213803048>"
      ]
     },
     "metadata": {},
     "output_type": "display_data"
    }
   ],
   "source": [
    "def n1(i, axes):   \n",
    "    u = [0, 1, 2, 3, 4]\n",
    "    t = np.linspace(0, 4, 100)\n",
    "    \n",
    "    n0 = lambda i, t: (t >= u[i]) * (t < u[i + 1]) * 1\n",
    "    \n",
    "    f = (t - u[i]) / (u[i + 1] - u[i]) * n0(i, t) + (u[i + 2] - t)/(u[i + 2] - u[i + 1]) * n0(i + 1, t)\n",
    "    \n",
    "    axes.set_ylim([-0.3, 1.3])\n",
    "    axes.set_xlim([0, 4])\n",
    "\n",
    "    axes.axhline(y=0, color='k')\n",
    "    axes.plot(t, f, 'r', label='$h_0$')\n",
    "    \n",
    "    axes.set_xlabel('t')\n",
    "\n",
    "\n",
    "def showCardinalSplineBlendingFunctions():\n",
    "    fig, (ax1, ax2, ax3) = plt.subplots(1, 3, sharey = True, figsize = (11, 4))\n",
    "    \n",
    "    plt.suptitle(\"Elsőfokú B-Spline súlyfüggvények $[0, 1, 2, 3, 4]$ csomóvektor esetén\")\n",
    "    \n",
    "    n1(0, ax1)\n",
    "    n1(1, ax2)\n",
    "    n1(2, ax3)\n",
    "\n",
    "    \n",
    "showCardinalSplineBlendingFunctions()"
   ]
  },
  {
   "cell_type": "markdown",
   "metadata": {},
   "source": [
    "Vegyük észre, hogy az elsőfokú súlyfüggvények már két csomótartományon is nullától különböző értéket vesznek fel! Tehát a függvényábrák összhangban vannak az előbb felírt háromszöggel. Minél feljebb haladunk, annál több csomótartományra támaszkodik egy adott súlyfüggvény, ami azt jelenti, hogy a paramétertartománynak egy nagyobb részén fog nullától különböző értéket felvenni. Fogalmazzuk meg ezt az összefüggést részletesebben!"
   ]
  },
  {
   "cell_type": "markdown",
   "metadata": {},
   "source": [
    "### A súlyfüggvények és a csomótartományok kapcsolata"
   ]
  },
  {
   "cell_type": "markdown",
   "metadata": {},
   "source": [
    "Az előbb felírt háromszög-séma alapján vizsgáljuk meg, hogy milyen kapcsolatban vannak egymással a súlyfüggvények és a csomótartományok!\n",
    "\n",
    "Ahogy már arról szó volt, minden $N_{i, 1}(t)$ értéket két nulladfokú súlyfüggvényérték, $N_{i, 0}(t)$ és $N_{i + 1, 0}(t)$ alapján határozhatunk meg. Mivel az említett két súlyfüggvény a $[t_i, t_{i+1})$ és a $[t_{i + 1}, t_{i+2})$ csomótartományokon vesz csak fel nullától különböző értéket, ezért $N_{i, 1}(t)$ is e két tartományon lesz nullától különböző.\n",
    "\n",
    "Ha eggyel feljebb lépünk, hasonlót figyelhetünk meg $N_{i, 2}(t)$ esetén is, mely két elsőfokú súlyfüggvénytől, $N_{i, 1}(t)$-től és $N_{i + 1, 1}(t)$-től függ. Ezek két-két nulladfokú súlyfüggvényre támaszkodnak, melyek közül kettő azonban azonos, így három különböző marad. Ennek következében a másodfokú súlyfüggvények három csomótartományon vesznek fel nullától különböző értéket.\n",
    "\n",
    "Megfigyelésünket a következőképpen foglalhatjuk össze:\n",
    "\n",
    "> Az $N_{i, p}(t)$ súlyfüggvény $p + 1$ darab szomszédos csomótartományon vesz fel nullától különböző értéket, melyek együttesen a  $[t_i, t_{i + p + 1})$ intervallumnak felelnek meg.\n",
    "\n",
    "Fordítva, a csomótartományok szempontjából is megfogalmazhatunk egy hasonló kijelentést:\n",
    "\n",
    "> A $[t_i, t_{i + 1})$ csomótartományon legfeljebb $p + 1$ darab $p$-edfokú súlyfüggvény vesz fel nullától különböző értéket, melyek az $N_{i - p, p}(t), N_{i - p + 1, p}(t), \\ldots, N_{i, p}(t)$ súlyfüggvények."
   ]
  },
  {
   "cell_type": "markdown",
   "metadata": {},
   "source": [
    "### A súlyfüggvények együtthatói"
   ]
  },
  {
   "cell_type": "markdown",
   "metadata": {},
   "source": [
    "Az előző megfigyelések ismeretében már könnyedén megfejthetjük, hogy mi a jelentése a magasabb fokú esetet leíró ágban az együtthatóknak. Emékeztetőül álljon itt $p > 0$ esetén $N_{i, p}(t)$ definíciója:\n",
    "\n",
    "$$\n",
    "N_{i, p}(t) = \\frac{t - t_i}{t_{i + p} - t_i} \\cdot N_{i, p - 1}(t) + \\frac{t_{i + p + 1} - t}{t_{i + p + 1} - t_{i + 1}} \\cdot N_{i + 1, p - 1}(t).\n",
    "$$\n",
    "\n",
    "Ez a definíció két alacsonyabb fokú függvényre, $N_{i, p-1}(t)$-re és $N_{i + 1, p - 1}(t)$-re támaszkodik. Az előbbi a $[t_i, t_{i + p})$ tartományon lesz nullától különböző. Tehát a $\\frac{t - t_i}{t_{i + p} - t_i}$ tört nevezője ennek a tartománynak a hossza. Ha $t$ az előbb említett intervallumon belül van, akkor a számláló nem lesz más, mint $t$ távolsága az intervallum bal szélétől. \n",
    "\n",
    "Hasonlóan írhatjuk le a másik együtthatót is. Tudjuk, hogy $N_{i + 1, p - 1}(t)$ nullától különböző értékkel rendelkezik a $[t_{i + 1}, t_{i + p + 1})$ intervallumon. Az együttható nevezője ennek az intervallumnak a hossza. Ha $t$ benne van ebben a tartományban, akkor a számláló $t$ távolsága az intervallum jobb szélétől."
   ]
  },
  {
   "cell_type": "markdown",
   "metadata": {},
   "source": [
    "## B-Spline görbe"
   ]
  },
  {
   "cell_type": "markdown",
   "metadata": {},
   "source": [
    "A súlyfüggvények áttekintése után írjuk fel a B-Spline görbe definícióját! Legyenek adottak a $P_0, P_1, \\ldots, P_{n}$ kontrollpontok, a görbe $1 \\leq p \\leq n$ foka és az $U = [t_0, t_1, \\ldots, t_{n + p + 1}]$ csomóvektor! Azaz a kontrollpontok száma $n + 1$, a csomóké pedig $n + p + 2$. Az ezen adatok által meghatározott B-Spline görbe a következő:\n",
    "\n",
    "$$\n",
    "b(t) = \\sum\\limits_{i = 0}^{n} N_{i, p}(t) \\cdot P_i \\qquad t \\in [t_p, t_{n + 1}]\n",
    "$$"
   ]
  },
  {
   "cell_type": "markdown",
   "metadata": {},
   "source": [
    "Ez lesz az úgynevezett NUBS, azaz **N**em-**U**niform **B**-**S**pline görbe definíciója. Ennek speciális esete (ha $U$ uniform) az Uniform B-Spline görbe."
   ]
  },
  {
   "cell_type": "markdown",
   "metadata": {},
   "source": [
    "### A paramétertartomány"
   ]
  },
  {
   "cell_type": "markdown",
   "metadata": {},
   "source": [
    "A függvény definíciójában szerepel, hogy $t \\in [t_p, t_{n + 1}]$, ami felveti a kérdést, hogy miért nem fut végig $t$ az első és az utolsó csomó közötti teljes intervallumon?\n",
    "\n",
    "Már felírtuk, hogy egy csomótartományon legfeljebb $p + 1$ darab $p$-edfokú súlyfüggvény lehet nullától különböző. A görbepontok számítása során csak azokat a csomótartományokat vesszük figyelembe, melyek fölött a maximális számú, $p + 1$ darab $p$-edfokú súlyfüggvény tér el nullától. \n",
    "\n",
    "Az első ilyen tartomány a $[t_{p}, t_{p + 1})$, mivel efölött az $N_{p - p, p}(t), \\ldots, N_{p, p}(t)$ függvények lesz nullától különbözőek, ahol $N_{0, p}(t)$ nem más, mint az első kontrollponthoz tartozó $p$-edfokú súlyfüggvény. Az utolsó, a feltételnek eleget tevő csomótartomány pedig a $[t_n, t_{n + 1})$, hiszen ezen az $N_{n - p, p}(t), \\ldots, N_{n, p}(t)$ függvények bírnak nullától eltérő értékkel, ahol $N_{n, p}(t)$ az utolsó kontrollponthoz tartozó súlyfüggvény."
   ]
  },
  {
   "cell_type": "markdown",
   "metadata": {},
   "source": [
    "### Demonstráció"
   ]
  },
  {
   "cell_type": "markdown",
   "metadata": {},
   "source": [
    "A következő demonstráció a NUBS görbe tanulmányozására ad lehetőséget. A kék téglalapba kattintva helyezhetük el új kontrollpontokat, melyeket aztán vonszolással helyezhetünk át. A görbe kirajzolásához legalább három darab kontrollpontot kell elhelyezni. A csomók és a fokszám módosítását lehetővé tevő mezők csak ezután fognak megjelenni."
   ]
  },
  {
   "cell_type": "code",
   "execution_count": 3,
   "metadata": {},
   "outputs": [
    {
     "data": {
      "text/html": [
       "\n",
       "    <div id=\"nubs-demo-container\"></div>\n",
       "    <script>require(['js/nubs-demo'], main => main($(\"#nubs-demo-container\"), 'nubs-demo'));</script>\n",
       "    "
      ],
      "text/plain": [
       "<IPython.core.display.HTML object>"
      ]
     },
     "execution_count": 3,
     "metadata": {},
     "output_type": "execute_result"
    }
   ],
   "source": [
    "addScript(\"js/nubs-demo\", \"nubs-demo\")"
   ]
  },
  {
   "cell_type": "markdown",
   "metadata": {},
   "source": [
    "### A végpontok interpolációja"
   ]
  },
  {
   "cell_type": "markdown",
   "metadata": {},
   "source": [
    "Az első és az utolsó kontrollpontok érintését megfelelő csomók segítségével tudjuk elérni. Legyen a görbe fokszáma $p$, kontrollpontjainak száma $n + 1$! Ekkor $n + p + 2$ darab csomóval rendelkezünk. Ahhoz, hogy a görbe érintse az első kontrollpontot, az első csomónak $p + 1$ multiplicitással kell rendelkeznie, azaz $t_0 = t_1 = \\ldots = t_{p}$.\n",
    "\n",
    "Ekkor a $P_0$ kontrollponthoz tartozó $p$-edfokú súlyfüggvény $N_{0, p}(t)$. Ez $p + 1$ csomótartományon lesz nullától különböző, mely a $[t_0, t_{p + 1})$ intervallum. Mivel $t_0 = t_1 = \\ldots = t_p$, ezért az ezen csomók által meghatározott csomótartományok eltűnnek, azt eredményezve, hogy az $N_{0, 0}(t), N_{1, 0}(t), \\ldots, N_{p - 1, 0}(t)$ súlyfüggvények mindig nullát fognak felvenni, bármely $t$-re. Csak $N_{p, 0}(t)$ lesz nullától különböző (azaz $1$), aminek köszönhetően $b(t_p) = P_0$. \n",
    "\n",
    "Az utolsó kontrollpont érintése is hasonlóan vezethető le, melyhez $p + 1$ multiplicitású utolsó csomó szükséges.\n",
    "\n",
    "Mindenképpen próbáljuk ki a csomóvektor ilyen összeállítását a demonstrációban is!"
   ]
  },
  {
   "cell_type": "markdown",
   "metadata": {},
   "source": [
    "### Tulajdonságok"
   ]
  },
  {
   "cell_type": "markdown",
   "metadata": {},
   "source": [
    "Legyen a görbe fokszáma $p$, kontrollpontjainak száma $n + 1$! Ekkor a B-Spline görbe a következő tulajdonságokkal rendelkezik.\n",
    "\n",
    "* A $b(t)$ függvény által leírt görbe $p$-edfokú szegmensekből épül fel. Minél magasabb a fokszám, annál távolabb kerül a görbe a kontrollpoligontól, míg $p = 1$ esetén a görbe a kontrollpontokat összekötő töröttvonallal esik egybe.\n",
    "* A görbe adott $t$ esetén, ha $t \\in [t_i, t_{i + 1})$, akkor a $P_{i - p}, P_{i - p + 1}, \\ldots, P_{i}$ kontrollpontok konvex burkában halad. Ez erősebb, mint az egyszerű konvex burok tulajdonság, amit például a Bézier-görbe esetén láttunk.\n",
    "* A görbe az affin transzformációkra nézve invariáns. Ez következik abból, hogy $b(t)$ a kontrollpontok affin kombinációja.\n",
    "* A görbe lokálisan változtatható, azaz a $P_i$ kontrollpont elmozdítása csak a $[t_i, t_{i + p + 1})$ tartományon változtatja meg a görbe alakját. Ez következik abból, hogy a $P_i$-hez tartozó $N_{i, p}$ súlyfüggvény csak ezen az intervallumon vesz fel nullától különböző értéket. Ha $t$ ezen a tartományon kívül esik, akkor $N_{i, p}(t)=0$.\n",
    "* $b(t)$ egy $k$ multiplicitású csomóban $C^{p - k}$ folytonos.\n",
    "\n",
    "Érdemes ismét visszatérni a demonstrációhoz, és megvizsgálni a leírt tulajdonságokat!"
   ]
  },
  {
   "cell_type": "markdown",
   "metadata": {},
   "source": [
    "### Mátrix alak"
   ]
  },
  {
   "cell_type": "markdown",
   "metadata": {},
   "source": [
    "Írjuk fel a harmadfokú, uniform B-Spline görbe mátrix alakját! Ekkor tehát $p = 3$ és adott $n + 1 \\geq 4$ kontrollpont. A csomók legyenek oly módon adottak, hogy $t_i = i$.\n",
    "\n",
    "Ekkor a görbét leíró függvény\n",
    "\n",
    "$$\n",
    "b(t) = \\sum\\limits_{i = 0}^{n} N_{i, 3}(t) \\cdot P_i.\n",
    "$$\n",
    "\n",
    "Mivel a csomóvektor uniform, ezért az egyes $N_{i, 3}(t)$ függvények mindegyike az $N_{0, 3}(t)$ függvény eltoltja lesz. Emiatt elég az $N_{0, 3}(t)$ súlyfüggvény leírnunk. A görbe definíciója ennek ismeretében a következő formára egyszerűsödik:\n",
    "\n",
    "$$\n",
    "b(t) = \\sum\\limits_{i = 0}^{n} N_{0, 3}(t - i) \\cdot P_i\n",
    "$$\n",
    "\n",
    "Írjuk fel az összes olyan súlyfüggvényt, melyre $N_{0, 3}(t)$ támaszkodik!"
   ]
  },
  {
   "cell_type": "markdown",
   "metadata": {},
   "source": [
    "#### Nulladfokú súlyfüggvények"
   ]
  },
  {
   "cell_type": "markdown",
   "metadata": {},
   "source": [
    "$$\n",
    "\\begin{align*}\n",
    "N_{0, 0}(t) &= \n",
    "  \\begin{cases}\n",
    "    1, & \\text{ha } 0 \\leq t < 1 \\\\\n",
    "    0, & \\text{egyébként}\n",
    "  \\end{cases} \\\\\n",
    "N_{1, 0}(t) &= \n",
    "  \\begin{cases}\n",
    "    1, & \\text{ha } 1 \\leq t < 2 \\\\\n",
    "    0, & \\text{egyébként}\n",
    "  \\end{cases} \\\\\n",
    "N_{2, 0}(t) &= \n",
    "  \\begin{cases}\n",
    "    1, & \\text{ha } 2 \\leq t < 3 \\\\\n",
    "    0, & \\text{egyébként}\n",
    "  \\end{cases} \\\\\n",
    "N_{3, 0}(t) &= \n",
    "  \\begin{cases}\n",
    "    1, & \\text{ha } 3 \\leq t < 4 \\\\\n",
    "    0, & \\text{egyébként}\n",
    "  \\end{cases}\n",
    "\\end{align*}\n",
    "$$"
   ]
  },
  {
   "cell_type": "markdown",
   "metadata": {},
   "source": [
    "#### Elsőfokú súlyfüggvények"
   ]
  },
  {
   "cell_type": "markdown",
   "metadata": {},
   "source": [
    "Az elsőfokú súlyfüggvényeket a következőképpen írhatjuk fel:\n",
    "\n",
    "$$\n",
    "\\begin{align*}\n",
    "N_{0, 1}(t) &= t \\cdot N_{0, 0}(t) + (2 - t) \\cdot N_{1, 0}(t) \\\\\n",
    "N_{1, 1}(t) &= (t - 1) \\cdot N_{1, 0}(t) + (3 - t) \\cdot N_{2, 0}(t) \\\\\n",
    "N_{2, 1}(t) &= (t - 2) \\cdot N_{2, 0}(t) + (4 - t) \\cdot N_{3, 0}(t)\n",
    "\\end{align*}\n",
    "$$"
   ]
  },
  {
   "cell_type": "markdown",
   "metadata": {},
   "source": [
    "Felhasználva a nulladfokú súlyfüggvényeket, írjuk fel az elsőfokúakat is szakaszosan definiált formában:\n",
    "\n",
    "$$\n",
    "\\begin{align*}\n",
    "N_{0, 1}(t) &= \n",
    "  \\begin{cases}\n",
    "    t, & 0 \\leq t < 1 \\\\\n",
    "    2 - t, & 1 \\leq t < 2 \\\\\n",
    "    0, & \\text{egyébként}\n",
    "  \\end{cases} \\\\\n",
    "N_{1, 1}(t) &= \n",
    "  \\begin{cases}\n",
    "    t - 1, & 1 \\leq t < 2 \\\\\n",
    "    3 - t, & 2 \\leq t < 3 \\\\\n",
    "    0, & \\text{egyébként}\n",
    "  \\end{cases} \\\\\n",
    "N_{2, 1}(t) &= \n",
    "  \\begin{cases}\n",
    "    t - 2, & 2 \\leq t < 3 \\\\\n",
    "    4 - t, & 3 \\leq t < 4 \\\\\n",
    "    0, & \\text{egyébként}\n",
    "  \\end{cases}\n",
    "\\end{align*}\n",
    "$$"
   ]
  },
  {
   "cell_type": "markdown",
   "metadata": {},
   "source": [
    "#### Másodfokú súlyfüggvények"
   ]
  },
  {
   "cell_type": "markdown",
   "metadata": {},
   "source": [
    "Folytassuk a sort a másodfokú súlyfüggvényekkel, először a hagyományos definíciót, majd a szakaszosan definiált formát alkalmazva:\n",
    "\n",
    "$$\n",
    "\\begin{align*}\n",
    "N_{0, 2}(t) &= \\frac{t}{2} \\cdot N_{0, 1}(t) + \\frac{3 - t}{2} \\cdot N_{1, 1}(t) \\\\\n",
    "N_{1, 2}(t) &= \\frac{t - 1}{2} \\cdot N_{1, 1}(t) + \\frac{4 - t}{2} \\cdot N_{2, 1}(t)\n",
    "\\end{align*}\n",
    "$$"
   ]
  },
  {
   "cell_type": "markdown",
   "metadata": {},
   "source": [
    "$$\n",
    "\\begin{align*}\n",
    "N_{0, 2}(t) &= \n",
    "  \\begin{cases}\n",
    "    \\frac{t^2}{2}, & 0 \\leq t < 1 \\\\\n",
    "    \\frac{t \\cdot (2 - t)}{2} + \\frac{(3 - t)(t - 1)}{2}, & 1 \\leq t < 2 \\\\\n",
    "    \\frac{(3 - t)^2}{2}, & 2 \\leq t < 3 \\\\\n",
    "    0, & \\text{egyébként}\n",
    "  \\end{cases} \\\\\n",
    "N_{1, 2}(t) &= \n",
    "  \\begin{cases}\n",
    "    \\frac{(t - 1)^2}{2}, & 1 \\leq t < 2 \\\\\n",
    "    \\frac{(t - 1) \\cdot (3 - t)}{2} + \\frac{(4 - t)(t - 2)}{2}, & 2 \\leq t < 3 \\\\\n",
    "    \\frac{(4 - t)^2}{2}, & 3 \\leq t < 4 \\\\\n",
    "    0, & \\text{egyébként}\n",
    "  \\end{cases}\n",
    "\\end{align*}\n",
    "$$"
   ]
  },
  {
   "cell_type": "markdown",
   "metadata": {},
   "source": [
    "#### A harmadfokú súlyfüggvény"
   ]
  },
  {
   "cell_type": "markdown",
   "metadata": {},
   "source": [
    "A szakaszosan definiált forma előtt írjuk fel az $N_{0, 3}(t)$ függvényt is a definíció szerinti alakjában:\n",
    "\n",
    "$$\n",
    "N_{0, 3}(t) = \\frac{t}{3} N_{0, 2}(t) + \\frac{4 - t}{3} N_{1, 2}(t).\n",
    "$$"
   ]
  },
  {
   "cell_type": "markdown",
   "metadata": {},
   "source": [
    "Az alacsonyabb fokú súlyfüggvények és azok intervallumai segítségével most már könnyedén felírhatjuk az $N_{0, 3}(t)$ szakaszosan definiált formáját:\n",
    "\n",
    "$$\n",
    "N_{0, 3}(t)=\n",
    "\\begin{cases}\n",
    "    \\frac{1}{6}t^3, & 0 \\leq t < 1 \\\\\n",
    "    \\frac{1}{6}(-3t^3 + 12t^2 -12t + 4), & 1 \\leq t < 2 \\\\\n",
    "    \\frac{1}{6}(3t^3-24t^2+60t-44), & 2 \\leq t < 3 \\\\\n",
    "    \\frac{1}{6}(-t^3 +12t^2-48t +64), & 3 \\leq t < 4 \\\\\n",
    "    0, & \\text{egyébként}\n",
    "  \\end{cases} \\\\\n",
    "$$"
   ]
  },
  {
   "cell_type": "markdown",
   "metadata": {},
   "source": [
    "#### Mátrix alakú egyenlet"
   ]
  },
  {
   "cell_type": "markdown",
   "metadata": {},
   "source": [
    "Mivel a görbénk harmadfokú, ezért minden szegmenst négy kontrollpont fog meghatározni. Az $i$-edik szegmenst tehát a $P_i, P_{i + 1}, P_{i + 2}, P_{i + 3}$ pontok fogják befolyásolni. Jelölje $G_i$ az ezekből a kontrollpontokból képzett mátrixot.\n",
    "\n",
    "A $t$ paraméterből képzett mátrixot jelölje $T(t)$, és legyen a következő formában adott:\n",
    "\n",
    "$$\n",
    "T(t) =\n",
    "\\begin{bmatrix}\n",
    "t^3 \\\\\n",
    "t^2 \\\\\n",
    "t \\\\\n",
    "1\n",
    "\\end{bmatrix}\n",
    "$$\n",
    "\n",
    "Ekkor az $i$-edik szegmenst a következő függvény segítségével írhatjuk le:\n",
    "\n",
    "$$\n",
    "\\gamma_i(t) = G_iMT(t) \\qquad t \\in [0, 1]\n",
    "$$\n",
    "\n",
    "Ahol $M$ az egyelőre még ismeretlen együtthatómátrix. Vegyük észre, hogy ez a függvény a $[0, 1]$ intervallum fölött van definiálva, viszont az előző $N_{0, 3}$ függvény $[0, 4]$ fölött. Emiatt át kell írnunk az $N_{0, 3}$ súlyfüggvényt, hogy az egyes pontokra egyidejűleg különböző ágait tudjuk alkalmazni, de mindenhova $[0, 1]$ tartománybeli $t$ értékeket írva, ahogy az a $GMT(t)$ formulában is szerepel! Ekkor\n",
    "\n",
    "$$\n",
    "N_{0, 3}(t)= \\frac{1}{6}\n",
    "\\begin{cases}\n",
    "    t^3, & 0 \\leq t < 1 \\\\\n",
    "    -3t^3 + 12t^2 -12t + 4, & 1 \\leq t < 2 \\\\\n",
    "    3t^3-24t^2+60t-44, & 2 \\leq t < 3 \\\\\n",
    "    -t^3 +12t^2-48t +64, & 3 \\leq t < 4 \\\\\n",
    "    0, & \\text{egyébként}\n",
    "  \\end{cases}\n",
    "= \\frac{1}{6}\n",
    "\\begin{cases}\n",
    "    t^3, & 0 \\leq t < 1 \\\\\n",
    "    -3(t - 1)^3 + 3(t - 1)^2 +3(t - 1) + 1, & 1 \\leq t < 2 \\\\\n",
    "    3(t-2)^3-6(t-2)^2+4, & 2 \\leq t < 3 \\\\\n",
    "    -(t - 3)^3+3(t - 3)^2-3(t -3) +1, & 3 \\leq t < 4 \\\\\n",
    "    0, & \\text{egyébként}\n",
    "  \\end{cases}\n",
    "$$\n",
    "\n",
    "Ezután már nem $t$ együtthatóiból, hanem a $(t - x)$ kifejezések együtthatóiból fog felépülni a mátrix:\n",
    "\n",
    "$$\n",
    "M = \\frac{1}{6}\n",
    "\\begin{bmatrix}\n",
    "-1 & 3 & -3 & 1 \\\\\n",
    "3 & -6 & 0 & 4 \\\\\n",
    "-3 & 3 & 3 & 1 \\\\\n",
    "1 & 0 & 0 & 0 \\\\\n",
    "\\end{bmatrix}\n",
    "$$\n",
    "\n",
    "E módon gyakorlatilag négy darab súlyfüggvényt kapunk, melyek az egyes szegmensek megfelelő pontjaihoz tartoznak. Ábrázoljuk ezeket a súlyfüggvényeket!"
   ]
  },
  {
   "cell_type": "code",
   "execution_count": 3,
   "metadata": {},
   "outputs": [
    {
     "data": {
      "image/png": "[encoded data removed]",
      "text/plain": [
       "<matplotlib.figure.Figure at 0x1d2550ba8d0>"
      ]
     },
     "metadata": {},
     "output_type": "display_data"
    }
   ],
   "source": [
    "def thirdDegreeBSpline():\n",
    "    t = np.linspace(0, 1, 100)\n",
    "\n",
    "    b0 = (1/6) *((-1*(t**3)) +  (3 * (t**2)) + (-3 * t) + 1)\n",
    "    b1 = (1/6) *((3*(t**3)) + (-6 * (t**2)) +  4)\n",
    "    b2 = (1/6) * ((-3*(t**3)) +  (3 * (t**2)) + (3 * t) + 1)\n",
    "    b3 = (1/6) * (t**3)\n",
    "\n",
    "    fig = plt.figure()\n",
    "\n",
    "    axes = fig.add_axes([0, 0, 1, 1])\n",
    "\n",
    "    axes.set_xlim([0, 1])\n",
    "    axes.set_ylim([-0.3, 1.3])\n",
    "\n",
    "    axes.plot(t, b0, 'r')\n",
    "    axes.plot(t, b1, 'g')\n",
    "    axes.plot(t, b2, 'b')\n",
    "    axes.plot(t, b3, 'cyan')\n",
    "    axes.plot(t, b0 + b1 + b2 + b3, 'k', label='Összeg')\n",
    "    \n",
    "    axes.axhline(y=0, color='k')\n",
    "    \n",
    "    axes.legend(loc=2);\n",
    "\n",
    "    axes.set_xlabel('t')\n",
    "    axes.set_title('Harmadfokú B-Spline súlyfüggvények');\n",
    "\n",
    "\n",
    "thirdDegreeBSpline()"
   ]
  },
  {
   "cell_type": "markdown",
   "metadata": {},
   "source": [
    "A teljes görbét úgy tudjuk kirajzolni, hogy négyesével vesszük a kontrollpontokat, ezzel $G$ mátrixot képezve belőlük. Ezután az így kapott mátrixot behelyettesítjük a $\\gamma(t)$ függvénybe, és a $t$ paramétert $0$ és $1$ között végigfuttatjuk. $n + 1$ darab pont esetén ezt összesen $n - 2$ alkalommal megismételve előáll a teljes görbe."
   ]
  },
  {
   "cell_type": "markdown",
   "metadata": {},
   "source": [
    "#### Demonstráció"
   ]
  },
  {
   "cell_type": "markdown",
   "metadata": {},
   "source": [
    "A demonstráció az előbb levezett mátrix alak segítségével képzett B-Spline görbét mutatja be. A kék téglalapba kattintva helyezhetünk el kontrollpontokat, melyeket vonszolással helyezhetünk át. A görbe kirajzolásához legalább $4$ kontrollpontot kell elhelyezni."
   ]
  },
  {
   "cell_type": "code",
   "execution_count": 4,
   "metadata": {},
   "outputs": [
    {
     "data": {
      "text/html": [
       "\n",
       "    <div id=\"third-degree-b-spline-demo-container\"></div>\n",
       "    <script>require(['js/third-degree-b-spline-demo'], main => main($(\"#third-degree-b-spline-demo-container\"), 'third-degree-b-spline-demo'));</script>\n",
       "    "
      ],
      "text/plain": [
       "<IPython.core.display.HTML object>"
      ]
     },
     "execution_count": 4,
     "metadata": {},
     "output_type": "execute_result"
    }
   ],
   "source": [
    "addScript(\"js/third-degree-b-spline-demo\", \"third-degree-b-spline-demo\")"
   ]
  },
  {
   "cell_type": "markdown",
   "metadata": {},
   "source": [
    "## Racionális B-Spline görbe"
   ]
  },
  {
   "cell_type": "markdown",
   "metadata": {},
   "source": [
    "Eddig csupa polinomiális görbetípussal foglalkoztunk, melyek egyre jobb és jobb tulajdonságokkal bírtak. Azonban akárhogyan próbálkozunk, ezek nem képesek bizonyos görbék pontos leírására. Például a NUBS segítségével nem tudunk pontosan kört vagy ellipszist leírni.\n",
    "\n",
    "A probléma megoldását a racionális görbék jelentik, a B-Spline racionális változatát NURBS-nek, azaz **N**em-**U**niform **R**acionális **B**-**S**pline görbének nevezik."
   ]
  },
  {
   "cell_type": "markdown",
   "metadata": {},
   "source": [
    "### Súlyok"
   ]
  },
  {
   "cell_type": "markdown",
   "metadata": {},
   "source": [
    "A NURBS görbéhez újabb nem-geometriai paraméterekre, úgynevezett súlyokra van szükség. Minden kontrollpont rendelkezni fog egy súllyal, mely nullánál nagyobb értéket kell, hogy felvegyen. Az $i$-edik kontrollpont súlyát $w_i$-vel fogjuk jelölni.\n",
    "\n",
    "A súlyoknak nem a konkrét értéke a fontos, hanem az egymáshoz viszonyított aránya. Ha az összes kontrollpont súlya $10$, akkor ugyanazt a görbét kapjuk, mint ha mindegyiknek a súlya $0{,}1$ lenne. \n",
    "\n",
    "Minél nagyobb súllyal rendelkezik egy kontrollpont a többihez képest, annál inkább hatással lesz a görbe alakjára; a görbe annál jobban megközelíti az adott pontot."
   ]
  },
  {
   "cell_type": "markdown",
   "metadata": {},
   "source": [
    "### Definíció"
   ]
  },
  {
   "cell_type": "markdown",
   "metadata": {},
   "source": [
    "Legyenek adottak a $P_0, P_1, \\ldots, P_{n}$ kontrollpontok, a $w_0, w_1, \\ldots, w_n$ súlyok, a görbe $p$ foka, és az $U$ csomóvektor. Ekkor a NURBS görbét a következő függvény írja le:\n",
    "\n",
    "$$\n",
    "Q(t) = \\sum_{i=0}^{n}R_{i, p}(t)P_i \\qquad t \\in \\lbrack t_p, t_{n + 1} \\rbrack,\n",
    "$$\n",
    "\n",
    "ahol $R_{i, p}$ az $i$-edik $p$-edfokú NURBS súlyfüggvény:\n",
    "\n",
    "$$\n",
    "R_{i, p}(t) = \\frac{N_{i, p}(t) \\cdot w_i}{\\sum\\limits_{j = 0}^{n}N_{j, p}(t) \\cdot w_j}.\n",
    "$$\n",
    "\n",
    "Tehát a NURBS annyiban különbözik a NUBS görbétől, hogy a kontrollpontok kombinációjának súlyozott átlagát vesszük."
   ]
  },
  {
   "cell_type": "markdown",
   "metadata": {},
   "source": [
    "### Demonstráció"
   ]
  },
  {
   "cell_type": "markdown",
   "metadata": {},
   "source": [
    "A demonstráció a NURBS görbét szemlélteti. Kattintással helyezhetőek el új kontrollpontok, és vonszolással helyezhetőek át a meglevőek. A görbe kirajzolásához legalább három darab kontrollpontot kell elhelyezni. A csomóértékek és a fokszám módosítását lehetővé tevő mezők csak ezután fognak megjelenni. Ha az egérmutató egy kontrollpont fölött van, akkor az adott kontrollponthoz tartozó súlyt az egérgörgő segítségével módosíthatjuk."
   ]
  },
  {
   "cell_type": "code",
   "execution_count": 5,
   "metadata": {},
   "outputs": [
    {
     "data": {
      "text/html": [
       "\n",
       "    <div id=\"nurbs-homework-container\"></div>\n",
       "    <script>require(['js/nurbs-homework'], main => main($(\"#nurbs-homework-container\"), 'nurbs-homework'));</script>\n",
       "    "
      ],
      "text/plain": [
       "<IPython.core.display.HTML object>"
      ]
     },
     "execution_count": 5,
     "metadata": {},
     "output_type": "execute_result"
    }
   ],
   "source": [
    "addScript(\"js/nurbs-homework\", \"nurbs-homework\")"
   ]
  },
  {
   "cell_type": "markdown",
   "metadata": {},
   "source": [
    "## Források"
   ]
  },
  {
   "cell_type": "markdown",
   "metadata": {},
   "source": [
    "* C.-K. Shene (2014). *CS3621 Introduction to Computing with Geometry Notes* https://pages.mtu.edu/~shene/COURSES/cs3621/NOTES/\n",
    "* J. F. Hughes, A. van Dam (2013). *Computer Graphics: Principles and Practice*, Third Edition, Chapter 22W, pp. 100-122. http://dept.cs.williams.edu/~morgan/cgpp/file/cgpp3e_ch22W.pdf\n",
    "* Dr. Kovács Emőd (2011). *Komputergrafika: Matematikai alapok*. pp. 94-102. http://aries.ektf.hu/~hz/pdf-tamop/pdf-01/download/grafika.pdf"
   ]
  },
  {
   "cell_type": "code",
   "execution_count": 6,
   "metadata": {},
   "outputs": [
    {
     "data": {
      "text/html": [
       "<style>\n",
       ".prompt{\n",
       "    display: None;\n",
       "}\n",
       "canvas {\n",
       "    display: block;\n",
       "    margin-left: auto;\n",
       "    margin-right: auto;\n",
       "    border: 1px solid #42A5F5;\n",
       "}\n",
       "div.output_png {\n",
       "    display: block;\n",
       "}\n",
       "div.output_subarea {\n",
       "    max-width: 100%;\n",
       "    text-align: center;\n",
       "}\n",
       ".canvas-controller {\n",
       "    position: relative;\n",
       "    top: 50%;\n",
       "    transform: translateY(-50%);\n",
       "}\n",
       ".controller-input-container {\n",
       "    display: flex;\n",
       "    align-items: center;\n",
       "    text-align: left;\n",
       "    margin-bottom: 1em;\n",
       "}\n",
       ".controller-input-container label {\n",
       "    width: 10em;\n",
       "}\n",
       ".slider-container {\n",
       "    display: flex;\n",
       "    flex-grow: 1;\n",
       "}\n",
       ".slider-container input {\n",
       "    flex-grow: 1;\n",
       "}\n",
       ".slider-min-label {\n",
       "    padding-right: 1em;\n",
       "}\n",
       ".slider-max-label {\n",
       "    padding-left: 1em;\n",
       "}\n",
       ".knot-container {\n",
       "    flex: 1 1 auto;\n",
       "    margin-bottom: 1em;\n",
       "}\n",
       ".knot-container input {\n",
       "    width: 100%;\n",
       "}\n",
       ".knot-container-heading {\n",
       "    text-align: left;\n",
       "    padding-bottom: 1em;\n",
       "}\n",
       "</style>\n",
       "<script>\n",
       "MathJax.Hub.Config({\n",
       "    TeX: {\n",
       "        extensions: [\"AMSmath.js\"]\n",
       "    },\n",
       "    tex2jax: {\n",
       "        inlineMath: [ ['$','$'], [\"\\\\(\",\"\\\\)\"] ],\n",
       "        displayMath: [ ['$$','$$'], [\"\\\\[\",\"\\\\]\"] ]\n",
       "    },\n",
       "    displayAlign: 'center',\n",
       "    \"HTML-CSS\": {\n",
       "        styles: {'.MathJax_Display': {\"margin\": 4}}\n",
       "    }\n",
       "});\n",
       "</script>"
      ],
      "text/plain": [
       "<IPython.core.display.HTML object>"
      ]
     },
     "execution_count": 6,
     "metadata": {},
     "output_type": "execute_result"
    }
   ],
   "source": [
    "def styling():\n",
    "    styles = open(\"../../styles/custom.html\", \"r\").read()\n",
    "    return HTML(styles)\n",
    "styling()\n"
   ]
  }
 ],
 "metadata": {
  "kernelspec": {
   "display_name": "Python 3",
   "language": "python",
   "name": "python3"
  },
  "language_info": {
   "codemirror_mode": {
    "name": "ipython",
    "version": 3
   },
   "file_extension": ".py",
   "mimetype": "text/x-python",
   "name": "python",
   "nbconvert_exporter": "python",
   "pygments_lexer": "ipython3",
   "version": "3.6.1"
  }
 },
 "nbformat": 4,
 "nbformat_minor": 2
}
