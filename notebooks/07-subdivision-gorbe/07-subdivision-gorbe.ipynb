{
 "cells": [
  {
   "cell_type": "code",
   "execution_count": 1,
   "metadata": {},
   "outputs": [
    {
     "data": {
      "text/html": [
       "\n",
       "    <script>require.config({ baseUrl: 'https://rawgit.com/kompgraf/course-material/master/assets/' });</script>\n",
       "    "
      ],
      "text/plain": [
       "<IPython.core.display.HTML object>"
      ]
     },
     "execution_count": 1,
     "metadata": {},
     "output_type": "execute_result"
    }
   ],
   "source": [
    "from IPython.core.display import HTML\n",
    "from string import Template\n",
    "def jsConfig():\n",
    "    src = \"\"\"\n",
    "    <script>require.config({ baseUrl: 'https://rawgit.com/kompgraf/course-material/master/assets/' });</script>\n",
    "    \"\"\"\n",
    "    return HTML(src)\n",
    "def addScript(script, identifier):\n",
    "    src = Template(\"\"\"\n",
    "    <div id=\"${identifier}-container\"></div>\n",
    "    <script>require(['${script}'], main => main($$(\"#${identifier}-container\"), '${identifier}'));</script>\n",
    "    \"\"\")\n",
    "    return HTML(src.substitute(script = script, identifier = identifier))\n",
    "jsConfig()\n"
   ]
  },
  {
   "cell_type": "markdown",
   "metadata": {},
   "source": [
    "# Subdivision-görbe"
   ]
  },
  {
   "cell_type": "markdown",
   "metadata": {
    "collapsed": true
   },
   "source": [
    "## Bevezetés"
   ]
  },
  {
   "cell_type": "markdown",
   "metadata": {},
   "source": [
    "Az eddigi jegyzetekben görbék úgynevezett paraméteres előállítási módjaival foglalkoztunk. Ezek polinomfüggvények segítségével állították elő a görbepontokat, s egyúttal stabil matematikai alapot is adtak, egyszerűvé téve a görbe különböző tulajdonságainak vizsgálatát.\n",
    "\n",
    "A *subdivision*-módszerek másfajta megközelítést alkalmazva törekednek görbék előállítására. E jegyzetben több különböző subdivision-módszer kerül bemutatásra."
   ]
  },
  {
   "cell_type": "markdown",
   "metadata": {},
   "source": [
    "## Az ötlet"
   ]
  },
  {
   "cell_type": "markdown",
   "metadata": {},
   "source": [
    "A subdivision-görbék alapötletét George Chaikin fogalmazta meg 1974-ben. Ahelyett, hogy megfelelő polinomot alkalmaznánk, ami egy kívánatos tulajdonságokkal rendelkező görbét képez, valamilyen generatív eljárást definiálunk, ami közvetlenül a kontrollpoligonnal dolgozik. Az eljárás lényege, hogy a kontrollpoligont sorozatos finomításoknak vetjük alá. Minden egyes finomítást követően egy új, a megelőzőnél több kontrollpontból álló kontrollpoligon jön létre. A cél, hogy tetszőleges számú iteráció után a kontrollpoligon valamilyen megfelelő, sima görbéhez konvergáljon. \n",
    "\n",
    "A Chaikin-féle eljárás egy úgynevezett *corner-cutting* séma, mely minden iteráció során a kontrollpoligon sarkait kerekíti le, ilyen módon közelítve egy sima görbét. A finomítások során minden két egymást követő kontrollpontpárt összekötő szakaszon két új kontrollpontot helyezünk el. Az egyik pont a szakasz $\\frac{1}{4}$, a másik a szakasz $\\frac{3}{4}$ értéknél levő osztópontja lesz. Az így kapott pontok összekötése adja a következő kontrollpoligont."
   ]
  },
  {
   "cell_type": "markdown",
   "metadata": {},
   "source": [
    "<img src=\"data:image/png;base64,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\"/>\n",
    "<div style=\"text-align:center\">A Chaikin-féle subdvision eljárás két finomítása</div>"
   ]
  },
  {
   "cell_type": "markdown",
   "metadata": {},
   "source": [
    "A Chaikin-féle eljárás, és általában a subdivision előnye, hogy rendkívül szemléletes, ennek folytán könnyen érthető, valamint egyszerűen implementálható. Hátránya azonban, hogy nem mindig egyértelmű, hogy mi garantálja azt, hogy a finomítások után előálló kontrollpoligon valóban egy sima görbe lesz. "
   ]
  },
  {
   "cell_type": "markdown",
   "metadata": {},
   "source": [
    "## A subdivision-módszerek leírása"
   ]
  },
  {
   "cell_type": "markdown",
   "metadata": {},
   "source": [
    "Legyenek az eredeti kontrollpoligont alkotó pontok $P^0_0, P^0_1, P^0_2, \\ldots, P^0_{n_0}$! Általánosan, az $i$-edik finomítás után előállíó kontrollpoligont jelölje $P^i$, ennek a $j$-edik pontját pedig $P^i_j$, ahol $j \\leq 0 \\leq n_i$.\n",
    "\n",
    "A módszerek sokszínűsége miatt ennél többet általánosan már nem tudunk mondani. Bár az eddigi megfogalmazásokból úgy tűnhet, még az sem kötelező, hogy a finomítások növeljék a kontrollpontok számát. Az egyik legismertebb subdivision-módszer, a *de Casteljau*-algoritmus például minden iteráció alkalmával csökkenti a kontrollpontok számát, addig, míg egy görbepont elő nem áll."
   ]
  },
  {
   "cell_type": "markdown",
   "metadata": {},
   "source": [
    "### Jellemzők"
   ]
  },
  {
   "cell_type": "markdown",
   "metadata": {},
   "source": [
    "Habár a subdivision-módszerek rendkívül sokszínűek, van néhány jellemző, melynek mentén osztályokba sorolhatóak."
   ]
  },
  {
   "cell_type": "markdown",
   "metadata": {},
   "source": [
    "#### Kontrollpontok száma"
   ]
  },
  {
   "cell_type": "markdown",
   "metadata": {},
   "source": [
    "Ha az egyes finomítások növelik a kontrollpontok számát, akkor a módszert **increasing**nek nevezzük. Ekkor a végső $Q$ görbe (feltéve, hogy az alkalmazott subdivision-módszer megfelelő tulajdonságú) tetszőleges sok iteráció alkalmazásának eredménye lesz, azaz\n",
    "\n",
    "$$\n",
    "Q = \\lim_{n \\rightarrow \\infty} P^n.\n",
    "$$\n",
    "\n",
    "Ellenkező esetben **decreasing** eljárásról beszélhetünk."
   ]
  },
  {
   "cell_type": "markdown",
   "metadata": {},
   "source": [
    "#### Felhasznált kontrollpontok"
   ]
  },
  {
   "cell_type": "markdown",
   "metadata": {},
   "source": [
    "Amennyiben a soron következő finomítás egy adott kontrollpontját az aktuális kontrollpoligonnak csak kevés pontja határozza meg, úgynevezett **locality** sémáról beszélünk."
   ]
  },
  {
   "cell_type": "markdown",
   "metadata": {},
   "source": [
    "#### A kontrollpontok előállításának módja az egyes pontok függvényében"
   ]
  },
  {
   "cell_type": "markdown",
   "metadata": {},
   "source": [
    "Ha minden új kontrollpontot azonos módon számolunk ki, akkor az eljárás **stationary**, egyébként **non-stationary**. Utóbbi esetben azt, hogy hányféle szabályt alkalmazunk, a módszer **aritásának** (**arity**) nevezzük. A Chaikin-módszer például bináris (**binary**)."
   ]
  },
  {
   "cell_type": "markdown",
   "metadata": {},
   "source": [
    "#### A kontrollpontok előállításának módja a finomítások függvényében"
   ]
  },
  {
   "cell_type": "markdown",
   "metadata": {},
   "source": [
    "Egy séma **uniform** abban az esetben, ha függetlenül attól, hogy hanyadik iterációnál tartunk, a finomítás végrehajtásának módja azonos. Azaz nem változik a finomítási séma az iterációk számának növekedésével."
   ]
  },
  {
   "cell_type": "markdown",
   "metadata": {},
   "source": [
    "### A subdivision-maszk"
   ]
  },
  {
   "cell_type": "markdown",
   "metadata": {},
   "source": [
    "Vizsgáljunk most meg egy rendkívül rugalmas definíciót, melynek segítségével leírhatóak az olyan subdivision-módszerek, melyek a soron következő finomítás során csak az aktuális kontrollpoligont használják.\n",
    "\n",
    "Álljon elő a finomított kontrollpoligon egy adott pontja a megelőző (vagyis aktuális) kontrollpoligon pontjainak lineáris kombinációjaként:\n",
    "\n",
    "$$\n",
    "P^k_j = \\sum\\limits_{i = 0}^{n_{k - 1}}\\alpha_{i, j, k}P^{k-1}_i .\n",
    "$$\n",
    "\n",
    "Adott $j$ és $k$ esetén az $\\alpha_{i, j, k}$ $(i = 0, 1, \\ldots, n_{k-1})$ értékek egy úgynevezett subdivision *maszk*ot alkotnak.\n",
    "\n",
    "Ha egy séma **locality** tulajdonsággal bír, akkor a maszkot javarészt $0$ értékek alkotják. **Uniform** tulajdonság esetén bármely $k$-ra azonos lesz a séma. Végül, ha $j$ nem befolyásolja a maszkot alkotó értékeket, akkor a séma **stationary**. Ezeken felül a subdivision-maszk **increasing** és **decreasing** módszerek leírását is lehetővé teszi."
   ]
  },
  {
   "cell_type": "markdown",
   "metadata": {},
   "source": [
    "## Példák"
   ]
  },
  {
   "cell_type": "markdown",
   "metadata": {},
   "source": [
    "### de Casteljau-algoritmus"
   ]
  },
  {
   "cell_type": "markdown",
   "metadata": {},
   "source": [
    "Írjuk le maszk segítségével a de Castaljau-algoritmust egy adott $t$ paraméterérték esetén! Ismétlésül, adott $t$ esetén az algoritmus az egymást követő kontrollpontokat összekötő szakasz $t$-nek megfelelő osztópontját képzi. Ezt addig folytatja, amíg már nincsen több szakasz, azaz előállt egyetlent pont, amely a Bézier-görbe $t$ paraméterértékhez tartozó pontja lesz.\n",
    "\n",
    "Tehát\n",
    "\n",
    "$$\n",
    "P^k_j = (1 - t) \\cdot P^{k - 1}_j + t \\cdot P^{k - 1}_{j + 1} \\qquad j = 0, 1, \\ldots, n_{k - 1} - 1,\n",
    "$$\n",
    "\n",
    "azaz bármely $k$ (ami azt jelenti, hogy akárhanyadik finomítási iteráció $\\rightarrow$ **uniform**) és bármely $j$ (azaz mindegyik kontrollpont $\\rightarrow$ **stationary**) esetén\n",
    "\n",
    "$$\n",
    "\\begin{align*}\n",
    "    \\alpha_{j, j, k} &= 1 - t \\\\\n",
    "    \\alpha_{j + 1, j, k} &= t \\\\\n",
    "    \\alpha_{i, j, k} &= 0  \\quad \\text{ ha } i \\neq j \\text{ és } i \\neq j + 1\n",
    "\\end{align*}\n",
    "$$\n",
    "\n",
    "Mivel a sorozatos finomítások csökkentik a kontrollpontok számát, ezért ez egy **decreasing** subdivision-módszer lesz, ami jól látszik a számítást illusztráló ábrán is."
   ]
  },
  {
   "cell_type": "markdown",
   "metadata": {},
   "source": [
    "<img src=\"data:image/png;base64,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\" />"
   ]
  },
  {
   "cell_type": "markdown",
   "metadata": {},
   "source": [
    "<div style=\"text-align: center\">A de Casteljau-algoritmus $k$-adik finomítása</div>"
   ]
  },
  {
   "cell_type": "markdown",
   "metadata": {},
   "source": [
    "### Chaikin-módszer"
   ]
  },
  {
   "cell_type": "markdown",
   "metadata": {},
   "source": [
    "Folytassuk a jegyzet elején is említett Chaikin-módszer maszkot alkalmazó leírásával! Ahogyan az ábráról is leolvasható, ez az eljárás **increasing** lesz; minden finomítás kétszeresére növeli a kontrollpontok számát. \n",
    "\n",
    "A módszer lényege, hogy az egymást követő kontrollpontokat összekötő szakaszokon két új kontrollpontot helyezünk el. E két pontot különböző módon kell számolnunk, azaz az eljárás ** binary non-stationary**.\n",
    "\n",
    "A finomított kontrollpoligon páros indexű pontjait a következő képlet alapján számolhatjuk:\n",
    "\n",
    "$$\n",
    "P^{k}_{2j} = \\frac{3}{4} P^{k-1}_{j} + \\frac{1}{4} P^{k-1}_{j + 1} \\qquad j = 0, 1, \\ldots, n_{k-1} - 1.\n",
    "$$\n",
    "\n",
    "A páratlan indexűeket pedig szimmetrikus módon:\n",
    "\n",
    "$$\n",
    "P^{k}_{2j + 1} = \\frac{1}{4} P^{k-1}_{j} + \\frac{3}{4} P^{k-1}_{j + 1} \\qquad j = 0, 1, \\ldots, n_{k-1} - 1.\n",
    "$$\n",
    "\n",
    "Így a maszkot a következőképpen definiálhatjuk. Ha $j$ páros, akkor \n",
    "\n",
    "$$\n",
    "\\begin{align*}\n",
    "\\alpha_{\\frac{j}{2}, j, k} &= \\frac{3}{4} \\\\\n",
    "\\alpha_{\\frac{j}{2} + 1, j, k} &= \\frac{1}{4}\n",
    "\\end{align*}\n",
    "$$\n",
    "\n",
    "a maszk többi eleme pedig $0$. Ha $j$ páratlan, akkor szintén csak két $0$-tól különböző elem lesz:\n",
    "\n",
    "$$\n",
    "\\begin{align*}\n",
    "\\alpha_{\\frac{j - 1}{2}, j, k} &= \\frac{1}{4} \\\\\n",
    "\\alpha_{\\frac{j - 1}{2} + 1, j, k} &= \\frac{3}{4}\n",
    "\\end{align*}.\n",
    "$$"
   ]
  },
  {
   "cell_type": "markdown",
   "metadata": {},
   "source": [
    "#### Demonstráció"
   ]
  },
  {
   "cell_type": "markdown",
   "metadata": {},
   "source": [
    "A következő demonstráció Chaikin-módszerrel előállított subdivision-görbét mutat be. A kék téglalapba kattintva tudunk elhelyezni kontrollpontokat. Három kontrollpont elhelyezését követően megkezdődik a görbe kirajzolása.\n",
    "\n",
    "A *Finomítás* feliratú gomb segítségével hajthatunk végre egy finomítási iterációt. Ha már legalább egy finomítást végeztünk, akkor a kontrollpontok már *nem* lesznek mozgathatóak, és új kontrollpontok sem lesznek elhelyezhetőek. Ahhoz, hogy új görbét állíthassunk elő, a *Pontok törlése* gombra kattintva előbb ki kell törölnünk a meglevő kontrollpontokat."
   ]
  },
  {
   "cell_type": "code",
   "execution_count": 2,
   "metadata": {},
   "outputs": [
    {
     "data": {
      "text/html": [
       "\n",
       "    <div id=\"chaikin-subdivision-container\"></div>\n",
       "    <script>require(['js/chaikin-subdivision'], main => main($(\"#chaikin-subdivision-container\"), 'chaikin-subdivision'));</script>\n",
       "    "
      ],
      "text/plain": [
       "<IPython.core.display.HTML object>"
      ]
     },
     "execution_count": 2,
     "metadata": {},
     "output_type": "execute_result"
    }
   ],
   "source": [
    "addScript(\"js/chaikin-subdivision\", \"chaikin-subdivision\")"
   ]
  },
  {
   "cell_type": "markdown",
   "metadata": {},
   "source": [
    "## Midpoint Subdivision"
   ]
  },
  {
   "cell_type": "markdown",
   "metadata": {},
   "source": [
    "A midpoint subdivision eljárások egy családját jelenti, melyeknek közös jellemzője, hogy mindegyik egymást követő kontrollpontot összekötő szakasz felezőpontján elhelyeznek egy új kontrollpontot. Ezek az újonnan képzett pontok, és az aktuális kontrollpoligon pontjainak valamilyen elmozdításával kapott pontok fogják alkotni az új kontrollpoligont. Így egy finomítási iterációt követően, ha $n + 1$ pontból indultunk ki, akkor $2n + 1$ kontrollpontunk lesz.\n",
    "\n",
    "A jegyzetben csak egy példát fogunk megvizsgálni, mely a következő módon működik. Először képezzünk a midpointokat! Ezután mozgassuk el az aktuális kontrollpoligon minden egyes pontját a szomszédainak függvényében:\n",
    "\n",
    "$$\n",
    "P_i^{\\prime}=(1-2s)P_i + sP_{i - 1} + sP_{i + 1},\n",
    "$$\n",
    "\n",
    "ahol $s$ azt befolyásolja, hogy a szomszédok milyen súllyal szólnak bele az új pont pozíciójába. Végül az így kapott pontokat adjuk hozzá az új kontrollpoligonhoz. Vegyük észre, hogy ez a séma szimmetrikus, hiszen a megelőző és a rákövetkező szomszéd is azonos súllyal rendelkezik. Felírható azonban a képlet pontonként eltérő súlyokkal is."
   ]
  },
  {
   "cell_type": "markdown",
   "metadata": {},
   "source": [
    "### Definíció maszk segítségével"
   ]
  },
  {
   "cell_type": "markdown",
   "metadata": {},
   "source": [
    "#### Végpontok\n",
    "\n",
    "Mivel az első kontrollpontnak nincsen megelőzője, az utolsónak pedig rákövetkezője, így ezeket nem fogjuk elmozdítani. Tehát bármely $k$ esetén, ha $j = 0$ vagy $j = n_k$, akkor \n",
    "\n",
    "$$\n",
    "\\alpha_{i, j, k} = 0 \\qquad \\forall i\n",
    "$$\n",
    "\n",
    "#### Midpointok\n",
    "\n",
    "Következzenek a midpointok! Ezek a páratlan indexű pontok lesznek:\n",
    "\n",
    "$$\n",
    "P^{k}_{2j + 1} = \\frac{1}{2}P^{k - 1}_{j} + \\frac{1}{2}P^{k - 1}_{j + 1} \\qquad j = 0, 1, \\ldots, n_{k - 1} - 1,\n",
    "$$\n",
    "\n",
    "azaz a maszk a következő módon alakul:\n",
    "\n",
    "$$\n",
    "\\begin{align*}\n",
    "\\alpha_{\\frac{j - 1}{2}, j, k} &= \\frac{1}{2} \\\\\n",
    "\\alpha_{\\frac{j - 1}{2} + 1, j, k} &= \\frac{1}{2}\n",
    "\\end{align*}.\n",
    "$$\n",
    "\n",
    "#### Elmozdított pontok\n",
    "\n",
    "A páros indexű pontok az elmozdított pontoknak fognak megfelelni, melyek meghatározását az előzőleg felírt képlettel végezzük:\n",
    "\n",
    "$$\n",
    "P^{k}_{2j}=(1-2s)P^{k - 1}_j + sP^{k - 1}_{j - 1} + sP^{k - 1}_{j + 1} \\qquad j = 1, \\ldots, n_{k - 1} - 1,\n",
    "$$\n",
    "\n",
    "ennek következtében a maszk:\n",
    "\n",
    "$$\n",
    "\\begin{align*}\n",
    "\\alpha_{\\frac{j}{2}, j, k} &= 1 - 2s \\\\\n",
    "\\alpha_{\\frac{j}{2} - 1, j, k} &= s \\\\\n",
    "\\alpha_{\\frac{j}{2} + 1 , j, k} &= s\n",
    "\\end{align*}.\n",
    "$$"
   ]
  },
  {
   "cell_type": "markdown",
   "metadata": {},
   "source": [
    "### Demonstráció"
   ]
  },
  {
   "cell_type": "markdown",
   "metadata": {},
   "source": [
    "A demonstráció az előzőleg felírt midpoint subdivision működését mutatja be, $s = \\frac{1}{8}$ esetén. A demonstráció ugyanúgy kezelhető, mint a Chakinin-módszert szemléltető demó."
   ]
  },
  {
   "cell_type": "code",
   "execution_count": 3,
   "metadata": {},
   "outputs": [
    {
     "data": {
      "text/html": [
       "\n",
       "    <div id=\"midpoint-subdivision-container\"></div>\n",
       "    <script>require(['js/midpoint-subdivision'], main => main($(\"#midpoint-subdivision-container\"), 'midpoint-subdivision'));</script>\n",
       "    "
      ],
      "text/plain": [
       "<IPython.core.display.HTML object>"
      ]
     },
     "execution_count": 3,
     "metadata": {},
     "output_type": "execute_result"
    }
   ],
   "source": [
    "addScript(\"js/midpoint-subdivision\", \"midpoint-subdivision\")"
   ]
  },
  {
   "cell_type": "markdown",
   "metadata": {},
   "source": [
    "## Források"
   ]
  },
  {
   "cell_type": "markdown",
   "metadata": {},
   "source": [
    "* J. F. Hughes, A. van Dam (2013). *Computer Graphics: Principles and Practice*, Third Edition, Chapter 22W, pp. 130-138. http://dept.cs.williams.edu/~morgan/cgpp/file/cgpp3e_ch22W.pdf\n",
    "* G. M. Chaikin (1974). An Algorithm for High-Speed Curve Generation\n",
    "* K. Joy. Refinement. http://graphics.cs.ucdavis.edu/education/CAGDNotes/Refinement/Refinement.html"
   ]
  },
  {
   "cell_type": "code",
   "execution_count": 4,
   "metadata": {},
   "outputs": [
    {
     "data": {
      "text/html": [
       "<style>\n",
       ".prompt{\n",
       "    display: None;\n",
       "}\n",
       "canvas {\n",
       "    display: block;\n",
       "    margin-left: auto;\n",
       "    margin-right: auto;\n",
       "    border: 1px solid #42A5F5;\n",
       "}\n",
       "div.output_png {\n",
       "    display: block;\n",
       "}\n",
       "div.output_subarea {\n",
       "    max-width: 100%;\n",
       "    text-align: center;\n",
       "}\n",
       ".canvas-controller {\n",
       "    position: relative;\n",
       "    top: 50%;\n",
       "    transform: translateY(-50%);\n",
       "}\n",
       ".controller-input-container {\n",
       "    display: flex;\n",
       "    align-items: center;\n",
       "    text-align: left;\n",
       "    margin-bottom: 1em;\n",
       "}\n",
       ".controller-input-container label {\n",
       "    width: 10em;\n",
       "}\n",
       ".slider-container {\n",
       "    display: flex;\n",
       "    flex-grow: 1;\n",
       "}\n",
       ".slider-container input {\n",
       "    flex-grow: 1;\n",
       "}\n",
       ".slider-min-label {\n",
       "    padding-right: 1em;\n",
       "}\n",
       ".slider-max-label {\n",
       "    padding-left: 1em;\n",
       "}\n",
       ".knot-container {\n",
       "    flex: 1 1 auto;\n",
       "    margin-bottom: 1em;\n",
       "}\n",
       ".knot-container input {\n",
       "    width: 100%;\n",
       "}\n",
       ".knot-container-heading {\n",
       "    text-align: left;\n",
       "    padding-bottom: 1em;\n",
       "}\n",
       "</style>\n",
       "<script>\n",
       "MathJax.Hub.Config({\n",
       "    TeX: {\n",
       "        extensions: [\"AMSmath.js\"]\n",
       "    },\n",
       "    tex2jax: {\n",
       "        inlineMath: [ ['$','$'], [\"\\\\(\",\"\\\\)\"] ],\n",
       "        displayMath: [ ['$$','$$'], [\"\\\\[\",\"\\\\]\"] ]\n",
       "    },\n",
       "    displayAlign: 'center',\n",
       "    \"HTML-CSS\": {\n",
       "        styles: {'.MathJax_Display': {\"margin\": 4}}\n",
       "    }\n",
       "});\n",
       "</script>"
      ],
      "text/plain": [
       "<IPython.core.display.HTML object>"
      ]
     },
     "execution_count": 4,
     "metadata": {},
     "output_type": "execute_result"
    }
   ],
   "source": [
    "def styling():\n",
    "    styles = open(\"../../styles/custom.html\", \"r\").read()\n",
    "    return HTML(styles)\n",
    "styling()\n"
   ]
  }
 ],
 "metadata": {
  "kernelspec": {
   "display_name": "Python 3",
   "language": "python",
   "name": "python3"
  },
  "language_info": {
   "codemirror_mode": {
    "name": "ipython",
    "version": 3
   },
   "file_extension": ".py",
   "mimetype": "text/x-python",
   "name": "python",
   "nbconvert_exporter": "python",
   "pygments_lexer": "ipython3",
   "version": "3.6.1"
  }
 },
 "nbformat": 4,
 "nbformat_minor": 2
}
