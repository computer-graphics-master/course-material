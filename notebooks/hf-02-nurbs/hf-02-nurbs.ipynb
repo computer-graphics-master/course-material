{
 "cells": [
  {
   "cell_type": "markdown",
   "metadata": {},
   "source": [
    "# NURBS"
   ]
  },
  {
   "cell_type": "markdown",
   "metadata": {},
   "source": [
    "## Áttekintés"
   ]
  },
  {
   "cell_type": "markdown",
   "metadata": {},
   "source": [
    "A feladat egy **NURBS**-görbe kirajzolására képes program elkészítése, mely a görbe megjelenítése mellett a görbe alakját befolyásoló adatok valós idejű változtatását is lehetővé teszi. A görbepontokat a gyakorlaton megismert képlet segítségével kell kiszámolni."
   ]
  },
  {
   "cell_type": "markdown",
   "metadata": {},
   "source": [
    "## Elvárt jellemzők"
   ]
  },
  {
   "cell_type": "markdown",
   "metadata": {},
   "source": [
    "### Általános elvárások"
   ]
  },
  {
   "cell_type": "markdown",
   "metadata": {},
   "source": [
    "A házi feladat megvédése *csak* akkor lehet sikeres, ha a program a jellemzőit tekintve hiánytalan. Az elvárt jellemzőket teljesítő program\n",
    "\n",
    "* megjeleníti a kontrollpontokat,\n",
    "* megjeleníti a kontrollpoligont,\n",
    "* tetszőleges számú kontrollpont elhelyezését teszi lehetővé,\n",
    "* már elhelyezett kontrollpont mozgatását lehetővé teszi (például *drag & drop* módszer segítségével),\n",
    "* lehetővé teszi a súlyok megváltoztatását,\n",
    "* lehetővé teszi a csomóértékek megváltoztatását, új csomó hozzáadását, a csomók számának csökkentését (természetesen a fokszám változtatásával),\n",
    "* által kirajzolt görbe valós időben követi a kontrollpontok, súlyok és csomóértékek megváltozását,\n",
    "* a görbepontok kiszámításához a gyakorlaton megismert képletet használja,\n",
    "* megakadályozza az illegális értékek megadását, azaz\n",
    "  * biztosítja, hogy a csomóvektor elemei monoton növekvő sorozatot alkotnak,\n",
    "  * biztosítja, hogy a csomóértékek száma minden pillanatban a kontrollpontok és a fokszám összege plusz egy,\n",
    "  * a fokszám értékét a megfelelő határok között tartja, azaz a fokszám nem lehet kisebb, mint $1$, és mindig kisebb, mint a kontrollpontok száma,\n",
    "  * biztosítja, hogy minden súly nagyobb, mint nulla."
   ]
  },
  {
   "cell_type": "markdown",
   "metadata": {},
   "source": [
    "### Felhasználói felület"
   ]
  },
  {
   "cell_type": "markdown",
   "metadata": {},
   "source": [
    "Olyan felhasználói felületet kell készíteni, mely lehetővé teszi a görbe alakját befolyásoló paraméterek kényelmes módosítását. Természetesen ez egy szubjektív, nem mérhető elvárás, azonban két tulajdonságot érdemes szem előtt tartani. Az egyik, hogy kézenfekvő módon lehessen változtatni a paramétereket. A másik pedig az, hogy a súlyok és a csomók aktuális értéke valamilyen módon mindig megjelenjen. \n",
    "\n",
    "Használhatunk például csúszkákat a súlyok módosításához, vagy kihasználhatjuk az egérgörgőt. Azaz, ha az egérmutatót egy kontrollpont fölé visszük, akkor a görgő segítségével módosíthatjuk a kontrollponthoz rendelt súlyt. Utána egy adott pont helyére a pont súlyával arányban álló sugarú kört rajzolhatunk."
   ]
  },
  {
   "cell_type": "markdown",
   "metadata": {},
   "source": [
    "## A kiszámítás módja"
   ]
  },
  {
   "cell_type": "markdown",
   "metadata": {},
   "source": [
    "Legyenek adottak a következők:\n",
    "\n",
    "* $n + 1$ darab kontrollpont: $P_0, P_1, \\ldots, P_{n}$,\n",
    "* $n + 1$ darab súly, oly módon, hogy $w_i > 0, \\; \\forall i = 0, 1, \\ldots, n$\n",
    "* $p$, a görbe foka, melyre teljesül, hogy $1 \\leq p \\leq n$\n",
    "* $n + 1 + p + 1$ (azaz a kontrollpontok száma és a fokszám plusz egy) darab csomóérték, melyekre teljesül, hogy\n",
    "\n",
    "  $$\n",
    "    t_i \\leq t_{i + 1}, \\; \\forall i = 0, 1, \\ldots, n + p\n",
    "  $$"
   ]
  },
  {
   "cell_type": "markdown",
   "metadata": {},
   "source": [
    "A görbét leíró függvény a következő:\n",
    "\n",
    "$$\n",
    "    Q(t) = \\sum_{i=0}^{n}R_{i, p}(t)P_i \\qquad t \\in \\lbrack t_p, t_{n + 1} \\rbrack,\n",
    "$$"
   ]
  },
  {
   "cell_type": "markdown",
   "metadata": {},
   "source": [
    "ahol\n",
    "\n",
    "$$\n",
    "R_{i, p}(t) = \\frac{N_{i, p}(t) \\cdot w_i}{\\sum\\limits_{j = 0}^{n}N_{j, p}(t) \\cdot w_j},\n",
    "$$"
   ]
  },
  {
   "cell_type": "markdown",
   "metadata": {},
   "source": [
    "és\n",
    "\n",
    "$$\n",
    "N_{i, 0}(t) = \n",
    "  \\begin{cases}\n",
    "    1, & \\text{ha } t_i \\leq t < t_{i + 1} \\\\\n",
    "    0, & \\text{egyébként}\n",
    "  \\end{cases}\n",
    "$$\n",
    "\n",
    "$$\n",
    "N_{i, p}(t) = \\frac{t - t_i}{t_{i + p} - t_i} \\cdot N_{i, p - 1}(t) + \\frac{t_{i + p + 1} - t}{t_{i + p + 1} - t_{i + 1}} \\cdot N_{i + 1, p - 1}(t).\n",
    "$$"
   ]
  },
  {
   "cell_type": "markdown",
   "metadata": {},
   "source": [
    "> A fenti képletben, ha bármely tört esetén a nevező értéke $0$ lenne, akkor a tört értékét definíció szerint $0$-nak tekintjük."
   ]
  },
  {
   "cell_type": "markdown",
   "metadata": {},
   "source": [
    "## Demonstráció"
   ]
  },
  {
   "cell_type": "markdown",
   "metadata": {},
   "source": [
    "Az elkészítendő program kipróbálható a lenti téglalapban. Kattintással helyezhetőek el új kontrollpontok, és vonszolással helyezhetőek át a meglevőek. A görbe kirajzolásához legalább három darab kontrollpontot kell elhelyezni. A csomóértékek és a fokszám módosítását lehetővé tevő mezők csak ezután fognak megjelenni. Ha az egérmutató egy kontrollpont fölött van, akkor az adott kontrollponthoz tartozó súlyt az egérgörgő segítségével módosíthatjuk.\n",
    "\n",
    "A demonstráció működéséhez a WebGL és ES6 technológiákat támogató böngésző szükséges."
   ]
  },
  {
   "cell_type": "code",
   "execution_count": null,
   "metadata": {
    "collapsed": true
   },
   "outputs": [],
   "source": [
    "addScript(\"js/nurbs-homework\", \"nurbs-homework\")"
   ]
  }
 ],
 "metadata": {
  "kernelspec": {
   "display_name": "Python 3",
   "language": "python",
   "name": "python3"
  },
  "language_info": {
   "codemirror_mode": {
    "name": "ipython",
    "version": 3
   },
   "file_extension": ".py",
   "mimetype": "text/x-python",
   "name": "python",
   "nbconvert_exporter": "python",
   "pygments_lexer": "ipython3",
   "version": "3.6.1"
  }
 },
 "nbformat": 4,
 "nbformat_minor": 2
}
