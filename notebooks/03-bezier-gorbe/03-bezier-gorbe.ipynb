{
 "cells": [
  {
   "cell_type": "code",
   "execution_count": 1,
   "metadata": {},
   "outputs": [
    {
     "data": {
      "text/html": [
       "\n",
       "    <script>require.config({ baseUrl: 'https://rawgit.com/kompgraf/course-material/master/assets/' });</script>\n",
       "    "
      ],
      "text/plain": [
       "<IPython.core.display.HTML object>"
      ]
     },
     "execution_count": 1,
     "metadata": {},
     "output_type": "execute_result"
    }
   ],
   "source": [
    "from IPython.core.display import HTML\n",
    "from string import Template\n",
    "def jsConfig():\n",
    "    src = \"\"\"\n",
    "    <script>require.config({ baseUrl: 'https://rawgit.com/kompgraf/course-material/master/assets/' });</script>\n",
    "    \"\"\"\n",
    "    return HTML(src)\n",
    "def addScript(script, identifier):\n",
    "    src = Template(\"\"\"\n",
    "    <div id=\"${identifier}-container\"></div>\n",
    "    <script>require(['${script}'], main => main($$(\"#${identifier}-container\"), '${identifier}'));</script>\n",
    "    \"\"\")\n",
    "    return HTML(src.substitute(script = script, identifier = identifier))\n",
    "jsConfig()\n"
   ]
  },
  {
   "cell_type": "markdown",
   "metadata": {},
   "source": [
    "# Bézier-görbe"
   ]
  },
  {
   "cell_type": "markdown",
   "metadata": {},
   "source": [
    "## Bevezetés"
   ]
  },
  {
   "cell_type": "markdown",
   "metadata": {},
   "source": [
    "Az Hermite-ívet követően a Bézier-görbével fogunk foglalkozni. Ez egy rendkívül széles körben használt, nagyon jó tulajdonságokkal rendelkező, könnyen implementálható görbe. Ellentétben az Hermite-ívvel, a Bézier-görbéhez nem szükséges érintővektorokat specifikálni, elegendő csupán kontrollpontokat megadnunk.\n",
    "\n",
    "A Bézier-görbe a következő feladatra egy lehetséges válasz:\n",
    "\n",
    "> Keresünk egy olyan görbét, amely az elsőként és utolsóként megadott kontrollpontokon áthalad, a többit pedig sorrendben közelíti.\n",
    "\n",
    "Vegyük észre, hogy nincsen a kontrollpontok számára vonatkozó korlát. Bézier-görbét tetszőleges számú kontrollpontra illeszthetünk, azonban a kontrollpontok számának növekedésével a számítások instabillá válhatnak, a görbe előnytelen tulajdonságai előtérbe kerülhetnek. Ennek következtében Bézier-görbét leggyakrabban csak négy kontrollpontra szokás illeszteni, harmadfokú görbét eredményezve."
   ]
  },
  {
   "cell_type": "markdown",
   "metadata": {},
   "source": [
    "## A de Casteljau-algoritmus"
   ]
  },
  {
   "cell_type": "markdown",
   "metadata": {},
   "source": [
    "Mielőtt az Hermite-ívhez hasonlóan felírnánk a paraméteres alakot, ismerkedjünk meg a Bézier-görbe előállításának egy másik, intuitívabb módjával, a de Casteljau-algoritmussal.\n",
    "\n",
    "A de Casteljau-algoritmus egy generatív eljárás, mely szakaszok megfelelő osztópontjának meghatározásán alapul, és segítségével akár papíron is könnyedén rajzolható a pontos eredményt nagyon jól közelítő Bézier-görbe. Legyenek adottak az $A$ és $B$ pontok, és egy $t \\in [0, 1]$ paraméterérték. $t$ egy arány lesz, mely azt határozza meg, hogy a szakasz két végpontja milyen súllyal játszik szerepet az osztópont előállításában. Ha $t=0$, akkor az eredmény a szakasz kezdőpontja, ha $t=1$, akkor a szakasz végpontja lesz. A következő képlettel tudjuk meghatározni az $A$ és $B$ pontok közé húzott szakasz $t$ paraméternek megfelelő $P$ osztópontját:\n",
    "\n",
    "$$\n",
    "P = (1 - t)A + tB\n",
    "$$\n",
    "\n",
    "A fenti képlet ismeretében már minden rendelkezésre áll az algoritmus leírásához. Ha a görbét a $P_0, P_1, \\ldots, P_n$ pontokra szeretnénk illeszteni, akkor a görbe $t$ paraméterhez tartozó pontját a következő eljárással kaphatjuk meg:"
   ]
  },
  {
   "cell_type": "markdown",
   "metadata": {},
   "source": [
    "1. Kiindulva a $P_0, P_1, \\ldots, P_n$ kontrollpontokból, képezzünk a szomszédos pontokból szakaszokat. $n+1$ kontrollpont esetén $n$ szakaszt fogunk kapni.\n",
    "1. Határozzuk meg az összes szakasz $t$-nek megfelelő osztópontját. Ha például $t=\\frac{1}{2}$, akkor a kapott pont a szakasz felezőpontja lesz.\n",
    "1. Az újonnan kapott pontokból képezzünk szakaszokat, ahogy a kontrollpontok esetén, az 1. lépésben is tettük.\n",
    "1. Folytassuk az eljárást a 2. lépéssel. Ha már nem tudunk több szakaszt létrehozni, azaz csak egy pontunk maradt, készen vagyunk. A legutoljára kapott pont lesz a görbe $t$ paraméterértékhez tartozó pontja."
   ]
  },
  {
   "cell_type": "markdown",
   "metadata": {},
   "source": [
    "### Demonstráció"
   ]
  },
  {
   "cell_type": "markdown",
   "metadata": {},
   "source": [
    "A következő demonstráció a de Casteljau-algoritmus működését mutatja be egy harmadfokú Bézier-görbe esetében. A kontrollpontok mozgathatóak, az éppen kiértékelt paraméterértéket pedig az egér jobbra-balra mozgatásával tudjuk változtatni a $[0, 1]$ intervallumon belül. A téglalap bal széléhez közelítve a paraméter értéke csökken, a jobb széle felé közeledve pedig nő."
   ]
  },
  {
   "cell_type": "code",
   "execution_count": 2,
   "metadata": {},
   "outputs": [
    {
     "data": {
      "text/html": [
       "\n",
       "    <div id=\"bezier-de-casteljau-demo-container\"></div>\n",
       "    <script>require(['js/bezier-de-casteljau-demo'], main => main($(\"#bezier-de-casteljau-demo-container\"), 'bezier-de-casteljau-demo'));</script>\n",
       "    "
      ],
      "text/plain": [
       "<IPython.core.display.HTML object>"
      ]
     },
     "execution_count": 2,
     "metadata": {},
     "output_type": "execute_result"
    }
   ],
   "source": [
    "addScript(\"js/bezier-de-casteljau-demo\", \"bezier-de-casteljau-demo\")"
   ]
  },
  {
   "cell_type": "markdown",
   "metadata": {},
   "source": [
    "## Paraméteres alak"
   ]
  },
  {
   "cell_type": "markdown",
   "metadata": {},
   "source": [
    "A bevezetésben említésre került, hogy Bézier-görbe esetén nincs a kontrollpontok számára vonatkozó korlát. Tudunk két pontra, de akár hétre is Bézier-görbét illeszteni. Ennek következtében a paraméteres alaknak nem csak $t$, hanem a kontrollpontok indexelésénél használt $n$ is paramétere lesz:\n",
    "\n",
    "$$\n",
    "B(n, t) = \\sum\\limits_{i=0}^{n} b_i(n, t) \\cdot P_i \\qquad t \\in [0, 1]\n",
    "$$\n",
    "\n",
    "> Vegyük észre, hogy az előző egyenlet, ha nem veszünk tudomást a kontrollpontok számára bevezetett $n$ paraméterről, akkor az Hermite-ív paraméteres egyenletéhez hasonlóan, nem más, mint a geometriai adatok súlyozott összege!\n",
    "\n",
    "A fenti egyenletben $b_i(n, t)$ az $i$-edik Bézier-súlyfüggvény, mely egy úgynevezett Bernstein-polinom, és a következőképpen adott:\n",
    "\n",
    "$$\n",
    "b_i(n, t) = \\binom{n}{i}t^{i}(1 - t)^{(n-i)},\n",
    "$$\n",
    "\n",
    "ahol\n",
    "\n",
    "$$\n",
    "\\binom{n}{i} = \n",
    "\\begin{cases}\n",
    "\\frac{n!}{i!(n-i)!} & \\text{ha } 0 \\leq i \\leq n \\\\\n",
    "0 & \\text{egyébként}\n",
    "\\end{cases}\n",
    "$$"
   ]
  },
  {
   "cell_type": "markdown",
   "metadata": {},
   "source": [
    "### Demonstráció"
   ]
  },
  {
   "cell_type": "markdown",
   "metadata": {},
   "source": [
    "A kék téglalapba kattintva kontrollpontokat helyezhetünk el (tetszőleges sokat), melyeket aztán szabadon mozgathatunk. Az elhelyezett pontokra az elhelyezés sorrendjének megfelelően Bézier-görbe lesz illesztve."
   ]
  },
  {
   "cell_type": "code",
   "execution_count": 3,
   "metadata": {},
   "outputs": [
    {
     "data": {
      "text/html": [
       "\n",
       "    <div id=\"bezier-demo-container\"></div>\n",
       "    <script>require(['js/bezier-demo'], main => main($(\"#bezier-demo-container\"), 'bezier-demo'));</script>\n",
       "    "
      ],
      "text/plain": [
       "<IPython.core.display.HTML object>"
      ]
     },
     "execution_count": 3,
     "metadata": {},
     "output_type": "execute_result"
    }
   ],
   "source": [
    "addScript(\"js/bezier-demo\", \"bezier-demo\")"
   ]
  },
  {
   "cell_type": "markdown",
   "metadata": {},
   "source": [
    "## Tulajdonságok"
   ]
  },
  {
   "cell_type": "markdown",
   "metadata": {},
   "source": [
    "A Bézier-görbe számos előnyös tulajdonsággal rendelkezik, tekintsünk át ezek közül néhány jelentőset.\n",
    "\n",
    "* Az előállított görbe az affin transzformációkra vonatkozóan invariáns. Ez azt jelenti, hogy ha affin transzformációt szeretnénk végrehajtani a görbén, azt elegendő csupán a kontrollpontokon elvégeznünk. A transzformált kontrollpontok által meghatározott görbe megegyezik az eredeti görbe transzformáltjával.\n",
    "* A $[0, 1]$ paramétertartományból képzett görbe a kontrollpontjainak konvex burkán belül halad.\n",
    "* A görbe szimmetrikus, azaz a $P_0, P_1, \\ldots, P_n$ és a $P_n, P_{n-1}, \\ldots, P_0$ kontrollpontok ugyanazt a görbét állítják elő.\n",
    "* A $[0, 1]$ paramétertartományban a görbe kezdő- és végérintői a következők:\n",
    "\n",
    "$$\n",
    "  B^{\\prime}(n, 0) = (n - 1)(P_1 - P_0) \\qquad B^{\\prime}(n, 1) = (n - 1)(P_n - P_{n-1})\n",
    "$$\n",
    "\n",
    "* A görbe globálisan változtatható, egy kontrollpont elmozdítása az egész görbe alakjára hatással van.\n",
    "* $n + 1$ kontrollpont esetén az előállított görbe $n$-edfokú lesz.\n",
    "* Minden, a görbét metsző egyenes pontosan annyiszor metszi a görbét, ahányszor a görbét meghatározó kontrollpontok összekötésével kapott kontrollpoligont. Ez az úgynevezett *variation diminishing* tulajdonság."
   ]
  },
  {
   "cell_type": "markdown",
   "metadata": {},
   "source": [
    "## Harmadfokú Bézier-görbe"
   ]
  },
  {
   "cell_type": "markdown",
   "metadata": {},
   "source": [
    "A jegyzetben leggyakrabban harmadfokú görbékkel, avagy polinomokkal fogunk találkozni, ezért írjuk fel a Bézier-görbe esetén is a harmadfokú paraméteres alakot! Természetesen ezt megtehetnénk egyszerűen a megfelelő Bernstein-polinomok használatával is, azonban induljunk ki inkább a feltételes alakból, ahogy az Hermite-ív esetén is."
   ]
  },
  {
   "cell_type": "markdown",
   "metadata": {},
   "source": [
    "### Feltételes és polinomiális alak"
   ]
  },
  {
   "cell_type": "markdown",
   "metadata": {},
   "source": [
    "Legyenek adottak a $P_0, P_1, P_2, P_3$ kontrollpontok és a következő feltételek:\n",
    "\n",
    "$$\n",
    "\\begin{align*}\n",
    "    B(0) &= P_0 \\\\\n",
    "    B(1) &= P_3 \\\\\n",
    "    B^{\\prime}(0) &= 3(P_1 - P_0) \\\\\n",
    "    B^{\\prime}(1) &= 3(P_3 - P_2)\n",
    "\\end{align*}\n",
    "$$\n",
    "\n",
    "> A deriváltra vonatkozó feltételek a görbe kezdő- és végérintőjének előző szakaszban ismertetett felírásából következnek.\n",
    "\n",
    "A görbét előállító $B(t)$ függvényt\n",
    "\n",
    "$$\n",
    "B(t) = \\sum\\limits_{i=0}^{3}b_i(t)\\cdot P_i \\qquad t \\in [0, 1]\n",
    "$$\n",
    "\n",
    "alakban keressük, ahol $b_i$ az $i$-edik súlyfüggvény. A súlyfüggvények mindegyike harmadfokú polinom:\n",
    "\n",
    "$$\n",
    "b_i(t) = a_i t^3 + b_i t^2 + c_i t + d_i.\n",
    "$$\n",
    "\n",
    "A feladat az együtthatók meghatározása a feltételek alapján. Tekintve, hogy a megoldás ugyanúgy áll elő, mint az Hermite-ív esetén, itt nem kerül levezetésre. A súlyfüggvények az egyenletek megoldása után tehát a következőek lesznek:\n",
    "\n",
    "$$\n",
    "\\begin{align*}\n",
    "b_0(t) &= -t^3 + 3t^2 -3t + 1 \\\\\n",
    "b_1(t) &= 3t^3 -6t^2 + 3t \\\\\n",
    "b_2(t) &= -3t^3 + 3t^2 \\\\\n",
    "b_3(t) &= t^3\n",
    "\\end{align*}\n",
    "$$\n",
    "\n",
    "Ábrázoljuk a súlyfüggvényeket!"
   ]
  },
  {
   "cell_type": "code",
   "execution_count": 3,
   "metadata": {
    "collapsed": true
   },
   "outputs": [],
   "source": [
    "%matplotlib inline\n",
    "import matplotlib\n",
    "import matplotlib.pyplot as plt\n",
    "import numpy as np"
   ]
  },
  {
   "cell_type": "code",
   "execution_count": 4,
   "metadata": {},
   "outputs": [
    {
     "data": {
      "image/png": "[encoded data removed]",
      "text/plain": [
       "<matplotlib.figure.Figure at 0x253559010b8>"
      ]
     },
     "metadata": {},
     "output_type": "display_data"
    }
   ],
   "source": [
    "def bezier():\n",
    "    t = np.linspace(0, 1, 100)\n",
    "\n",
    "    b0 = (-1*(t**3)) +  (3 * (t**2)) + (-3 * t) + 1\n",
    "    b1 =  (3*(t**3)) + (-6 * (t**2)) +  (3 * t)\n",
    "    b2 = (-3*(t**3)) +  (3 * (t**2))\n",
    "    b3 = t**3\n",
    "\n",
    "    fig = plt.figure()\n",
    "\n",
    "    axes = fig.add_axes([0, 0, 1, 1])\n",
    "\n",
    "    axes.set_xlim([0, 1])\n",
    "    axes.set_ylim([-0.3, 1.3])\n",
    "\n",
    "    axes.plot(t, b0, 'r', label='$b_0$')\n",
    "    axes.plot(t, b1, 'g', label='$b_1$')\n",
    "    axes.plot(t, b2, 'b', label='$b_2$')\n",
    "    axes.plot(t, b3, 'cyan', label='$b_3$')\n",
    "    \n",
    "    axes.axhline(y=0, color='k')\n",
    "    \n",
    "    axes.legend(loc=2);\n",
    "\n",
    "    axes.set_xlabel('t')\n",
    "    axes.set_title('Harmadfokú Bézier súlyfüggvények');\n",
    "\n",
    "\n",
    "bezier()"
   ]
  },
  {
   "cell_type": "markdown",
   "metadata": {},
   "source": [
    "### Mátrix alak"
   ]
  },
  {
   "cell_type": "markdown",
   "metadata": {},
   "source": [
    "Az előzőleg felírt súlyfüggvények alapján a harmadfokú Bézier-görbe a következőképpen írható fel mátrix alakban:\n",
    "\n",
    "$$\n",
    "B(t) = \n",
    "\\begin{bmatrix}\n",
    "P_0 & P_1 & P_2 & P_3\n",
    "\\end{bmatrix}\n",
    "\\cdot\n",
    "\\begin{bmatrix}\n",
    "-1 & 3 & -3 & 1 \\\\\n",
    "3 & -6 & 3 & 0 \\\\\n",
    "-3 & 3 & 0 & 0 \\\\\n",
    "1 & 0 & 0 & 0\n",
    "\\end{bmatrix}\n",
    "\\cdot\n",
    "\\begin{bmatrix}\n",
    "t^3 \\\\\n",
    "t^2 \\\\\n",
    "t \\\\ \n",
    "1\n",
    "\\end{bmatrix}.\n",
    "$$\n"
   ]
  },
  {
   "cell_type": "markdown",
   "metadata": {},
   "source": [
    "## Kapcsolat a Bézier-görbe és az Hermite-ív között"
   ]
  },
  {
   "cell_type": "markdown",
   "metadata": {},
   "source": [
    "Az előző jegyzetben az Hermite-ívet, a jelenlegiben pedig a Bézier-görbét ismertük meg. Nézzük meg, hogy milyen kapcsolatban áll a kettő egymással, lehetséges-e egymással ekvivalens Bézier-görbét és Hermite-ívet felírni?"
   ]
  },
  {
   "cell_type": "markdown",
   "metadata": {},
   "source": [
    "### Bézier-görbéből Hermite-ív"
   ]
  },
  {
   "cell_type": "markdown",
   "metadata": {},
   "source": [
    "Ha egy harmadfokú Bézier-görbe négy kontrollpontja $P_0, P_1, P_2, P_3$, akkor a vele ekvivalens Hermite-ív geometriai adatai a következőek:\n",
    "\n",
    "$$\n",
    "\\begin{align*}\n",
    "P &= P_0 \\\\\n",
    "Q &= P_3 \\\\\n",
    "v &= 3(P_1 - P_0) \\\\\n",
    "w &= 3(P_3 - P_2)\n",
    "\\end{align*}\n",
    "$$\n",
    "\n",
    "ahol $P$ és $Q$ a két kontrollpont, $v$ és $w$ pedig az e pontokba húzott érintővektor."
   ]
  },
  {
   "cell_type": "markdown",
   "metadata": {},
   "source": [
    "### Hermite-ívből Bézier-görbe"
   ]
  },
  {
   "cell_type": "markdown",
   "metadata": {},
   "source": [
    "Legyenek az Hermite-ívet definiáló geometriai adatok $P, Q, v, w$! Keressük azokat a $P_0, P_1, P_2, P_3$ kontrollpontokat, melyek az előző adatok által képzett Hermite-ívvel ekvivalens Bézier-görbét állítanak elő.\n",
    "\n",
    "Az Hermite-ív áthalad a $P$ és $Q$ pontokon, és így kell tennie a Bézier-görbének is. Tehát\n",
    "\n",
    "$$\n",
    "\\begin{align*}\n",
    "P_0 &= P \\\\\n",
    "P_3 &= Q\n",
    "\\end{align*}\n",
    "$$\n",
    "\n",
    "Az Hermite-ív esetén ismerjük ezen pontokban az érintővektorokat, míg a Bézier-görbe esetén tudjuk, hogyan kell kiszámítani őket a kontrollpontokból. Írjuk fel tehát a következő egyenleteket:\n",
    "\n",
    "$$\n",
    "\\begin{align*}\n",
    "v &= 3(P_1-P_0) \\\\\n",
    "w &= 3(P_3-P_2)\n",
    "\\end{align*}\n",
    "$$\n",
    "\n",
    "Eddig ugyanott tartunk, mint a fordított irányban. Azonban most az érintővektorok ismertek, és a köztes $P_1$, $P_2$ kontrollpontokat keressük. Az egyenletek átrendezése után ezek a következő formában adódnak:\n",
    "\n",
    "$$\n",
    "\\begin{align*}\n",
    "P_1 &= P_0 + \\frac{v}{3} \\\\\n",
    "P_2 &= P_3 - \\frac{w}{3}\n",
    "\\end{align*}\n",
    "$$\n",
    "\n",
    "Ezzel készen vagyunk, ismerjük mind a négy kontrollpontot."
   ]
  },
  {
   "cell_type": "markdown",
   "metadata": {},
   "source": [
    "## Források"
   ]
  },
  {
   "cell_type": "markdown",
   "metadata": {},
   "source": [
    "* Dr. Kovács Emőd (2011). *Komputergrafika: Matematikai alapok*. pp. 83-90. http://aries.ektf.hu/~hz/pdf-tamop/pdf-01/download/grafika.pdf\n",
    "* J. F. Hughes, A. van Dam (2013). Computer Graphics: Principles and Practice, Third Edition, Chapter 22W, pp. 82-86. http://dept.cs.williams.edu/~morgan/cgpp/file/cgpp3e_ch22W.pdf\n",
    "* P. Shirley, S. Marschner (2009). *Fundamentals of Computer Graphics*. Third Edition, pp. 365-375.\n",
    "* Mike Kamermans. *A Primer on Bézier Curves*. https://pomax.github.io/bezierinfo/\n",
    "\n",
    "Utóbbi forrás rendkívül ajánlott azoknak, akik többre kíváncsiak a Bézier-görbékkel kapcsolatban."
   ]
  },
  {
   "cell_type": "code",
   "execution_count": 4,
   "metadata": {},
   "outputs": [
    {
     "data": {
      "text/html": [
       "<style>\n",
       ".prompt{\n",
       "    display: None;\n",
       "}\n",
       "canvas {\n",
       "    display: block;\n",
       "    margin-left: auto;\n",
       "    margin-right: auto;\n",
       "    border: 1px solid #42A5F5;\n",
       "}\n",
       "div.output_png {\n",
       "    display: block;\n",
       "}\n",
       "div.output_subarea {\n",
       "    max-width: 100%;\n",
       "    text-align: center;\n",
       "}\n",
       ".canvas-controller {\n",
       "    position: relative;\n",
       "    top: 50%;\n",
       "    transform: translateY(-50%);\n",
       "}\n",
       ".controller-input-container {\n",
       "    display: flex;\n",
       "    align-items: center;\n",
       "    text-align: left;\n",
       "    margin-bottom: 1em;\n",
       "}\n",
       ".controller-input-container label {\n",
       "    width: 10em;\n",
       "}\n",
       ".slider-container {\n",
       "    display: flex;\n",
       "} \n",
       ".slider-min-label {\n",
       "    padding-right: 1em;\n",
       "}\n",
       ".slider-max-label {\n",
       "    padding-left: 1em;\n",
       "}\n",
       "</style>\n",
       "<script>\n",
       "MathJax.Hub.Config({\n",
       "    TeX: {\n",
       "        extensions: [\"AMSmath.js\"]\n",
       "    },\n",
       "    tex2jax: {\n",
       "        inlineMath: [ ['$','$'], [\"\\\\(\",\"\\\\)\"] ],\n",
       "        displayMath: [ ['$$','$$'], [\"\\\\[\",\"\\\\]\"] ]\n",
       "    },\n",
       "    displayAlign: 'center',\n",
       "    \"HTML-CSS\": {\n",
       "        styles: {'.MathJax_Display': {\"margin\": 4}}\n",
       "    }\n",
       "});\n",
       "</script>"
      ],
      "text/plain": [
       "<IPython.core.display.HTML object>"
      ]
     },
     "execution_count": 4,
     "metadata": {},
     "output_type": "execute_result"
    }
   ],
   "source": [
    "def styling():\n",
    "    styles = open(\"../../styles/custom.html\", \"r\").read()\n",
    "    return HTML(styles)\n",
    "styling()\n"
   ]
  }
 ],
 "metadata": {
  "kernelspec": {
   "display_name": "Python 3",
   "language": "python",
   "name": "python3"
  },
  "language_info": {
   "codemirror_mode": {
    "name": "ipython",
    "version": 3
   },
   "file_extension": ".py",
   "mimetype": "text/x-python",
   "name": "python",
   "nbconvert_exporter": "python",
   "pygments_lexer": "ipython3",
   "version": "3.6.1"
  }
 },
 "nbformat": 4,
 "nbformat_minor": 2
}
