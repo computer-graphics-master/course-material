{
 "cells": [
  {
   "cell_type": "code",
   "execution_count": 1,
   "metadata": {},
   "outputs": [
    {
     "data": {
      "text/html": [
       "\n",
       "    <script>require.config({ baseUrl: 'https://rawgit.com/kompgraf/course-material/master/assets/' });</script>\n",
       "    "
      ],
      "text/plain": [
       "<IPython.core.display.HTML object>"
      ]
     },
     "execution_count": 1,
     "metadata": {},
     "output_type": "execute_result"
    }
   ],
   "source": [
    "from IPython.core.display import HTML\n",
    "from string import Template\n",
    "def jsConfig():\n",
    "    src = \"\"\"\n",
    "    <script>require.config({ baseUrl: 'https://rawgit.com/kompgraf/course-material/master/assets/' });</script>\n",
    "    \"\"\"\n",
    "    return HTML(src)\n",
    "def addScript(script, identifier):\n",
    "    src = Template(\"\"\"\n",
    "    <div id=\"${identifier}-container\"></div>\n",
    "    <script>require(['${script}'], main => main($$(\"#${identifier}-container\"), '${identifier}'));</script>\n",
    "    \"\"\")\n",
    "    return HTML(src.substitute(script = script, identifier = identifier))\n",
    "jsConfig()\n"
   ]
  },
  {
   "cell_type": "markdown",
   "metadata": {},
   "source": [
    "# Cardinal Spline"
   ]
  },
  {
   "cell_type": "markdown",
   "metadata": {},
   "source": [
    "## Bevezetés"
   ]
  },
  {
   "cell_type": "markdown",
   "metadata": {},
   "source": [
    "A következő jegyzet a nevével ellentétben több görbével fog foglalkozni, nem csak a Cardinal Spline-nal. Megismerkedünk a Cardinal Spline egy speciális változatával, a Catmull-Rom Spline-nal, valamint egy általánosított verziójával, a Kochanek-Bartels Spline-nal."
   ]
  },
  {
   "cell_type": "markdown",
   "metadata": {},
   "source": [
    "## Mi az a spline görbe?"
   ]
  },
  {
   "cell_type": "markdown",
   "metadata": {},
   "source": [
    "A spline görbéket több, kisebb görbedarab megfelelő folytonosságú összeillesztésével nyerjük. A spline görbéket előállító függvények általában szakaszonként értelmezettek, és leggyakrabban harmadfokú polinom formájában adottak, azonban alacsonyabb vagy magasabb fokszámú polinomok is alkalmazhatóak."
   ]
  },
  {
   "cell_type": "markdown",
   "metadata": {},
   "source": [
    "### Görbék megadása szakaszonként definiált függvénnyel"
   ]
  },
  {
   "cell_type": "markdown",
   "metadata": {},
   "source": [
    "Előfordulhat, hogy egy görbét egy függvénnyel csak nehézkesen tudunk leírni. Ilyen esetben felbonthatjuk a görbét több kisebb darabra, melyek alkalmasan csatlakoznak egymáshoz. Viszont ez befolyásolja a görbe paraméteres alakját is. \n",
    "\n",
    "Tegyük fel, hogy egy görbét két kisebb, egyszerűbben felírható darabból szeretnénk összeilleszteni. Legyen az első darabot előállító függvény $f_0(t_0)$, ahol $t_0 \\in [0, 1]$, a második darabot előállító függvény pedig $f_1(t_1)$, ahol $t_1 \\in [0, 1]$. Az eredeti görbét leíró függvény legyen $f(t)$, ahol $t$ szintén a $[0, 1]$ tartományból vehet fel értékeket. Ekkor $f(t)$ a következő szakaszonként definiált függvény formájában írható fel:\n",
    "\n",
    "$$\n",
    "f(t) =\n",
    "\\begin{cases}\n",
    "f_0(2t) & \\text{ha } t \\in [0,\\, 0{,}5] \\\\\n",
    "f_1(2t - 1) & \\text{ha } t \\in (0{,}5,\\, 1]\n",
    "\\end{cases}\n",
    "$$\n",
    "\n",
    "> A továbbiakban a szakaszosan definiált függvények képletében elhagyjuk a *ha* szót az olvashatóság érdekében.\n",
    "\n",
    "Látható, hogy $f$ eredeti $[0, 1]$ értelmezési tartományát két részre osztottuk. Az első felében a paraméter úgyszólván az első görbedarabon fut végig, a második felében pedig a második görbedarabon.\n",
    "\n",
    "Természetesen a fenti $f$ függvénynek akkor van igazi jelentősége, ha az egyes szakaszokért felelős függvények megfelelő folytonosságú csatlakozást biztosítanak. A fenti esetben tehát legalább azt megköveteljük, hogy $f_1(1) = f_2(0)$.\n",
    "\n",
    "Azt is érdemes megjegyezni, hogy bár használhatunk különböző típusú függvényeket a különböző szakaszok fölött, általában az egyszerűség kedvéért azonosokat alkalmazunk; leggyakrabban harmadfokú polinom-függvényeket.\n",
    "\n",
    "A szakaszonként definiált függvények alkalmazása görbék előállítására óriási jelentőségű, hiszen rendkívüli rugalmasságot biztosítanak. Dönthetünk például úgy, hogy kevesebb darabból illesztünk össze egy görbét, viszont így az egyes darabok bonyolultabbak lesznek. Ha viszont elfogadjuk, hogy több kisebb darabból kell összeállítanunk a görbét, akkor egyszerűbb függvényekkel dolgozhatunk az egyes szakaszokon.\n",
    "\n",
    "A fenti felírás azonban látszólag ellentmondásban van az eddig állítottakkal, miszerint bármilyen (harmadfokú) görbét felírhatunk a kontrollpontok lineáris kombinációjaként, valamilyen paramétertartományon értelmezve:\n",
    "\n",
    "$$\n",
    "g(t) = \\sum\\limits_{i=0}^{n}g_i(t) \\cdot P_i\n",
    "$$\n",
    "\n",
    "Hogyan lehet ez a kettő egyszerre igaz? Úgy, hogy a két felírás valójában ekvivalens, csak az a kérdés, hogy a szakaszokra bontást hol végezzük el."
   ]
  },
  {
   "cell_type": "markdown",
   "metadata": {},
   "source": [
    "#### Átírás a két alak között"
   ]
  },
  {
   "cell_type": "markdown",
   "metadata": {},
   "source": [
    "Írjunk fel az előző $f(t)$ görbével ekvivalens görbét! Tegyünk fel, hogy az $f_0(t_0)$ és az $f_1(t_1)$ függvények is egy-egy szakaszt határoznak meg, az előbbi a $P_0, P_1$, utóbbi a $P_1, P_2$ pontok között. Formalizálva:\n",
    "\n",
    "$$\n",
    "\\begin{align*}\n",
    "f_0(t_0) &= (1 - t_0)P_0 + t_0P_1 \\\\\n",
    "\\\\\n",
    "f_1(t_1) &= (1 - t_1)P_1 + t_1P_2 \\\\\n",
    "\\end{align*}\n",
    "$$\n",
    "\n",
    "Keresünk egy olyan függvényt, mely a következő formában adott:\n",
    "\n",
    "$$\n",
    "h(t) = h_0(t)P_0 + h_1(t)P_1+h_2(t)P_2 = \\sum\\limits_{i=0}^{2}h_i(t)P_i \\qquad t \\in [0, 1]\n",
    "$$\n",
    "\n",
    "Tehát meg kellene határoznunk, hogy az egyes kontrollpontokhoz milyen súlyfüggvények tartoznak. Ez praktikusan annyit jelent, hogy arra vagyunk kíváncsiak, hogy egy adott $t$ paraméterértéknél melyik kontrollpont milyen befolyással van a görbére. Ehhez vissza kell térnünk az eredeti $f(t)$ függvényhez, és behelyettesíteni az $f_0(t_0)$ és $f_1(t_1)$ függvényeket:\n",
    "\n",
    "$$\n",
    "f(t) =\n",
    "\\begin{cases}\n",
    "(1 - 2t)P_0 + 2tP_1 & t \\in [0, 0.5] \\\\\n",
    "2tP_1 + (2t - 1)P_2 & t \\in (0.5, 1]\n",
    "\\end{cases}\n",
    "$$\n",
    "\n",
    "Nincs más dolgunk most már, mint megnézni, hogy az egyes szakaszokon a kontrollpontok milyen együtthatóval rendelkeznek. Például, ha $t$ $0$ és $0.5$ közötti értéket vesz fel, akkor $P_0$ az $(1-2t)$ kifejezéssel van megszorozva, míg $0.5$ és $1$ között meg sem jelenik, azaz az együtthatója nulla.\n",
    "\n",
    "Ha a maradék két kontrollpontra is elvégezzük az előző vizsgálódást, akkor valójában készen vagyunk, meghatároztuk a súlyfüggvényeket:\n",
    "\n",
    "$$\n",
    "h_0(t) =\n",
    "\\begin{cases}\n",
    "1 - 2t & t \\in [0, 0.5] \\\\\n",
    "0 & t \\in (0.5, 1]\n",
    "\\end{cases} \n",
    "$$\n",
    "\n",
    "$$\n",
    "h_1(t) =\n",
    "\\begin{cases}\n",
    "2t & t \\in [0, 0.5] \\\\\n",
    "2(1-t) & t \\in (0.5, 1]\n",
    "\\end{cases} \n",
    "$$\n",
    "\n",
    "$$\n",
    "h_2(t) =\n",
    "\\begin{cases}\n",
    "0 & t \\in [0, 0.5] \\\\\n",
    "2t - 1 & t \\in (0.5, 1] \n",
    "\\end{cases}\n",
    "$$"
   ]
  },
  {
   "cell_type": "code",
   "execution_count": 36,
   "metadata": {
    "collapsed": true
   },
   "outputs": [],
   "source": [
    "%matplotlib inline\n",
    "import matplotlib\n",
    "import matplotlib.pyplot as plt\n",
    "import numpy as np"
   ]
  },
  {
   "cell_type": "code",
   "execution_count": 43,
   "metadata": {},
   "outputs": [
    {
     "data": {
      "image/png": "[encoded data removed]",
      "text/plain": [
       "<matplotlib.figure.Figure at 0x1f0303cbdd8>"
      ]
     },
     "metadata": {},
     "output_type": "display_data"
    }
   ],
   "source": [
    "def hBlendingFunctions():\n",
    "    t = np.linspace(0, 1, 100)\n",
    "\n",
    "    h0 = np.piecewise(t, [t <= 0.5, t > 0.5], [lambda t: 1 - 2 * t, 0])\n",
    "    h1 = np.piecewise(t, [t <= 0.5, t > 0.5], [lambda t: 2 * t, lambda t: 2 * (1 - t)])\n",
    "    h2 = np.piecewise(t, [t <= 0.5, t > 0.5], [0, lambda t: 2 * t - 1])\n",
    "\n",
    "    fig = plt.figure()\n",
    "\n",
    "    axes = fig.add_axes([0, 0, 1, 1])\n",
    "\n",
    "    axes.set_xlim([0, 1])\n",
    "    axes.set_ylim([-0.3, 1.3])\n",
    "\n",
    "    axes.plot(t, h0, 'r', label='$h_0$')\n",
    "    axes.plot(t, h1, 'g', label='$h_1$')\n",
    "    axes.plot(t, h2, 'b', label='$h_2$')\n",
    "    \n",
    "    axes.axhline(y=0, color='k')\n",
    "    \n",
    "    axes.legend(loc=2);\n",
    "\n",
    "    axes.set_xlabel('t')\n",
    "    axes.set_title('$h$ súlyfüggvények');\n",
    "\n",
    "\n",
    "hBlendingFunctions()"
   ]
  },
  {
   "cell_type": "markdown",
   "metadata": {},
   "source": [
    "## Cardinal Spline"
   ]
  },
  {
   "cell_type": "markdown",
   "metadata": {},
   "source": [
    "A spline görbék bevezetése után ismerkedjünk meg a Cardinal Spline-nal! Ez a görbetípus harmadfokú szegmensekből áll össze, melyek $C^1$ folytonosan csatlakoznak egymáshoz. Az első és az utolsó kivételével a görbe az összes kontrollponton áthalad. A kontrollpontok mellett lehetőségünk van egy további nem geometriai paraméterrel szabályozni a görbe alakját, mely paramétert feszességnek (*tension*) nevezzük."
   ]
  },
  {
   "cell_type": "markdown",
   "metadata": {},
   "source": [
    "### Cardinal Spline-szegmensek"
   ]
  },
  {
   "cell_type": "markdown",
   "metadata": {},
   "source": [
    "A Cardinal Spline-görbe szegmensei egyenként négy kontrollpontra támaszkodnak. A középső kettő adja a szegmens kezdő- és végpontját. A szélső pontok a görbéhez az előző pontokban húzott érintővektorok kialakításában játszanak szerepet.\n",
    "\n",
    "Vizsgáljuk meg, hogyan is alakulnak pontosan az érintők, és hogy mi valójában a feszesség szerepe! Legyen az $i$-edik szegmenst meghatározó négy kontrollpont $P_i, P_{i + 1}, P_{i + 2}, P_{i + 3}$! Ekkor a görbedarab a $P_{i + 1}, P_{i + 2}$ pontok között fog futni. A $P_{i + 1}$-beli érintő a $P_{i}$-ből $P_{i + 2}$-be mutató vektor valahányszorosa lesz, ahol a vektor hossza a feszesség értékétől függ. Ugyanilyen logika alapján a $P_{i + 2}$-beli érintő a $P_{i + 1}$-ből $P_{i + 3}$ pontba mutató vektor valahányszorosa.\n",
    "\n",
    "Ha a feszességet szabályzó paraméter értékére nem teszünk megszorítást, akkor nehéz leírni geometriailag, hogy pontosan hogyan befolyásolja a görbe alakját. Ezért legyen most $s \\in (-\\infty, 1]$! Ha $s = 1$, akkor a kontrollpontokat összekötő töröttvonalakat kapjuk, míg a negatív végtelen felé haladva egyre hosszabb utat jár be a görbe kontrollpontok között, egyre kevésbé feszül rá az előbb említett töröttvonalra.\n",
    "\n",
    "A következő demonstráció egyetlen görbedarabot szemléltet, változtatható feszesség értékkel. Elsősorban az érintővektorora, valamint az érintővektorok és a feszesség kapcsolatára legyünk figyelmesek!"
   ]
  },
  {
   "cell_type": "code",
   "execution_count": 2,
   "metadata": {},
   "outputs": [
    {
     "data": {
      "text/html": [
       "\n",
       "    <div id=\"cardinal-spline-segment-container\"></div>\n",
       "    <script>require(['js/cardinal-spline-segment'], main => main($(\"#cardinal-spline-segment-container\"), 'cardinal-spline-segment'));</script>\n",
       "    "
      ],
      "text/plain": [
       "<IPython.core.display.HTML object>"
      ]
     },
     "execution_count": 2,
     "metadata": {},
     "output_type": "execute_result"
    }
   ],
   "source": [
    "addScript(\"js/cardinal-spline-segment\", \"cardinal-spline-segment\")"
   ]
  },
  {
   "cell_type": "markdown",
   "metadata": {},
   "source": [
    "Az egymást követő szegmensek három kontrollpontja azonos. Azaz ha $5$ kontrollpontunk van, akkor a $P_0, \\ldots, P_3$ pontok az első, a $P_1, \\ldots, P_4$ pontok a második szegmens kialakításában játszanak szerepet. Az első szegmens a $P_1, P_2$ pontok közt fut, míg a második a $P_2, P_3$ pontok között. Ez pontosan azt jelenti, hogy a két egymást követő szegmens $C^0$ folytonosan csatlakozik. Azonban mindkét szegmens esetén az adott szegmens $P_2$-beli érintőjét a $P_1, P_3$ pontok határozzák meg. Emiatt a csatlakozás $C^1$ folytonos lesz."
   ]
  },
  {
   "cell_type": "markdown",
   "metadata": {},
   "source": [
    "#### Paraméteres alak"
   ]
  },
  {
   "cell_type": "markdown",
   "metadata": {},
   "source": [
    "Nézzük, hogyan írható le egy Cardinal Spline-szegmens paraméteresen! Legyenek adottak a $P_i, P_{i + 1}, P_{i + 2}, P_{i + 3}$ pontok és az $s \\in (-\\infty, 1]$ feszesség! Ekkor a következő feltételeknek eleget tevő görbét keresünk:\n",
    "\n",
    "$$\n",
    "\\begin{align*}\n",
    "c_i(0) &= P_{i + 1} \\\\\n",
    "c_i(1) &= P_{i + 2} \\\\\n",
    "c_i^{\\prime}(0) &= \\frac{1}{2}(1 - s)(P_{i + 2} - P_{i}) \\\\\n",
    "c_i^{\\prime}(1) &= \\frac{1}{2}(1 - s)(P_{i + 3} - P_{i + 1}) \\\\\n",
    "\\end{align*}\n",
    "$$\n",
    "\n",
    "A súlyfüggvények levezetését ezúttal elhagyjuk, hiszen az pontosan ugyanúgy tehető meg, ahogy az Hermite-ív vagy a Bézier-görbe esetén. Helyette inkább a levezetés eredményét közöljük, az együtthatómátrix formájában:\n",
    "\n",
    "$$\n",
    "M =\n",
    "\\begin{bmatrix}\n",
    "-k & 2k & -k & 0 \\\\\n",
    "2 - k & k - 3 & 0 & 1 \\\\\n",
    "k - 2 & 3 - 2k & k & 0 \\\\\n",
    "k & -k & 0 & 0\n",
    "\\end{bmatrix},\n",
    "$$\n",
    "\n",
    "ahol $k = \\frac{1}{2}(1 - s)$."
   ]
  },
  {
   "cell_type": "code",
   "execution_count": 44,
   "metadata": {},
   "outputs": [
    {
     "data": {
      "image/png": "[encoded data removed]",
      "text/plain": [
       "<matplotlib.figure.Figure at 0x1f032d6b7b8>"
      ]
     },
     "metadata": {},
     "output_type": "display_data"
    }
   ],
   "source": [
    "def cardinalSplineBlendingFunctions(s, axes):\n",
    "    t = np.linspace(0, 1, 100)\n",
    "    k = 0.5 * (1 - s)\n",
    "\n",
    "    b0 = (-k * (t**3)) + (2 * k * (t**2)) + (-k * t)\n",
    "    b1 = ((2 - k) * (t**3)) + ((k - 3) * (t**2)) + 1\n",
    "    b2 = ((k - 2) * (t**3)) + ((3 - (2 * k)) * (t**2)) + (k * t)\n",
    "    b3 = (k * (t**3)) + (-k * (t**2)) \n",
    "\n",
    "    axes.set_xlim([0, 1])\n",
    "    axes.set_ylim([-0.3, 1.3])\n",
    "\n",
    "    axes.plot(t, b0, 'r', label='$p_0$')\n",
    "    axes.plot(t, b1, 'g', label='$p_1$')\n",
    "    axes.plot(t, b2, 'b', label='$p_2$')\n",
    "    axes.plot(t, b3, 'cyan', label='$p_3$')\n",
    "    \n",
    "    axes.axhline(y=0, color='k')\n",
    "    \n",
    "    axes.legend(loc=2);\n",
    "\n",
    "    axes.set_xlabel('t')\n",
    "    axes.set_title('$t = ' + str(s) + '$');\n",
    "\n",
    "\n",
    "def showCardinalSplineBlendingFunctions():\n",
    "    fig, (ax1, ax2) = plt.subplots(1, 2, sharey = True, figsize = (11, 4))\n",
    "    \n",
    "    plt.suptitle(\"Cardinal Spline súlyfüggvények\")\n",
    "    \n",
    "    cardinalSplineBlendingFunctions(-1, ax1)\n",
    "    cardinalSplineBlendingFunctions(1, ax2)\n",
    "    \n",
    "showCardinalSplineBlendingFunctions()"
   ]
  },
  {
   "cell_type": "markdown",
   "metadata": {},
   "source": [
    "### A teljes görbe"
   ]
  },
  {
   "cell_type": "markdown",
   "metadata": {},
   "source": [
    "Miután láttuk, hogyan jön létre egy szegmens, nézzük meg, hogyan írható le az egész görbe! Legyenek a $P_0, P_1, \\ldots, P_n$ kontrollpontok, valamint a feszesség $s \\in (-\\infty, 1]$ értéke adott. Legyen most $t \\in [0, n - 2]$! Ekkor\n",
    "\n",
    "$$\n",
    "c(t) =\n",
    "\\begin{cases}\n",
    "c_0(t) & t \\in [0, 1] \\\\\n",
    "c_1(t - 1) & t \\in (1, 2] \\\\\n",
    "c_2(t - 2) & t \\in (2, 3] \\\\\n",
    "\\vdots \\\\\n",
    "c_{n - 3}(t - n + 3) & t \\in (n - 3, n - 2]\n",
    "\\end{cases}.\n",
    "$$\n",
    "\n",
    "A teljes görbe tehát matematikailag is a kisebb darabok összeillesztésével áll elő, egy olyan szakaszosan definiált függvény formájában, mely a paraméter értékének megfelelő darabból állít elő pontokat. Azonban ez még nem a jól megszokott, lineáris kombináció formájában felírt paraméteres egyenlet. Hogyan tudnánk ahhoz eljutni?\n",
    "\n",
    "Pontosan azt kell tennünk, amit a jegyzet elején, az $f(t)$ függvény esetén tettünk: meg kell vizsgálnunk, hogy az egyes kontrollpontok mikor milyen együtthatóval bírnak. Jelölje $p_0(t), p_1(t), p_2(t), p_3(t)$ az előzőleg, a feltételek alapján felírt Cardinal Spline súlyfüggvényeket. Ezek segítségével bontsuk ki a $c_i(t)$ kifejezéseket:\n",
    "\n",
    "$$\n",
    "c(t) =\n",
    "\\begin{cases}\n",
    "\\vdots & t \\leq 1 \\\\\n",
    "p_0(t - 1)P_1 + p_1(t - 1)P_2 + p_2(t - 1)P_3 + \\color{red}{p_3(t - 1)P_4}  & t \\in (1, 2] \\\\\n",
    "p_0(t - 2)P_2 + p_1(t - 2)P_3 + \\color{red}{p_2(t - 2)P_4} + p_3(t - 2)P_5 & t \\in (2, 3] \\\\\n",
    "p_0(t - 3)P_3 + \\color{red}{p_1(t - 3)P_4} + p_2(t - 3)P_5 + p_3(t - 3)P_6 & t \\in (3, 4] \\\\\n",
    "\\color{red}{p_0(t - 4)P_4} + p_1(t - 4)P_5 + p_2(t - 4)P_6 + p_3(t - 4)P_7 & t \\in (4, 5] \\\\\n",
    "\\vdots & t > 5\n",
    "\\end{cases}.\n",
    "$$\n",
    "\n",
    "Látható, hogy igen szabályos rendben sorakoznak az egyes intervallumokhoz tartozó kifejezések. Piros színnel ki lett emelve egy tetszőleges, általános kontrollpont, $P_4$. Ez a pont négy szegmens kialakításában is szerepet játszik, és mind a négy alkalommal másik súlyfüggvénnyel van megszorozva. Vizsgáljuk meg, hogy $t$ értékétől függően hogyan alakul a $P_4$-hez tartozó együttható:\n",
    "\n",
    "$$\n",
    "b_4(t) =\n",
    "\\begin{cases}\n",
    "0 & t \\leq 1 \\\\\n",
    "p_3(t - 1) & t \\in (1, 2] \\\\\n",
    "p_2(t - 2) & t \\in (2, 3] \\\\\n",
    "p_1(t - 3) & t \\in (3, 4] \\\\\n",
    "p_0(t - 4) & t \\in (4, 5] \\\\\n",
    "0 & t > 5\n",
    "\\end{cases}.\n",
    "$$\n",
    "\n",
    "Mivel $P_4$ négy szegmensben vesz részt, ezért $b_4(t)$ is csak négy szakaszon vesz fel $0$-tól különböző értéket. Ha $P_4$-re, egy tetszőlegesen kiválasztott kontrollpontra fel tudtunk írni egy ilyen szakaszosan definiált függvényt, akkor általánosan, a $P_i$ pontra is tudnunk kell definiálni:\n",
    "\n",
    "$$\n",
    "b_i(t) =\n",
    "\\begin{cases}\n",
    "0 & t \\leq i - 3 \\\\\n",
    "p_3(t - 1) & t \\in (i - 3, i - 2] \\\\\n",
    "p_2(t - 2) & t \\in (i - 2, i - 1] \\\\\n",
    "p_1(t - 3) & t \\in (i - 1, i] \\\\\n",
    "p_0(t - 4) & t \\in (i, i + 1] \\\\\n",
    "0 & t > i + 1\n",
    "\\end{cases}.\n",
    "$$\n",
    "\n",
    "A $b_i(t)$ függvény is csak négy intervallumon vesz fel nullától különböző értéket, és ezeken az intervallumokon a megfelelő Cardinal Spline súlyfüggvények határozzák meg az értékét. Lényegében egymás mellé raktuk, és megfelelően eltoltuk a négy súlyfüggvényt. Egyszerűsítsük le az előző definíciót úgy, hogy elhagyjuk az alsó $i$ indexet, függetlenné téve ezzel a függvényt a konkrét kontrollponttól:\n",
    "\n",
    "$$\n",
    "b(t) =\n",
    "\\begin{cases}\n",
    "0 & t \\leq -2 \\\\\n",
    "p_3(t + 2) & t \\in (-2, -1] \\\\\n",
    "p_2(t + 1) & t \\in (-1, 0] \\\\\n",
    "p_1(t) & t \\in (0, 1] \\\\\n",
    "p_0(t - 1) & t \\in (1, 2] \\\\\n",
    "0 & t > 2\n",
    "\\end{cases}.\n",
    "$$\n",
    "\n",
    "Ábrázoljuk is a $b(t)$ függvényt!"
   ]
  },
  {
   "cell_type": "code",
   "execution_count": 42,
   "metadata": {},
   "outputs": [
    {
     "data": {
      "image/png": "[encoded data removed]",
      "text/plain": [
       "<matplotlib.figure.Figure at 0x1f032a12da0>"
      ]
     },
     "metadata": {},
     "output_type": "display_data"
    }
   ],
   "source": [
    "def assembledCardinalSplineBlendingFunctions():\n",
    "    t = np.linspace(0, 1, 100)\n",
    "    k = 0.5\n",
    "\n",
    "    b0 = (-k * (t**3)) + (2 * k * (t**2)) + (-k * t)\n",
    "    b1 = ((2 - k) * (t**3)) + ((k - 3) * (t**2)) + 1\n",
    "    b2 = ((k - 2) * (t**3)) + ((3 - (2 * k)) * (t**2)) + (k * t)\n",
    "    b3 = (k * (t**3)) + (-k * (t**2)) \n",
    "\n",
    "    fig = plt.figure()\n",
    "\n",
    "    axes = fig.add_axes([0, 0, 1, 1])\n",
    "    \n",
    "    axes.set_ylim([-0.3, 1.3])\n",
    "\n",
    "    axes.plot(t + 1, b0, 'r', label='$p_0$')\n",
    "    axes.plot(t, b1, 'g', label='$p_1$')\n",
    "    axes.plot(t - 1, b2, 'b', label='$p_2$')\n",
    "    axes.plot(t - 2, b3, 'cyan', label='$p_3$')\n",
    "    \n",
    "    axes.axhline(y=0, color='k')\n",
    "    \n",
    "    axes.legend(loc=2);\n",
    "\n",
    "    axes.set_xlabel('t')\n",
    "    axes.set_title('$b(t)$');\n",
    "    \n",
    "assembledCardinalSplineBlendingFunctions()"
   ]
  },
  {
   "cell_type": "markdown",
   "metadata": {},
   "source": [
    "Így pedig már felírhatjuk az ismert, lineáris kombinációt magában foglaló alakot a következőképpen:\n",
    "\n",
    "$$\n",
    "\\gamma(t) = \\sum\\limits_{i = 0}^{n}b(t - i)P_i \\qquad t \\in [0, n - 2]\n",
    "$$"
   ]
  },
  {
   "cell_type": "markdown",
   "metadata": {},
   "source": [
    "#### Demonstráció"
   ]
  },
  {
   "cell_type": "markdown",
   "metadata": {},
   "source": [
    "A kék téglalapba kattintva tetszőleges számú kontrollpontot helyezhetünk el, melyekre Cardinal Spline lesz illesztve. Legalább négy darab kontrollpont szükséges a görbe kirajzolásához."
   ]
  },
  {
   "cell_type": "code",
   "execution_count": 3,
   "metadata": {},
   "outputs": [
    {
     "data": {
      "text/html": [
       "\n",
       "    <div id=\"cardinal-spline-demo-container\"></div>\n",
       "    <script>require(['js/cardinal-spline-demo'], main => main($(\"#cardinal-spline-demo-container\"), 'cardinal-spline-demo'));</script>\n",
       "    "
      ],
      "text/plain": [
       "<IPython.core.display.HTML object>"
      ]
     },
     "execution_count": 3,
     "metadata": {},
     "output_type": "execute_result"
    }
   ],
   "source": [
    "addScript(\"js/cardinal-spline-demo\", \"cardinal-spline-demo\")"
   ]
  },
  {
   "cell_type": "markdown",
   "metadata": {},
   "source": [
    "## Rokon görbék"
   ]
  },
  {
   "cell_type": "markdown",
   "metadata": {},
   "source": [
    "### Catmull-Rom Spline"
   ]
  },
  {
   "cell_type": "markdown",
   "metadata": {},
   "source": [
    "A Catmull-Rom Spline egy speciális Cardinal Spline, mely esetén a feszesség értéke $0$."
   ]
  },
  {
   "cell_type": "markdown",
   "metadata": {},
   "source": [
    "### Kochanek-Bartels Spline"
   ]
  },
  {
   "cell_type": "markdown",
   "metadata": {},
   "source": [
    "A Kochanek-Bartels Spline a Cardinal Spline egy általánosítása, mely további két nem geometriai paramétert ad hozzá a görbéhez. Ezek a *bias* és *continuity*. Ha ezeknek az értéke $0$, akkor kapjuk a Cardinal Spline-t.\n",
    "\n",
    "A *bias* paraméter elsősorban az egyes szegmensek elejére és végére van hatással. Ha $b > 0$, akkor inkább a szegmens kezdőpontja felé hajlik a görbe, míg ha $b < 0$, akkor inkább a végpontja felé.\n",
    "\n",
    "A *continuity* segítségével töréseket tudunk előidézni a görbében a szegmensek határainál. Ha $c > 0$, akkor a görbe úgymond befelé törik, ha $c < 0$, akkor pedig kifelé. Minél nagyobb abszolútértékben $c$ értéke, annál erőteljesebb változás fog bekövetkezni a görbében."
   ]
  },
  {
   "cell_type": "markdown",
   "metadata": {},
   "source": [
    "#### Paraméteres alak"
   ]
  },
  {
   "cell_type": "markdown",
   "metadata": {},
   "source": [
    "A Kochanek-Bartels Spline által biztosított rugalmasság árát a matematikai leírás bonyolultságában kell megfizetnünk. A $P_{i}, P_{i + 1}, P_{i + 2}, P_{i + 3}$ pontokra illeszkedő szegmensnek a következő feltételeknek kell eleget tennie:\n",
    "\n",
    "$$\n",
    "\\begin{align*}\n",
    "kb_i(0) &= P_{i + 1} \\\\\n",
    "kb_i(1) &= P_{i + 2} \\\\\n",
    "kb_i^{\\prime}(0) &= \\frac{1}{2}(1 - s)\\cdot[\\,(1 + b)(1 - c)(P_{i + 1} - P_{i}) + (1 - b)(1 + c)(P_{i + 2} - P_{i + 1})\\,] \\\\\n",
    "kb_i^{\\prime}(1) &= \\frac{1}{2}(1 - s)\\cdot[\\,(1 + b)(1 + c)(P_{i + 2} - P_{i + 1}) + (1 - b)(1 - c)(P_{i + 3} - P_{i + 2})\\,] \\\\\n",
    "\\end{align*}\n",
    "$$"
   ]
  },
  {
   "cell_type": "markdown",
   "metadata": {},
   "source": [
    "A feltételek levezetése után a következő együtthatómátrix adódik:\n",
    "\n",
    "$$\n",
    "M =\n",
    "\\begin{bmatrix}\n",
    "-q_1 & 2q_1 & -q_1 & 0 \\\\\n",
    "q_1 - q_2 - q_3 + 2 & q_3 - 2q_1 + 2q_2 - 3 & q_1 - q_2 & 1 \\\\\n",
    "q_2 + q_3 - q_4 - 2 & q_4 - q_3 - 2q_2 + 3 & q_2 & 0 \\\\\n",
    "q_4 & -q_4 & 0 & 0\n",
    "\\end{bmatrix},\n",
    "$$\n",
    "\n",
    "ahol\n",
    "\n",
    "$$\n",
    "\\begin{align*}\n",
    "k &= \\frac{1}{2}(1 - s) \\\\\n",
    "q_1 &= k (1 + b) (1 - c) \\\\\n",
    "q_2 &= k (1 - b) (1 + c) \\\\\n",
    "q_3 &= k (1 + b) (1 + c) \\\\\n",
    "q_4 &= k (1 - b) (1 - c) \\\\\n",
    "\\end{align*}\n",
    "$$"
   ]
  },
  {
   "cell_type": "markdown",
   "metadata": {},
   "source": [
    "#### Demonstráció"
   ]
  },
  {
   "cell_type": "markdown",
   "metadata": {},
   "source": [
    "A kék téglalapba kattintva tetszőleges számú kontrollpontot helyezhetünk el, melyekre Kochanek-Bartels Spline lesz illesztve. Legalább négy darab kontrollpont szükséges a görbe kirajzolásához.\n",
    "\n",
    "Az előzőleg felírt feltételekből láthatjuk, hogy az $s$, $b$ és $c$ paraméterek kizárólag az érintővektorokon keresztül befolyásolják a görbe alakját. A demonstráció lehetőséget biztosít az érintővektorok megjelenítésére, ezáltal látványosabbá téve a paraméterek változásának hatását. Kék szín jelöli az úgynvezett kimenő vektorokat, piros pedig a bejövőket. A kimenő vektor egy szegmens végpontjának érintője, a bejövő pedig a kezdőpontjának az érintője. \n",
    "\n",
    "Alapesetben egy adott kontrolpontban a bejövő és a kimenő vektor azonos (különben nem lenne $C^1$ folytonos a görbe), azonban a $c$ paraméter változtatásával a két vektor egészen eltérő lehet, megtörve így a görbét.\n",
    "\n",
    "Természetesen a kirajzolt görbe valós időben követi a paraméterek változását és a kontrollpontok mozgatását."
   ]
  },
  {
   "cell_type": "code",
   "execution_count": 4,
   "metadata": {},
   "outputs": [
    {
     "data": {
      "text/html": [
       "\n",
       "    <div id=\"kochanek-bartels-spline-demo-container\"></div>\n",
       "    <script>require(['js/kochanek-bartels-spline-demo'], main => main($(\"#kochanek-bartels-spline-demo-container\"), 'kochanek-bartels-spline-demo'));</script>\n",
       "    "
      ],
      "text/plain": [
       "<IPython.core.display.HTML object>"
      ]
     },
     "execution_count": 4,
     "metadata": {},
     "output_type": "execute_result"
    }
   ],
   "source": [
    "addScript(\"js/kochanek-bartels-spline-demo\", \"kochanek-bartels-spline-demo\")"
   ]
  },
  {
   "cell_type": "markdown",
   "metadata": {},
   "source": [
    "## Források"
   ]
  },
  {
   "cell_type": "markdown",
   "metadata": {},
   "source": [
    "* D. D. Hearn, M. P. Baker, W. Caritehers (2014). *Computer Graphics With OpenGL*, Fourth Edition, pp. 417-421.\n",
    "* J. F. Hughes, A. van Dam (2013). *Computer Graphics: Principles and Practice*, Third Edition, Chapter 22W, pp. 93-99. http://dept.cs.williams.edu/~morgan/cgpp/file/cgpp3e_ch22W.pdf\n",
    "* Dr. Kovács Emőd (2011). *Komputergrafika: Matematikai alapok*. pp. 90-93. http://aries.ektf.hu/~hz/pdf-tamop/pdf-01/download/grafika.pdf\n",
    "* P. Shirley, S. Marschner (2009). *Fundamentals of Computer Graphics*. Third Edition, pp. 363-365."
   ]
  },
  {
   "cell_type": "code",
   "execution_count": 5,
   "metadata": {},
   "outputs": [
    {
     "data": {
      "text/html": [
       "<style>\n",
       ".prompt{\n",
       "    display: None;\n",
       "}\n",
       "canvas {\n",
       "    display: block;\n",
       "    margin-left: auto;\n",
       "    margin-right: auto;\n",
       "    border: 1px solid #42A5F5;\n",
       "}\n",
       "div.output_png {\n",
       "    display: block;\n",
       "}\n",
       "div.output_subarea {\n",
       "    max-width: 100%;\n",
       "    text-align: center;\n",
       "}\n",
       ".canvas-controller {\n",
       "    position: relative;\n",
       "    top: 50%;\n",
       "    transform: translateY(-50%);\n",
       "}\n",
       ".controller-input-container {\n",
       "    display: flex;\n",
       "    align-items: center;\n",
       "    text-align: left;\n",
       "    margin-bottom: 1em;\n",
       "}\n",
       ".controller-input-container label {\n",
       "    width: 10em;\n",
       "}\n",
       ".slider-container {\n",
       "    display: flex;\n",
       "} \n",
       ".slider-min-label {\n",
       "    padding-right: 1em;\n",
       "}\n",
       ".slider-max-label {\n",
       "    padding-left: 1em;\n",
       "}\n",
       "</style>\n",
       "<script>\n",
       "MathJax.Hub.Config({\n",
       "    TeX: {\n",
       "        extensions: [\"AMSmath.js\"]\n",
       "    },\n",
       "    tex2jax: {\n",
       "        inlineMath: [ ['$','$'], [\"\\\\(\",\"\\\\)\"] ],\n",
       "        displayMath: [ ['$$','$$'], [\"\\\\[\",\"\\\\]\"] ]\n",
       "    },\n",
       "    displayAlign: 'center',\n",
       "    \"HTML-CSS\": {\n",
       "        styles: {'.MathJax_Display': {\"margin\": 4}}\n",
       "    }\n",
       "});\n",
       "</script>"
      ],
      "text/plain": [
       "<IPython.core.display.HTML object>"
      ]
     },
     "execution_count": 5,
     "metadata": {},
     "output_type": "execute_result"
    }
   ],
   "source": [
    "def styling():\n",
    "    styles = open(\"../../styles/custom.html\", \"r\").read()\n",
    "    return HTML(styles)\n",
    "styling()\n"
   ]
  }
 ],
 "metadata": {
  "kernelspec": {
   "display_name": "Python 3",
   "language": "python",
   "name": "python3"
  },
  "language_info": {
   "codemirror_mode": {
    "name": "ipython",
    "version": 3
   },
   "file_extension": ".py",
   "mimetype": "text/x-python",
   "name": "python",
   "nbconvert_exporter": "python",
   "pygments_lexer": "ipython3",
   "version": "3.6.1"
  }
 },
 "nbformat": 4,
 "nbformat_minor": 2
}
