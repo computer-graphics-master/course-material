{
 "cells": [
  {
   "cell_type": "code",
   "execution_count": 7,
   "metadata": {},
   "outputs": [
    {
     "data": {
      "text/html": [
       "\n",
       "    <script>require.config({ baseUrl: 'https://rawgit.com/kompgraf/course-material/master/assets/' });</script>\n",
       "    "
      ],
      "text/plain": [
       "<IPython.core.display.HTML object>"
      ]
     },
     "execution_count": 7,
     "metadata": {},
     "output_type": "execute_result"
    }
   ],
   "source": [
    "from IPython.core.display import HTML\n",
    "from string import Template\n",
    "def jsConfig():\n",
    "    src = \"\"\"\n",
    "    <script>require.config({ baseUrl: 'https://rawgit.com/kompgraf/course-material/master/assets/' });</script>\n",
    "    \"\"\"\n",
    "    return HTML(src)\n",
    "def addScript(script, identifier):\n",
    "    src = Template(\"\"\"\n",
    "    <div id=\"${identifier}-container\"></div>\n",
    "    <script>require(['${script}'], main => main($$(\"#${identifier}-container\"), '${identifier}'));</script>\n",
    "    \"\"\")\n",
    "    return HTML(src.substitute(script = script, identifier = identifier))\n",
    "jsConfig()\n"
   ]
  },
  {
   "cell_type": "markdown",
   "metadata": {},
   "source": [
    "# Bézier-felület"
   ]
  },
  {
   "cell_type": "markdown",
   "metadata": {},
   "source": [
    "## Bevezetés"
   ]
  },
  {
   "cell_type": "markdown",
   "metadata": {},
   "source": [
    "Miután megismerkedtünk számos különböző görbetípussal, ideje, hogy dimenziót lépve elkezdjünk a felületekkel is foglalkozni. Ebben a jegyzetben egy általános minta kerül bemutatásra, melynek segítségével paraméteres felületeket tudunk előállítani. Részletesen ezek közül a Bézier-felületet fogjuk szemügyre venni."
   ]
  },
  {
   "cell_type": "markdown",
   "metadata": {},
   "source": [
    "## Hogyan készítsünk görbéből felületet?"
   ]
  },
  {
   "cell_type": "markdown",
   "metadata": {},
   "source": [
    "A célunk, hogy az eddigi tudásunkra építve hozzunk létre felületeket. Az alapötlet ennek megfelelően rendkívül egyszerű lesz. Vegyünk egy tetszőleges térgörbét, melyet a $P_0, P_1, \\ldots, P_n$ (háromdimenziós) kontrollpontok határoznak meg. Ha módosítjuk ezeknek a kontrollpontoknak a pozícióját a térben, akkor újabb görbét kapunk. Sorozatosan újabb görbéket képezve görbék egy családját kapjuk, melyek együttesen egy felületet definiálnak. A legegyszerűbb példa erre az, ha egy, az $xy$-síkon adott térgörbe kontrollpontjait a $z$-tengely mentén eltoljuk. "
   ]
  },
  {
   "cell_type": "markdown",
   "metadata": {},
   "source": [
    "### Felület létrehozása eltolással"
   ]
  },
  {
   "cell_type": "markdown",
   "metadata": {},
   "source": [
    "Vegyünk az előzőnél egy általánosabb példát! Legyen adva egy tetszőleges paraméteres görbe a következő módon:\n",
    "\n",
    "$$\n",
    "\\gamma(t) = \\sum\\limits_{i=0}^{n} b_i(t)P_i \\qquad t \\in [0, 1].\n",
    "$$\n",
    "\n",
    "Legyen továbbá adott egy $Q$ pont. A $\\gamma(t)$ függvény által képzett görbét toljuk végig a $P_0$ és $Q$ pontok közötti szakaszon, így egy felületet képezve!\n",
    "\n",
    "Ez azt jelenti, hogy a szakasz mentén haladva újabb és újabb görbéket kell létrehoznunk a $\\gamma(t)$ függvény segítségével. Egy adott kontrollpontra alkalmazandó eltolás mértékét a következő képlettel számolhatjuk:\n",
    "\n",
    "$$\n",
    "p(s) = s(Q - P_0) \\qquad s \\in [0, 1]\n",
    "$$\n",
    "\n",
    "Most már tehát a súlyfüggvénnyel nem az eredeti $P_i$ pontok valamelyikét, hanem mindig az eltolással képzett pontok egyikét kell megszoroznunk ahhoz, hogy valóban végighaladjunk a szakasz mentén. Ehhez definiáljuk az $i$-edik kontrollpont $s$ paraméter szerinti eltoltját a következőképpen:\n",
    "\n",
    "$$\n",
    "p_i(s) = P_i + s(Q - P_0) \\qquad s \\in [0, 1].\n",
    "$$\n",
    "\n",
    "$p_i$ birtokában az eredeti görbét már leírhatjuk\n",
    "\n",
    "$$\n",
    "\\gamma(t) = \\sum\\limits_{i=0}^{n} b_i(t)p_i(0) \\qquad t \\in [0, 1]\n",
    "$$\n",
    "\n",
    "formában. Vegyük észre, hogy $p_i$ paraméterét rögzítettük a $0$ értékre, mely azt jelenti, hogy az eltolás nem játszik szerepet. Ha bevezetünk egy új változót, ezzel kétváltozóssá téve a függvényt, akkor kapjuk a teljes felületet leíró kifejezést:\n",
    "\n",
    "$$\n",
    "\\gamma(s, t) = \\sum\\limits_{i=0}^{n} b_i(t)p_i(s) \\qquad s \\in [0, 1], \\quad t \\in [0, 1].\n",
    "$$\n",
    "\n",
    "Az eredmény tehát nem más, mint görbék egy olyan családja, melyek kontrollpontjait egy függvény állítja elő."
   ]
  },
  {
   "cell_type": "markdown",
   "metadata": {},
   "source": [
    "### Demonstráció"
   ]
  },
  {
   "cell_type": "markdown",
   "metadata": {},
   "source": [
    "A demonstráció az előző ötletet szemléleti. A vezérléshez mind az egérre, mind a billentyűzetre szükség van. Ha rákattintunk a kék téglalapra, akkor az megkapja a fókuszt, és el tudja kapni a billentyűeseményeket. A kamera mozgatását a következő billentyűkkel vezérelhetjük:\n",
    "\n",
    "* <kbd>W</kbd> - a kamera mozgatása fölfele a henger palástján,\n",
    "* <kbd>S</kbd> - a kamera mozgatása lefele a henger palástján,\n",
    "* <kbd>D</kbd> - a kamera mozgatása jobbra a henger palástján,\n",
    "* <kbd>A</kbd> - a kamera mozgatása balra a henger palástján,\n",
    "* <kbd>Numpad+</kbd> - a henger sugarának növelése (ha nincs kijelölt kontrollpont),\n",
    "* <kbd>Numpad-</kbd> - a henger sugarának csökkentése (ha nincs kijelölt kontrollpont).\n",
    "\n",
    "Kattintással tudunk kontrollpontot kijelölni. Az éppen kijelölt kontrollpont zöld színnel lesz kirajzolva. Ha üres területre kattintunk, akkor eltűnik a kijelölés. Amennyiben van kiválasztott kontrollpont, akkor az <kbd>X</kbd>, <kbd>Y</kbd> és <kbd>Z</kbd> billentyűkkel tudjuk kijelölni a tengelyt, amelynek mentén mozgatni szeretnénk a pontot, és a <kbd>Numpad+</kbd>, <kbd>Numpad-</kbd> billentyűk használatával tudjuk a kontrollpontot a kijelölt tengely mentén elmozgatni.\n",
    "\n",
    "Az öt kontrollpont közül négy egy Bézier-görbét határoz meg, az ötödik pont pedig az eltolás nagyságának és irányának kijelöléséért felel."
   ]
  },
  {
   "cell_type": "code",
   "execution_count": 8,
   "metadata": {},
   "outputs": [
    {
     "data": {
      "text/html": [
       "\n",
       "    <div id=\"bezier-along-line-container\"></div>\n",
       "    <script>require(['js/bezier-along-line'], main => main($(\"#bezier-along-line-container\"), 'bezier-along-line'));</script>\n",
       "    "
      ],
      "text/plain": [
       "<IPython.core.display.HTML object>"
      ]
     },
     "execution_count": 8,
     "metadata": {},
     "output_type": "execute_result"
    }
   ],
   "source": [
    "addScript(\"js/bezier-along-line\", \"bezier-along-line\")"
   ]
  },
  {
   "cell_type": "markdown",
   "metadata": {},
   "source": [
    "## Tenzorszorzat-felületek"
   ]
  },
  {
   "cell_type": "markdown",
   "metadata": {},
   "source": [
    "Ha jobban megnézzük az eltolással előállított felületet leíró képletet, akkor láthatjuk, hogy a kontrollpontok helyére bevezetett $p_i(s)$ függvény gyakorlatilag tetszőleges vektorértékű függvény lehet. Visszatérve az eredeti ötlethez, mi lenne, ha egy szakasz helyett most egy görbe mentén mozgatnánk el az eredeti görbénk kontrollpontjait? Az így kapott felületeket tenzorszorzat-felületeknek nevezzük (*tensor product spline patch*).\n",
    "\n",
    "Vezessük le a tenzorszorzat-felületek általános alakját kiindulva az ismert $\\gamma(t)$ függvényből, azonban ezúttal $j$-t használva indexeléshez:\n",
    "\n",
    "$$\n",
    "\\gamma(t) = \\sum\\limits_{j} b_j(t)P_j \\qquad t \\in [0, 1].\n",
    "$$\n",
    "\n",
    "Cseréljük le a $P_j$ kontrollpontokat\n",
    "\n",
    "$$\n",
    "p_j: [0, 1] \\rightarrow \\mathbb{R}^3\n",
    "$$\n",
    "\n",
    "függvényekre. E módon egy görbecsaládot kapunk, melynek első\n",
    "\n",
    "$$\n",
    "\\gamma(t) = \\sum\\limits_{j} b_j(t)p_j(0) \\qquad t \\in [0, 1]\n",
    "$$\n",
    "\n",
    "tagja adja az eredeti görbét. Az egész felületet ezúttal is egy kétváltozós függvény fogja előállítani:\n",
    "\n",
    "$$\n",
    "\\gamma: [0, 1] \\times [0, 1] \\rightarrow \\mathbb{R}^3,\n",
    "$$\n",
    "\n",
    "ahol\n",
    "\n",
    "$$\n",
    "\\gamma(s, t) = \\sum\\limits_{j} b_j(t)p_j(s).\n",
    "$$\n",
    "\n",
    "Eddig ugyanott tartunk, mint a szakasz mentén eltolt felület esetében. Azonban most a görbecsalád egyes tagjait meghatározó kontrollpontokat görbéken adott pontokból származtatjuk. Például az első kontrollpont a\n",
    "\n",
    "$$\n",
    "p_0(s) = \\sum\\limits_{i}Q_{i0}q_i(s)\n",
    "$$\n",
    "\n",
    "görbe mentén fog mozogni, ahol a $Q_{i0}$ pontok az ezt a görbét meghatározó kontrollpontok, $q(s)$ pedig valamilyen súlyfüggvény. Általánosan tehát\n",
    "\n",
    "$$\n",
    "p_j(s) = \\sum\\limits_{i}Q_{ij}q_i(s).\n",
    "$$\n",
    "\n",
    "Bontsuk ki ennek ismeretében a $\\gamma(s, t)$ függvényt:\n",
    "\n",
    "$$\n",
    "\\begin{align*}\n",
    "\\gamma(s, t) &= \\sum\\limits_{j} b_j(t)p_j(s) \\\\\n",
    "  &= \\sum\\limits_{j} b_j(t) \\bigg(\\sum\\limits_{i}Q_{ij}q_i(s)\\bigg) \\\\\n",
    "  &= \\sum\\limits_{j}\\bigg(\\sum\\limits_{i} Q_{ij}q_i(s)b_j(t)\\bigg) \\\\\n",
    "\\end{align*}\n",
    "$$\n",
    "\n",
    "Ezzel készen vagyunk, megkaptuk a tenzorszorzat-felület általános formuláját. Láthatjuk, hogy a felület létrehozásához meg kell adnunk a $Q_{ij}$ kontrollpontokat, valamint egy $s$ és egy $t$ irányú görbét. Azonban ezek a görbék nem szükségszerűen azonosak. Dolgozhatunk $s$ irányban egy Bézier-görbével, $t$ irányban pedig B-Spline-nal. Ez hatalmas rugalmasságot biztosít,  azonban leggyakrabban megegyező görbéket alkalmazunk (például harmadfokú Bézier-görbéket)."
   ]
  },
  {
   "cell_type": "markdown",
   "metadata": {},
   "source": [
    "### Demonstráció"
   ]
  },
  {
   "cell_type": "markdown",
   "metadata": {},
   "source": [
    "A demonstrációk rendre bikubikus ($s$ és $t$ irányban is harmadfokú) Bézier-, B-Spline és Catmull-Rom Spline-felületeket mutatnak be. A kamerát kezelni és a kontrollpontokat manipulálni az előző példával azonos módon tudjuk.\n",
    "\n",
    "Hasonlítsuk össze a különböző típusú felületeket, és vizsgáljuk meg, hogy milyen tulajdonságokat örököltek a görbetípustól, melyből származtatva lettek!"
   ]
  },
  {
   "cell_type": "markdown",
   "metadata": {},
   "source": [
    "#### Bézier"
   ]
  },
  {
   "cell_type": "code",
   "execution_count": 9,
   "metadata": {},
   "outputs": [
    {
     "data": {
      "text/html": [
       "\n",
       "    <div id=\"bezier-surface-container\"></div>\n",
       "    <script>require(['js/bezier-surface'], main => main($(\"#bezier-surface-container\"), 'bezier-surface'));</script>\n",
       "    "
      ],
      "text/plain": [
       "<IPython.core.display.HTML object>"
      ]
     },
     "execution_count": 9,
     "metadata": {},
     "output_type": "execute_result"
    }
   ],
   "source": [
    "addScript(\"js/bezier-surface\", \"bezier-surface\")"
   ]
  },
  {
   "cell_type": "markdown",
   "metadata": {},
   "source": [
    "#### B-Spline"
   ]
  },
  {
   "cell_type": "code",
   "execution_count": 10,
   "metadata": {},
   "outputs": [
    {
     "data": {
      "text/html": [
       "\n",
       "    <div id=\"b-spline-surface-container\"></div>\n",
       "    <script>require(['js/b-spline-surface'], main => main($(\"#b-spline-surface-container\"), 'b-spline-surface'));</script>\n",
       "    "
      ],
      "text/plain": [
       "<IPython.core.display.HTML object>"
      ]
     },
     "execution_count": 10,
     "metadata": {},
     "output_type": "execute_result"
    }
   ],
   "source": [
    "addScript(\"js/b-spline-surface\", \"b-spline-surface\")"
   ]
  },
  {
   "cell_type": "markdown",
   "metadata": {},
   "source": [
    "#### Catmull-Rom"
   ]
  },
  {
   "cell_type": "code",
   "execution_count": 11,
   "metadata": {},
   "outputs": [
    {
     "data": {
      "text/html": [
       "\n",
       "    <div id=\"catmull-rom-spline-surface-container\"></div>\n",
       "    <script>require(['js/catmull-rom-spline-surface'], main => main($(\"#catmull-rom-spline-surface-container\"), 'catmull-rom-spline-surface'));</script>\n",
       "    "
      ],
      "text/plain": [
       "<IPython.core.display.HTML object>"
      ]
     },
     "execution_count": 11,
     "metadata": {},
     "output_type": "execute_result"
    }
   ],
   "source": [
    "addScript(\"js/catmull-rom-spline-surface\", \"catmull-rom-spline-surface\")"
   ]
  },
  {
   "cell_type": "code",
   "execution_count": 12,
   "metadata": {},
   "outputs": [
    {
     "data": {
      "text/html": [
       "<style>\n",
       ".prompt{\n",
       "    display: None;\n",
       "}\n",
       "canvas {\n",
       "    display: block;\n",
       "    margin-left: auto;\n",
       "    margin-right: auto;\n",
       "    border: 1px solid #42A5F5;\n",
       "}\n",
       "div.output_png {\n",
       "    display: block;\n",
       "}\n",
       "div.output_subarea {\n",
       "    max-width: 100%;\n",
       "    text-align: center;\n",
       "}\n",
       ".canvas-controller {\n",
       "    position: relative;\n",
       "    top: 50%;\n",
       "    transform: translateY(-50%);\n",
       "}\n",
       ".controller-input-container {\n",
       "    display: flex;\n",
       "    align-items: center;\n",
       "    text-align: left;\n",
       "    margin-bottom: 1em;\n",
       "}\n",
       ".controller-input-container label {\n",
       "    width: 10em;\n",
       "}\n",
       ".slider-container {\n",
       "    display: flex;\n",
       "    flex-grow: 1;\n",
       "}\n",
       ".slider-container input {\n",
       "    flex-grow: 1;\n",
       "}\n",
       ".slider-min-label {\n",
       "    padding-right: 1em;\n",
       "}\n",
       ".slider-max-label {\n",
       "    padding-left: 1em;\n",
       "}\n",
       ".knot-container {\n",
       "    flex: 1 1 auto;\n",
       "    margin-bottom: 1em;\n",
       "}\n",
       ".knot-container input {\n",
       "    width: 100%;\n",
       "}\n",
       ".knot-container-heading {\n",
       "    text-align: left;\n",
       "    padding-bottom: 1em;\n",
       "}\n",
       "</style>\n",
       "<script>\n",
       "MathJax.Hub.Config({\n",
       "    TeX: {\n",
       "        extensions: [\"AMSmath.js\"]\n",
       "    },\n",
       "    tex2jax: {\n",
       "        inlineMath: [ ['$','$'], [\"\\\\(\",\"\\\\)\"] ],\n",
       "        displayMath: [ ['$$','$$'], [\"\\\\[\",\"\\\\]\"] ]\n",
       "    },\n",
       "    displayAlign: 'center',\n",
       "    \"HTML-CSS\": {\n",
       "        styles: {'.MathJax_Display': {\"margin\": 4}}\n",
       "    }\n",
       "});\n",
       "</script>"
      ],
      "text/plain": [
       "<IPython.core.display.HTML object>"
      ]
     },
     "execution_count": 12,
     "metadata": {},
     "output_type": "execute_result"
    }
   ],
   "source": [
    "def styling():\n",
    "    styles = open(\"../../styles/custom.html\", \"r\").read()\n",
    "    return HTML(styles)\n",
    "styling()\n"
   ]
  }
 ],
 "metadata": {
  "kernelspec": {
   "display_name": "Python 3",
   "language": "python",
   "name": "python3"
  },
  "language_info": {
   "codemirror_mode": {
    "name": "ipython",
    "version": 3
   },
   "file_extension": ".py",
   "mimetype": "text/x-python",
   "name": "python",
   "nbconvert_exporter": "python",
   "pygments_lexer": "ipython3",
   "version": "3.6.1"
  }
 },
 "nbformat": 4,
 "nbformat_minor": 2
}
