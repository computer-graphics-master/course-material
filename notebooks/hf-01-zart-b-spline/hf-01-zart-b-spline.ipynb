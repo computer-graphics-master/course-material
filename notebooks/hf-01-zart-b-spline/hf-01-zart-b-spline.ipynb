{
 "cells": [
  {
   "cell_type": "code",
   "execution_count": 1,
   "metadata": {},
   "outputs": [
    {
     "data": {
      "text/html": [
       "\n",
       "    <script>require.config({ baseUrl: 'https://rawgit.com/kompgraf/course-material/master/assets/' });</script>\n",
       "    "
      ],
      "text/plain": [
       "<IPython.core.display.HTML object>"
      ]
     },
     "execution_count": 1,
     "metadata": {},
     "output_type": "execute_result"
    }
   ],
   "source": [
    "from IPython.core.display import HTML\n",
    "from string import Template\n",
    "def jsConfig():\n",
    "    src = \"\"\"\n",
    "    <script>require.config({ baseUrl: 'https://rawgit.com/kompgraf/course-material/master/assets/' });</script>\n",
    "    \"\"\"\n",
    "    return HTML(src)\n",
    "def addScript(script, identifier):\n",
    "    src = Template(\"\"\"\n",
    "    <div id=\"${identifier}-container\"></div>\n",
    "    <script>require(['${script}'], main => main($$(\"#${identifier}-container\"), '${identifier}'));</script>\n",
    "    \"\"\")\n",
    "    return HTML(src.substitute(script = script, identifier = identifier))\n",
    "jsConfig()\n"
   ]
  },
  {
   "cell_type": "markdown",
   "metadata": {},
   "source": [
    "# 1. házi feladat - Zárt B-Spline görbe"
   ]
  },
  {
   "cell_type": "markdown",
   "metadata": {},
   "source": [
    "## Áttekintés"
   ]
  },
  {
   "cell_type": "markdown",
   "metadata": {},
   "source": [
    "A feladat egy **zárt B-Spline** görbe kirajzolására képes program elkészítése, mely a görbe megjelenítése mellett a kontrollpontok le- és áthelyezését biztosítja. A görbepontokat a gyakorlaton megismert, mátrixokon alapuló módszer segítségével kell számolni."
   ]
  },
  {
   "cell_type": "markdown",
   "metadata": {},
   "source": [
    "## Elvárt jellemzők"
   ]
  },
  {
   "cell_type": "markdown",
   "metadata": {},
   "source": [
    "A házi feladat megvédése *csak* akkor lehet sikeres, ha a program a jellemzőit tekintve hiánytalan. Az elvárt jellemzőket teljesítő program\n",
    "\n",
    "* megjeleníti a kontrollpontokat,\n",
    "* megjeleníti a kontrollpoligont,\n",
    "* tetszőleges számú kontrollpont elhelyezését teszi lehetővé,\n",
    "* már elhelyezett kontrollpont mozgatását lehetővé teszi (például *drag & drop* módszer segítségével),\n",
    "* által kirajzolt görbe valós időben követi a kontrollpontok mozgását, azaz a görbe megváltozása nem csak akkor lesz látható, amikor egy kontrollpont vonszolását befejeztük, hanem a vonszolás közben végig,\n",
    "* a görbepontok kiszámításához a gyakorlaton megismert $GMT(t)$ formulát használja,\n",
    "* a megadott kontrollpontok alapján egy **zárt**, **harmadfokú szegmensekből felépülő B-Spline** görbét jelenít meg.\n",
    " \n",
    "Természetesen a görbét csak a negyedik kontrollpont elhelyezése után kell elkezdeni kirajzolni."
   ]
  },
  {
   "cell_type": "markdown",
   "metadata": {},
   "source": [
    "## A kiszámítás módja"
   ]
  },
  {
   "cell_type": "markdown",
   "metadata": {},
   "source": [
    "### A felhasznált mátrixok"
   ]
  },
  {
   "cell_type": "markdown",
   "metadata": {},
   "source": [
    "A görbepontokat a gyakorlatokon megismert $GMT(t)$ alakú formula segítségével kell meghatározni, ahol a megfelelő mátrixok a következőek:\n",
    "\n",
    "$$\n",
    "\\begin{align*}\n",
    "G &= \\;\\;\\,\n",
    "\\begin{bmatrix}\n",
    "P_i && P_{i + 1} && P_{i + 2} && P_{i + 3}\n",
    "\\end{bmatrix} \\\\\n",
    "M &= \\frac{1}{6}\n",
    "\\begin{bmatrix}\n",
    "-1 & 3 & -3 & 1 \\\\\n",
    "3 & -6 & 0 & 4 \\\\\n",
    "-3 & 3 & 3 & 1 \\\\\n",
    "1 & 0 & 0 & 0 \\\\\n",
    "\\end{bmatrix} \\\\\n",
    "T(t) &= \\;\\;\\,\n",
    "\\begin{bmatrix}\n",
    "t^3 \\\\\n",
    "t^2 \\\\\n",
    "t \\\\\n",
    "1 \\\\\n",
    "\\end{bmatrix}\n",
    "\\end{align*}\n",
    "$$"
   ]
  },
  {
   "cell_type": "markdown",
   "metadata": {},
   "source": [
    "### A számítás menete"
   ]
  },
  {
   "cell_type": "markdown",
   "metadata": {},
   "source": [
    "A teljes görbét kisebb, egymáshoz csatlakozó harmadrendű darabokból kell felépíteni, melyeket kontrollpont-négyesek segítségével képzünk. Egy-egy ilyen darabot nevezünk a teljes görbe egy szegmensének.\n",
    "\n",
    "Ha adottak a $P_0, P_1, \\ldots, P_n$ kontrollpontok, akkor hagyományos esetben $n - 2$ szegmenst tudunk elkészíteni. Zárt esetben azonban minden egyes kontrollpontból kiindulva képezni fogunk egy szegmenst, azaz a szegmensek száma meg fog egyezni a kontrollpontok számával. Ha $i$-vel jelöljük a szegmensek indexeit, akkor $i = 0,1,\\ldots, n$.  Ne feledjük, hogy $n$ ebben az esetben a kontrollpontok száma mínusz egy!\n",
    "\n",
    "Például $4$ kontrollpont esetén $4$ darab szegmensünk lesz. Az $i=1$ indexű szegmenst ekkor úgy hozzuk létre, hogy az utolsó három és az első kontrollpont fogja meghatározni. Az ezt követő szegmenst az első kettő és az utolsó kettő. Végül az $i=3$ indexű szegmenst az utolsó és az első három. Mindig az egymással szomszédos négy kontrollpontot vesszük.\n",
    "\n",
    "Az $i$ szegmens elkészítéséhez először képeznünk kell a megfelelő pontokból a $G$ mátrixot. Általánosítva, zárt görbe esetén a ez a következő lesz:\n",
    "\n",
    "$$\n",
    "G =\n",
    "\\begin{bmatrix}\n",
    "P_{i \\; \\mathrm{mod} \\; n + 1} &&\n",
    "P_{i + 1 \\; \\mathrm{mod} \\; n + 1} &&\n",
    "P_{i + 2\\; \\mathrm{mod} \\; n + 1} &&\n",
    "P_{i + 3\\; \\mathrm{mod} \\; n + 1}\n",
    "\\end{bmatrix},\n",
    "$$\n",
    "\n",
    "ahol $i$ a szegmens indexe, $i = 0, 1, \\ldots n$, $n$ pedig a kontrollpontok száma mínusz egy. $x \\; \\mathrm{mod} \\; y$ pedig $x$ $y$-nal vett osztási maradékát jelenti.\n",
    "\n",
    "Ha megvan a $G$ mátrix, futtassuk a $t$ paramétert a $[0, 1]$ tartományon, és állítsuk össze a $T(t)$ mátrixot, majd számoljuk ki a $t$-nek megfelelő görbepontot. Ismételjük meg ezt az összes szegmensre, és készen vagyunk."
   ]
  },
  {
   "cell_type": "markdown",
   "metadata": {},
   "source": [
    "## Interaktív demonstráció"
   ]
  },
  {
   "cell_type": "markdown",
   "metadata": {},
   "source": [
    "Az elkészítendő program kipróbálható a lenti téglalapban. Kattintással helyezhetőek el új kontrollpontok, és vonszolással helyezhetőek át a meglevőek. \n",
    "\n",
    "A demonstráció működéséhez a WebGL és ES6 technológiákat támogató böngésző szükséges."
   ]
  },
  {
   "cell_type": "code",
   "execution_count": 2,
   "metadata": {},
   "outputs": [
    {
     "data": {
      "text/html": [
       "\n",
       "    <div id=\"hf-01-zart-b-spline-container\"></div>\n",
       "    <script>require(['js/hf-01-zart-b-spline'], main => main($(\"#hf-01-zart-b-spline-container\"), 'hf-01-zart-b-spline'));</script>\n",
       "    "
      ],
      "text/plain": [
       "<IPython.core.display.HTML object>"
      ]
     },
     "execution_count": 2,
     "metadata": {},
     "output_type": "execute_result"
    }
   ],
   "source": [
    "addScript(\"js/hf-01-zart-b-spline\", \"hf-01-zart-b-spline\")"
   ]
  },
  {
   "cell_type": "code",
   "execution_count": 3,
   "metadata": {},
   "outputs": [
    {
     "data": {
      "text/html": [
       "<style>\n",
       ".prompt{\n",
       "    display: None;\n",
       "}\n",
       "canvas {\n",
       "    display: block;\n",
       "    margin-left: auto;\n",
       "    margin-right: auto;\n",
       "    border: 1px solid #42A5F5;\n",
       "}\n",
       "div.output_png {\n",
       "    display: block;\n",
       "}\n",
       "div.output_subarea {\n",
       "    max-width: 100%;\n",
       "    text-align: center;\n",
       "}\n",
       ".canvas-controller {\n",
       "    position: relative;\n",
       "    top: 50%;\n",
       "    transform: translateY(-50%);\n",
       "}\n",
       ".controller-input-container {\n",
       "    display: flex;\n",
       "    align-items: center;\n",
       "    text-align: left;\n",
       "    margin-bottom: 1em;\n",
       "}\n",
       ".controller-input-container label {\n",
       "    width: 10em;\n",
       "}\n",
       ".controller-input-container input {\n",
       "    flex: 1 1 auto;\n",
       "}\n",
       "</style>\n",
       "<script>\n",
       "MathJax.Hub.Config({\n",
       "    TeX: {\n",
       "        extensions: [\"AMSmath.js\"]\n",
       "    },\n",
       "    tex2jax: {\n",
       "        inlineMath: [ ['$','$'], [\"\\\\(\",\"\\\\)\"] ],\n",
       "        displayMath: [ ['$$','$$'], [\"\\\\[\",\"\\\\]\"] ]\n",
       "    },\n",
       "    displayAlign: 'center',\n",
       "    \"HTML-CSS\": {\n",
       "        styles: {'.MathJax_Display': {\"margin\": 4}}\n",
       "    }\n",
       "});\n",
       "</script>"
      ],
      "text/plain": [
       "<IPython.core.display.HTML object>"
      ]
     },
     "execution_count": 3,
     "metadata": {},
     "output_type": "execute_result"
    }
   ],
   "source": [
    "def styling():\n",
    "    styles = open(\"../../styles/custom.html\", \"r\").read()\n",
    "    return HTML(styles)\n",
    "styling()\n"
   ]
  }
 ],
 "metadata": {
  "kernelspec": {
   "display_name": "Python 3",
   "language": "python",
   "name": "python3"
  },
  "language_info": {
   "codemirror_mode": {
    "name": "ipython",
    "version": 3
   },
   "file_extension": ".py",
   "mimetype": "text/x-python",
   "name": "python",
   "nbconvert_exporter": "python",
   "pygments_lexer": "ipython3",
   "version": "3.6.1"
  }
 },
 "nbformat": 4,
 "nbformat_minor": 2
}
