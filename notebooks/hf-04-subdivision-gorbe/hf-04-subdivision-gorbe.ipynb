{
 "cells": [
  {
   "cell_type": "code",
   "execution_count": 1,
   "metadata": {},
   "outputs": [
    {
     "data": {
      "text/html": [
       "\n",
       "    <script>require.config({ baseUrl: 'https://rawgit.com/kompgraf/course-material/master/assets/' });</script>\n",
       "    "
      ],
      "text/plain": [
       "<IPython.core.display.HTML object>"
      ]
     },
     "execution_count": 1,
     "metadata": {},
     "output_type": "execute_result"
    }
   ],
   "source": [
    "from IPython.core.display import HTML\n",
    "from string import Template\n",
    "def jsConfig():\n",
    "    src = \"\"\"\n",
    "    <script>require.config({ baseUrl: 'https://rawgit.com/kompgraf/course-material/master/assets/' });</script>\n",
    "    \"\"\"\n",
    "    return HTML(src)\n",
    "def addScript(script, identifier):\n",
    "    src = Template(\"\"\"\n",
    "    <div id=\"${identifier}-container\"></div>\n",
    "    <script>require(['${script}'], main => main($$(\"#${identifier}-container\"), '${identifier}'));</script>\n",
    "    \"\"\")\n",
    "    return HTML(src.substitute(script = script, identifier = identifier))\n",
    "jsConfig()\n"
   ]
  },
  {
   "cell_type": "markdown",
   "metadata": {
    "collapsed": true
   },
   "source": [
    "# Subdivision-görbe"
   ]
  },
  {
   "cell_type": "markdown",
   "metadata": {},
   "source": [
    "## Áttekintés"
   ]
  },
  {
   "cell_type": "markdown",
   "metadata": {},
   "source": [
    "A feladat egy zárt **subdivision-görbe** kirajzolására képes program elkészítése, mely a görbe pontjait a *Beccari és munkatársai* által kidolgozott *interpolating 4-point $C^2$ non-stationary ternary* séma segítségével számolja ki. Az eredeti cikk elérhető a következő címen:\n",
    "\n",
    "<div style=\"padding-top:1em;text-align: center\"><a href=\"https://boa.unimib.it/retrieve/handle/10281/7672/9112/BCR_ternary_cagd07.pdf\">https://boa.unimib.it/retrieve/handle/10281/7672/9112/BCR_ternary_cagd07.pdf</a></div>"
   ]
  },
  {
   "cell_type": "markdown",
   "metadata": {},
   "source": [
    "## Elvárt jellemzők"
   ]
  },
  {
   "cell_type": "markdown",
   "metadata": {},
   "source": [
    "A házi feladat megvédése *csak* akkor lehet sikeres, ha a program a jellemzőit tekintve hiánytalan. Az elvárt jellemzőket teljesítő program\n",
    "\n",
    "* megjeleníti az eredeti (azaz a 0. iterációhoz tartozó) kontrollpontokat,\n",
    "* *mindig* megjeleníti az eredeti (azaz a 0. iterációhoz tartozó) kontrollpoligont,\n",
    "* megjeleníti az 1-2-3-4. iterációkhoz tartozó kontrollpoligonokat,\n",
    "* lehetővé teszi külön-külön az 1-2-3-4. iterációkhozhoz tartozó kontrollpoligonok megjelenítésének kikapcsolását,\n",
    "* tetszőleges számú kontrollpont elhelyezését teszi lehetővé,\n",
    "* már elhelyezett kontrollpont mozgatását lehetővé teszi (például *drag & drop* módszer segítségével),\n",
    "* lehetővé teszi a feszességi érték (**tension**) megváltoztatását,\n",
    "* által kirajzolt görbe *minden iterációja* valós időben követi a kontrollpontok mozgását, azaz a görbe megváltozása nem csak akkor lesz látható, amikor egy kontrollpont vonszolását befejeztük, hanem a vonszolás közben végig,\n",
    "* lehetővé teszi az összes elhelyezett kontrollpont egyidejű törlését,\n",
    "* megjelenít egy rácsot, ami megkönnyíti a kontrollpontok elhelyezését,\n",
    "* a görbepontok kiszámításához a kiírás további részében leírt módszert használja.\n",
    " \n",
    "A görbét csak a negyedik kontrollpont elhelyezése után kell elkezdeni kirajzolni."
   ]
  },
  {
   "cell_type": "markdown",
   "metadata": {},
   "source": [
    "## A használt séma"
   ]
  },
  {
   "cell_type": "markdown",
   "metadata": {},
   "source": [
    "Vegyük először sorra, hogy a módszer neve milyen jellemzőket árul el a finomításokat alkotó számításokról! A séma *4-point*, azaz a soron következő finomítás egy új kontrollpontjának meghatározásához legfeljebb 4 régit fogunk felhasználni. Ezen felül *ternary*, tehát az új kontrollpontokat három különböző szabály alkalmazásával tudjuk majd számolni. Végül, tekintve, hogy *interpolatory* tulajdonságú eljárást alkalmazunk, az előző kontrollpoligon minden pontját át fogjuk vinni az új kontrollpoligonba is.\n",
    "\n",
    "A pontos képletek a következőek:\n",
    "\n",
    "$$\n",
    "\\begin{align*}\n",
    "P^k_{3j} &=P^{k-1}_j \\\\\n",
    "P^k_{3j + 1} &= \\alpha^{k-1}_{0}P^{k-1}_{j - 1} + \\alpha^{k-1}_{1}P^{k-1}_{j} + \\alpha^{k-1}_{2}P^{k-1}_{j + 1} + \\alpha^{k-1}_{3}P^{k-1}_{j + 2} \\\\\n",
    "P^k_{3j + 2} &= \\alpha^{k-1}_{3}P^{k-1}_{j - 1} + \\alpha^{k-1}_{2}P^{k-1}_{j} + \\alpha^{k-1}_{1}P^{k-1}_{j + 1} + \\alpha^{k-1}_{0}P^{k-1}_{j + 2}\n",
    "\\end{align*}\n",
    "$$\n",
    "\n",
    "Tehát minden finomítás során megtartjuk az előző kontrollpoligon pontjait, és minden négy egymást követő pont kétféle lineáris kombinációját képezzük az $\\alpha^{k-1}_i$ $(i = 0, 1, 2, 3)$ értékek segítségével. Ezeket az együtthatókat a következő módon számolhatjuk:\n",
    "\n",
    "$$\n",
    "\\begin{align*}\n",
    "\\alpha^{k}_0 &= \\frac{1}{60}(-90\\gamma^{k + 1} - 1) \\\\\n",
    "\\alpha^{k}_1 &= \\frac{1}{60}(90\\gamma^{k + 1} + 43) \\\\\n",
    "\\alpha^{k}_2 &= \\frac{1}{60}(90\\gamma^{k + 1} + 17) \\\\\n",
    "\\alpha^{k}_3 &= \\frac{1}{60}(-90\\gamma^{k + 1} + 1) \\\\\n",
    "\\end{align*}\n",
    "$$\n",
    "\n",
    "Ahol \n",
    "\n",
    "$$\n",
    "\\gamma^{k + 1} = - \\frac{1}{3(1 - (\\beta^{k + 1})^2)(1 + \\beta^{k + 1})},\n",
    "$$\n",
    "\n",
    "és\n",
    "\n",
    "$$\n",
    "\\beta^{k + 1} = \\sqrt{2 + \\beta^{k}} \\qquad \\beta^{k} \\in [-2, \\infty[ \\; \\setminus \\, \\{ -1 \\} \\quad \\forall k \\in [0, 1, \\ldots, \\infty[\n",
    "$$\n"
   ]
  },
  {
   "cell_type": "markdown",
   "metadata": {},
   "source": [
    "### Egy finomítás kiszámítása"
   ]
  },
  {
   "cell_type": "markdown",
   "metadata": {},
   "source": [
    "Kezdetben tehát adott a $P^0$ kontrollpoligon, melynek pontjait a felhasználó helyezte el, valamint egy $\\beta^0$ feszességi érték, amely egy olyan valós szám, ami $-2$ és pozitív végtelen között vehet fel értékeket, a $-1$ kivételével.\n",
    "\n",
    "Kiindulva egy tetszőleges kontrollpoligonból (azaz $k \\geq 0$ tetszőleges egész), először meghatározzuk a következő $\\beta^{k + 1}$ feszességi paramétert. Ezt folytatjuk a $\\gamma^{k + 1}$, majd az $\\alpha^{k}_i$ értékek kiszámításával.\n",
    "\n",
    "Miután az együtthatókat meghatároztuk, rátérünk a tényleges subdivisionre. Mivel zárt görbét készítünk, vesszük a $k$-adik iteráció minden kontrollpontját. Az összes kontrollpont esetén vesszük azok megelőzőjét és két rákövetkezőjét. Az így kapott négyesekre már alkalmazhatjuk az előbb felírt képleteket. A négyesekből képzett új kontrollpont-hármasokat sorrendben összefűzve kapjuk az új, finomított kontrollpoligont. Az eljárást addig ismételjük, míg kellően sima görbét nem kapunk.\n",
    "\n",
    "A házi feladat részeként $4$ egymást követő finomítást kell kiszámolni."
   ]
  },
  {
   "cell_type": "markdown",
   "metadata": {},
   "source": [
    "## Demonstráció"
   ]
  },
  {
   "cell_type": "markdown",
   "metadata": {},
   "source": [
    "A demonstráció kezelése a megszokott módon történik. A feszességet a *Tension* mező értékének módosításával befolyásolhatjuk; $\\beta^0 = -1$ esetén a görbe egyszerűen eltűnik.\n",
    "\n",
    "A házi feladat alapját képező séma szabályos sokszögek esetén adja a legérdekesebb eredményeket, emiatt szükséges a rács megjelenítése, a kontrollpontok megfelelő elhelyezését elősegítendő."
   ]
  },
  {
   "cell_type": "code",
   "execution_count": 3,
   "metadata": {},
   "outputs": [
    {
     "data": {
      "text/html": [
       "\n",
       "    <div id=\"four-point-subdivision-container\"></div>\n",
       "    <script>require(['js/four-point-subdivision'], main => main($(\"#four-point-subdivision-container\"), 'four-point-subdivision'));</script>\n",
       "    "
      ],
      "text/plain": [
       "<IPython.core.display.HTML object>"
      ]
     },
     "execution_count": 3,
     "metadata": {},
     "output_type": "execute_result"
    }
   ],
   "source": [
    "addScript(\"js/four-point-subdivision\", \"four-point-subdivision\")"
   ]
  },
  {
   "cell_type": "code",
   "execution_count": 2,
   "metadata": {},
   "outputs": [
    {
     "data": {
      "text/html": [
       "<style>\n",
       ".prompt{\n",
       "    display: None;\n",
       "}\n",
       "canvas {\n",
       "    display: block;\n",
       "    margin-left: auto;\n",
       "    margin-right: auto;\n",
       "    border: 1px solid #42A5F5;\n",
       "}\n",
       "div.output_png {\n",
       "    display: block;\n",
       "}\n",
       "div.output_subarea {\n",
       "    max-width: 100%;\n",
       "    text-align: center;\n",
       "}\n",
       ".canvas-controller {\n",
       "    position: relative;\n",
       "    top: 50%;\n",
       "    transform: translateY(-50%);\n",
       "}\n",
       ".controller-input-container {\n",
       "    display: flex;\n",
       "    align-items: center;\n",
       "    text-align: left;\n",
       "    margin-bottom: 1em;\n",
       "}\n",
       ".controller-input-container label {\n",
       "    width: 10em;\n",
       "}\n",
       ".slider-container {\n",
       "    display: flex;\n",
       "    flex-grow: 1;\n",
       "}\n",
       ".slider-container input {\n",
       "    flex-grow: 1;\n",
       "}\n",
       ".slider-min-label {\n",
       "    padding-right: 1em;\n",
       "}\n",
       ".slider-max-label {\n",
       "    padding-left: 1em;\n",
       "}\n",
       ".knot-container {\n",
       "    flex: 1 1 auto;\n",
       "    margin-bottom: 1em;\n",
       "}\n",
       ".knot-container input {\n",
       "    width: 100%;\n",
       "}\n",
       ".knot-container-heading {\n",
       "    text-align: left;\n",
       "    padding-bottom: 1em;\n",
       "}\n",
       "</style>\n",
       "<script>\n",
       "MathJax.Hub.Config({\n",
       "    TeX: {\n",
       "        extensions: [\"AMSmath.js\"]\n",
       "    },\n",
       "    tex2jax: {\n",
       "        inlineMath: [ ['$','$'], [\"\\\\(\",\"\\\\)\"] ],\n",
       "        displayMath: [ ['$$','$$'], [\"\\\\[\",\"\\\\]\"] ]\n",
       "    },\n",
       "    displayAlign: 'center',\n",
       "    \"HTML-CSS\": {\n",
       "        styles: {'.MathJax_Display': {\"margin\": 4}}\n",
       "    }\n",
       "});\n",
       "</script>"
      ],
      "text/plain": [
       "<IPython.core.display.HTML object>"
      ]
     },
     "execution_count": 2,
     "metadata": {},
     "output_type": "execute_result"
    }
   ],
   "source": [
    "def styling():\n",
    "    styles = open(\"../../styles/custom.html\", \"r\").read()\n",
    "    return HTML(styles)\n",
    "styling()\n"
   ]
  }
 ],
 "metadata": {
  "kernelspec": {
   "display_name": "Python 3",
   "language": "python",
   "name": "python3"
  },
  "language_info": {
   "codemirror_mode": {
    "name": "ipython",
    "version": 3
   },
   "file_extension": ".py",
   "mimetype": "text/x-python",
   "name": "python",
   "nbconvert_exporter": "python",
   "pygments_lexer": "ipython3",
   "version": "3.6.1"
  }
 },
 "nbformat": 4,
 "nbformat_minor": 2
}
