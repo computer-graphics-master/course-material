{
 "cells": [
  {
   "cell_type": "code",
   "execution_count": 1,
   "metadata": {},
   "outputs": [
    {
     "data": {
      "text/html": [
       "\n",
       "    <script>require.config({ baseUrl: 'https://rawgit.com/kompgraf/course-material/master/assets/' });</script>\n",
       "    "
      ],
      "text/plain": [
       "<IPython.core.display.HTML object>"
      ]
     },
     "execution_count": 1,
     "metadata": {},
     "output_type": "execute_result"
    }
   ],
   "source": [
    "from IPython.core.display import HTML\n",
    "from string import Template\n",
    "def jsConfig():\n",
    "    src = \"\"\"\n",
    "    <script>require.config({ baseUrl: 'https://rawgit.com/kompgraf/course-material/master/assets/' });</script>\n",
    "    \"\"\"\n",
    "    return HTML(src)\n",
    "def addScript(script, identifier):\n",
    "    src = Template(\"\"\"\n",
    "    <div id=\"${identifier}-container\"></div>\n",
    "    <script>require(['${script}'], main => main($$(\"#${identifier}-container\"), '${identifier}'));</script>\n",
    "    \"\"\")\n",
    "    return HTML(src.substitute(script = script, identifier = identifier))\n",
    "jsConfig()\n"
   ]
  },
  {
   "cell_type": "markdown",
   "metadata": {},
   "source": [
    "# Bézier-felület"
   ]
  },
  {
   "cell_type": "markdown",
   "metadata": {},
   "source": [
    "## Áttekintés"
   ]
  },
  {
   "cell_type": "markdown",
   "metadata": {},
   "source": [
    "A feladat egy **bikubikus Bézier-felület** kirajzolására képes program elkészítése, mely a felület megjelenítése mellett a kontrollpontok áthelyezését biztosítja. A felület pontjait a gyakorlaton megismert képlet segítségével kell kiszámolni."
   ]
  },
  {
   "cell_type": "markdown",
   "metadata": {},
   "source": [
    "## Elvárt jellemzők"
   ]
  },
  {
   "cell_type": "markdown",
   "metadata": {},
   "source": [
    "### Általános elvárások"
   ]
  },
  {
   "cell_type": "markdown",
   "metadata": {},
   "source": [
    "A házi feladat megvédése *csak* akkor lehet sikeres, ha a program a jellemzőit tekintve hiánytalan. Az elvárt jellemzőket teljesítő program\n",
    "\n",
    "* megjeleníti a kontrollpontokat,\n",
    "* megjeleníti a kontrollhálót,\n",
    "* a már elhelyezett kontrollpont mozgatását lehetővé teszi,\n",
    "* által kirajzolt felület valós időben követi a kontrollpontok mozgását\n",
    "* a felület pontjainak kiszámításához a gyakorlaton megismert képletet használja,\n",
    "* lehetőséget biztosít a felület körbejárására egy hengeren mozgó kamera segítségével,\n",
    "* a felületet láthatóság szerint helyesen rajzolja ki,\n",
    "* a felületet alkotó háromszögeket felváltva különböző színnel rajzolja ki,\n",
    "* a megfelelő transzformációkat alkalmazza."
   ]
  },
  {
   "cell_type": "markdown",
   "metadata": {},
   "source": [
    "### A kontrollpontok elhelyezése"
   ]
  },
  {
   "cell_type": "markdown",
   "metadata": {},
   "source": [
    "A kontrollhálót alkotó $16$ pontot nem a felhasználónak kell elhelyeznie, hanem a program elindításakor megjelenik a szükséges számú kontrollpont és velük együtt a felület is. A kontrollpontok kezdeti elhelyezkedése tetszőleges."
   ]
  },
  {
   "cell_type": "markdown",
   "metadata": {},
   "source": [
    "### A kontrollpontok mozgatása"
   ]
  },
  {
   "cell_type": "markdown",
   "metadata": {},
   "source": [
    "A már elhelyezett kontrollpontok koordinátáinak módosítása tetszőleges módszerrel megvalósítható. A kattintás helyén található kontrollpont azonosítása a legegyszerűbben úgy történhet, hogy a kontrollpontok mindegyikét beszorozzuk a transzformációs mátrixszal, és az így kapott pontokat már kétdimenzióban hasonlítjuk a kattintás helyéhez. \n",
    "\n",
    "Egymást fedő pontok esetén lehet csak nemdeterminisztikus az így kapott pont kiválasztása. Ezt úgy előzhetjük meg, hogy még háromdimenzióban a festő algoritmus alkalmazásával rendezzük a pontokat."
   ]
  },
  {
   "cell_type": "markdown",
   "metadata": {},
   "source": [
    "### Transzformációk és láthatóság"
   ]
  },
  {
   "cell_type": "markdown",
   "metadata": {},
   "source": [
    "A megjelenítéshez a *Bevezetés a számítógépi grafikába* tárgy keretein belül megismert technikákat kell alkalmazni. Szükséges \n",
    "\n",
    "* *Window to Viewport* transzformáció,\n",
    "* hengeren mozgó kamera,\n",
    "* centrális vetítés,\n",
    "* festő algoritmus\n",
    "\n",
    "használata. Fontos, hogy az úgynevezett hátsó lapokat nem kell eldobni!\n",
    "\n",
    "A kamera, a láthatóság és a transzformációs lánc megvalósítását a következő kiírásban szereplő módon tegyük:\n",
    "\n",
    "<p style=\"text-align: center;\">\n",
    "  https://arato.inf.unideb.hu/kunkli.roland/hf6.pdf\n",
    "</p>\n",
    "\n",
    "A kontrollhálót és a kontrollpontokat *nem* szükséges láthatóság szerint helyesen megjeleníteni."
   ]
  },
  {
   "cell_type": "markdown",
   "metadata": {},
   "source": [
    "### Színek"
   ]
  },
  {
   "cell_type": "markdown",
   "metadata": {},
   "source": [
    "A felület elülső és hátulsó lapjait különböző színekkel jelenítsük meg. Ezen felül ahhoz, hogy a felület jól kivehető legyen, a háromszögeket felváltva, különböző színnel rajzoljuk ki. Tehát összesen négy különböző színt kell használnunk, kettőt az elülső, kettőt a hátulsó lapokhoz.\n",
    "\n",
    "Törekedjünk harmonizáló színkombinációk használatára. Kiindulásként válogathatunk a következő linken találhatóak közül:\n",
    "\n",
    "<p style=\"text-align: center;\">\n",
    "  https://color.adobe.com/explore/?filter=most-popular&time=all\n",
    "</p>"
   ]
  },
  {
   "cell_type": "markdown",
   "metadata": {},
   "source": [
    "## A felületpontok számításának módja"
   ]
  },
  {
   "cell_type": "markdown",
   "metadata": {},
   "source": [
    "Legyen adott $16$ darab kontrollpont:\n",
    "\n",
    "$$\n",
    "Q_{ij} \\qquad i,j = 0,1,2,3\n",
    "$$\n",
    "\n",
    "Ezek alkotják a kontrollhálót. A felületet alkotó pontokat a következő függvény segítségével számolhatjuk\n",
    "\n",
    "$$\n",
    "  S(s, t) = \\sum_{j = 0}^{3}\\sum_{i = 0}^{3}Q_{ij}b_i(s)b_j(t) \\qquad s, t \\in [0, 1],\n",
    "$$\n",
    "\n",
    "ahol $b_j$ és $b_i$ a harmadfokú Bézier-bázisfüggvények, melyek a következőképpen adottak:\n",
    "\n",
    "$$\n",
    "\\begin{align*}\n",
    "b_0(t) &= -t^3 + 3t^2 - 3t + 1 \\\\\n",
    "b_1(t) &= 3t^3 -6t^2 + 3t \\\\\n",
    "b_2(t) &= -3t^3 + 3t^2 \\\\\n",
    "b_3(t) &= t^3\n",
    "\\end{align*}\n",
    "$$"
   ]
  },
  {
   "cell_type": "markdown",
   "metadata": {},
   "source": [
    "### A felület háromszögelése"
   ]
  },
  {
   "cell_type": "markdown",
   "metadata": {},
   "source": [
    "A felület pontjait az előzőleg definiált $S(s, t)$ függvényt alkalmazva fogjuk számolni. Mind az $s$, mind a $t$ paramétert a $[0, 1]$ tartományon kell végigfuttatni. Azonban $s$ minden egyes értéke esetén a $t$ paramétert újra végig kell vinni az egész tartományon. Tehát minden rögzített $s$ érték esetén $t$ végigfut a teljes $[0, 1]$ tartományon. Ez praktikusan egy duplaciklus segítségével implementálható.\n",
    "\n",
    "Ezzel még csak meghatároztunk néhány, a felületen fekvő pontot; ezekből még azonban háromszögeket kell képezni. Jelölje $\\Delta$ mind $s$, mind $t$ irányában a növekményt, mellyel a ciklusokat léptetjük. Vegyünk egy rögzített $s$ és $t$ értéket. Ekkor egy-egy háromszöget a következő $s$ és $t$ értékek által meghatározott felületpontok fognak alkotni:\n",
    "\n",
    "$$\n",
    "  (s, t), (s, t + \\Delta), (s + \\Delta, t + \\Delta)\n",
    "$$\n",
    "\n",
    "és\n",
    "\n",
    "$$\n",
    "  (s, t), (s + \\Delta, t + \\Delta), (s + \\Delta, t)\n",
    "$$\n",
    "\n",
    "Figyeljünk arra, hogy a háromszögek csúcsai konzisztensen, az óramutató járásával ellentétesen legyenek felsorolva!"
   ]
  },
  {
   "cell_type": "markdown",
   "metadata": {},
   "source": [
    "## Demonstráció"
   ]
  },
  {
   "cell_type": "markdown",
   "metadata": {},
   "source": [
    "A demonstráció egy bikubikus Bézier-felületet jelenít meg. Ha rákattintunk a kék téglalapra, akkor az megkapja a fókuszt, és el tudja kapni a billentyűeseményeket. A kamera mozgatását a következő billentyűkkel vezérelhetjük:\n",
    "\n",
    "* <kbd>W</kbd> - a kamera mozgatása fölfele a henger palástján,\n",
    "* <kbd>S</kbd> - a kamera mozgatása lefele a henger palástján,\n",
    "* <kbd>D</kbd> - a kamera mozgatása jobbra a henger palástján,\n",
    "* <kbd>A</kbd> - a kamera mozgatása balra a henger palástján,\n",
    "* <kbd>Numpad+</kbd> - a henger sugarának növelése (ha nincs kijelölt kontrollpont),\n",
    "* <kbd>Numpad-</kbd> - a henger sugarának csökkentése (ha nincs kijelölt kontrollpont).\n",
    "\n",
    "Kattintással tudunk kontrollpontot kijelölni. Az éppen kijelölt kontrollpont zöld színnel lesz kirajzolva. Ha üres területre kattintunk, akkor eltűnik a kijelölés. Amennyiben van kiválasztott kontrollpont, akkor az <kbd>X</kbd>, <kbd>Y</kbd> és <kbd>Z</kbd> billentyűkkel tudjuk kijelölni a tengelyt, amelynek mentén mozgatni szeretnénk a pontot, és a <kbd>Numpad+</kbd>, <kbd>Numpad-</kbd> billentyűk használatával tudjuk a kontrollpontot a kijelölt tengely mentén elmozgatni."
   ]
  },
  {
   "cell_type": "code",
   "execution_count": 3,
   "metadata": {},
   "outputs": [
    {
     "data": {
      "text/html": [
       "\n",
       "    <div id=\"bezier-surface-homework-container\"></div>\n",
       "    <script>require(['js/bezier-surface-homework'], main => main($(\"#bezier-surface-homework-container\"), 'bezier-surface-homework'));</script>\n",
       "    "
      ],
      "text/plain": [
       "<IPython.core.display.HTML object>"
      ]
     },
     "execution_count": 3,
     "metadata": {},
     "output_type": "execute_result"
    }
   ],
   "source": [
    "addScript(\"js/bezier-surface-homework\", \"bezier-surface-homework\")"
   ]
  },
  {
   "cell_type": "code",
   "execution_count": 2,
   "metadata": {},
   "outputs": [
    {
     "data": {
      "text/html": [
       "<style>\n",
       ".prompt{\n",
       "    display: None;\n",
       "}\n",
       "canvas {\n",
       "    display: block;\n",
       "    margin-left: auto;\n",
       "    margin-right: auto;\n",
       "    border: 1px solid #42A5F5;\n",
       "}\n",
       "div.output_png {\n",
       "    display: block;\n",
       "}\n",
       "div.output_subarea {\n",
       "    max-width: 100%;\n",
       "    text-align: center;\n",
       "}\n",
       ".canvas-controller {\n",
       "    position: relative;\n",
       "    top: 50%;\n",
       "    transform: translateY(-50%);\n",
       "}\n",
       ".controller-input-container {\n",
       "    display: flex;\n",
       "    align-items: center;\n",
       "    text-align: left;\n",
       "    margin-bottom: 1em;\n",
       "}\n",
       ".controller-input-container label {\n",
       "    width: 10em;\n",
       "}\n",
       ".slider-container {\n",
       "    display: flex;\n",
       "    flex-grow: 1;\n",
       "}\n",
       ".slider-container input {\n",
       "    flex-grow: 1;\n",
       "}\n",
       ".slider-min-label {\n",
       "    padding-right: 1em;\n",
       "}\n",
       ".slider-max-label {\n",
       "    padding-left: 1em;\n",
       "}\n",
       ".knot-container {\n",
       "    flex: 1 1 auto;\n",
       "    margin-bottom: 1em;\n",
       "}\n",
       ".knot-container input {\n",
       "    width: 100%;\n",
       "}\n",
       ".knot-container-heading {\n",
       "    text-align: left;\n",
       "    padding-bottom: 1em;\n",
       "}\n",
       "</style>\n",
       "<script>\n",
       "MathJax.Hub.Config({\n",
       "    TeX: {\n",
       "        extensions: [\"AMSmath.js\"]\n",
       "    },\n",
       "    tex2jax: {\n",
       "        inlineMath: [ ['$','$'], [\"\\\\(\",\"\\\\)\"] ],\n",
       "        displayMath: [ ['$$','$$'], [\"\\\\[\",\"\\\\]\"] ]\n",
       "    },\n",
       "    displayAlign: 'center',\n",
       "    \"HTML-CSS\": {\n",
       "        styles: {'.MathJax_Display': {\"margin\": 4}}\n",
       "    }\n",
       "});\n",
       "</script>"
      ],
      "text/plain": [
       "<IPython.core.display.HTML object>"
      ]
     },
     "execution_count": 2,
     "metadata": {},
     "output_type": "execute_result"
    }
   ],
   "source": [
    "def styling():\n",
    "    styles = open(\"../../styles/custom.html\", \"r\").read()\n",
    "    return HTML(styles)\n",
    "styling()\n"
   ]
  }
 ],
 "metadata": {
  "kernelspec": {
   "display_name": "Python 3",
   "language": "python",
   "name": "python3"
  },
  "language_info": {
   "codemirror_mode": {
    "name": "ipython",
    "version": 3
   },
   "file_extension": ".py",
   "mimetype": "text/x-python",
   "name": "python",
   "nbconvert_exporter": "python",
   "pygments_lexer": "ipython3",
   "version": "3.6.1"
  }
 },
 "nbformat": 4,
 "nbformat_minor": 2
}
