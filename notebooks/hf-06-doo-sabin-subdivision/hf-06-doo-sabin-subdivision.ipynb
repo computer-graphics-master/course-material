{
 "cells": [
  {
   "cell_type": "code",
   "execution_count": 5,
   "metadata": {},
   "outputs": [
    {
     "data": {
      "text/html": [
       "\n",
       "    <script>require.config({ baseUrl: 'https://rawgit.com/kompgraf/course-material/master/assets/' });</script>\n",
       "    "
      ],
      "text/plain": [
       "<IPython.core.display.HTML object>"
      ]
     },
     "execution_count": 5,
     "metadata": {},
     "output_type": "execute_result"
    }
   ],
   "source": [
    "from IPython.core.display import HTML\n",
    "from string import Template\n",
    "def jsConfig():\n",
    "    src = \"\"\"\n",
    "    <script>require.config({ baseUrl: 'https://rawgit.com/kompgraf/course-material/master/assets/' });</script>\n",
    "    \"\"\"\n",
    "    return HTML(src)\n",
    "def addScript(script, identifier):\n",
    "    src = Template(\"\"\"\n",
    "    <div id=\"${identifier}-container\"></div>\n",
    "    <script>require(['${script}'], main => main($$(\"#${identifier}-container\"), '${identifier}'));</script>\n",
    "    \"\"\")\n",
    "    return HTML(src.substitute(script = script, identifier = identifier))\n",
    "jsConfig()\n"
   ]
  },
  {
   "cell_type": "markdown",
   "metadata": {
    "collapsed": true
   },
   "source": [
    "# Doo-Sabin subdivision"
   ]
  },
  {
   "cell_type": "markdown",
   "metadata": {},
   "source": [
    "## Áttekintés"
   ]
  },
  {
   "cell_type": "markdown",
   "metadata": {},
   "source": [
    "A feladat egy **Doo-Sabin subdivision sémát** alkalmazó program elkészítése, mely lehetőséget biztosít többszöri finomítás végrehajtására."
   ]
  },
  {
   "cell_type": "markdown",
   "metadata": {},
   "source": [
    "## Elvárt jellemzők"
   ]
  },
  {
   "cell_type": "markdown",
   "metadata": {},
   "source": [
    "### Általános elvárások"
   ]
  },
  {
   "cell_type": "markdown",
   "metadata": {},
   "source": [
    "A házi feladat megvédése *csak* akkor lehet sikeres, ha a program a jellemzőit tekintve hiánytalan. Az elvárt jellemzőket teljesítő program\n",
    "\n",
    "* megjeleníti a finomításnak alávetett mesht,\n",
    "* megjeleníti a mesh lapjait határoló éleket,\n",
    "* lehetőséget biztosít a mesh körbejárására egy hengeren mozgó kamera segítségével,\n",
    "* a lapokat láthatóság szerint helyesen rajzolja ki,\n",
    "* tetszőleges sok finomítás végrehajtására ad lehetőséget,\n",
    "* a mesh reprezentációjához a Half-Edge adatszerkezetet használja,\n",
    "* a megfelelő transzformációkat alkalmazza."
   ]
  },
  {
   "cell_type": "markdown",
   "metadata": {},
   "source": [
    "### Mesh\n",
    "\n",
    "A kiinduló mesh tetszőleges lehet, az egyetlen követelmény, hogy Half-Edge struktúrával legyen leírva."
   ]
  },
  {
   "cell_type": "markdown",
   "metadata": {},
   "source": [
    "### Transzformációk és láthatóság"
   ]
  },
  {
   "cell_type": "markdown",
   "metadata": {},
   "source": [
    "A megjelenítéshez a *Bevezetés a számítógépi grafikába* tárgy keretein belül megismert technikákat kell alkalmazni. Szükséges \n",
    "\n",
    "* *Window to Viewport* transzformáció,\n",
    "* hengeren mozgó kamera,\n",
    "* centrális vetítés,\n",
    "* festő algoritmus\n",
    "\n",
    "használata. Fontos, hogy ellentétben a Bézier-felülettel, ebben a házi feladatban gondoskodni kell a hátsó lapok eldobásáról!\n",
    "\n",
    "A kamera, a láthatóság és a transzformációs lánc megvalósítását a következő kiírásban szereplő módon tegyük:\n",
    "\n",
    "<p style=\"text-align: center;\">\n",
    "  <a href=\"https://arato.inf.unideb.hu/kunkli.roland/hf6.pdf\">https://arato.inf.unideb.hu/kunkli.roland/hf6.pdf</a>\n",
    "</p>"
   ]
  },
  {
   "cell_type": "markdown",
   "metadata": {},
   "source": [
    "## Az algoritmus váza"
   ]
  },
  {
   "cell_type": "markdown",
   "metadata": {},
   "source": [
    "### Áttekintés"
   ]
  },
  {
   "cell_type": "markdown",
   "metadata": {},
   "source": [
    "A vázolt algoritmus a *Doo-Sabin* subdivision egy finomítását hajtja végre. Ellentétben az előző házi feladat algoritmusával, a mostani leírás inkább csak iránymutatásul szolgál, teret engedve az egyedi megoldások számára. Ennek következménye az is, hogy nincs szigorúan megkötve, hogy milyen módon kell implementálni a sémát.\n",
    "\n",
    "Az itt leírtak az előző házi feladat algoritmusának a leírására, valamint a Half-Edge jegyzetre támaszkodnak."
   ]
  },
  {
   "cell_type": "markdown",
   "metadata": {},
   "source": [
    "### Felhasznált adatszerkezetek"
   ]
  },
  {
   "cell_type": "markdown",
   "metadata": {},
   "source": [
    "Ezúttal is érdemes mutatók helyett indexeket alkalmazni, azonban annak következtében, hogy a lapok tetszőleges számú csúcsból állhatnak, nem tudunk olyan erőteljes kapcsolatot létrehozni a mutatók segítségével, mint a Loop subdivision esetén. A mesh tárolásához használt tömbök a következőek lesznek:\n",
    "\n",
    "  * **Vertices Array (VA)**: Ez a tömb tárolja a csúcsokat. Minden csúcsot három koordináta és egy félél indexe alkot, mely félél *az adott a csúcsból indul ki*.\n",
    "\n",
    "~~~~C++\n",
    "struct Vertex {\n",
    "    float x, y, z;\n",
    "    int edge; // egy olyan félél az indexe, mely ebből a csúcsból indul\n",
    "};\n",
    "~~~~\n",
    "\n",
    "* **Faces Array (FA)**: A lapokat tároló tömb. A lapokat leíró struktúra mindössze egy indexet tartalmaz, mely egy, az adott lapot határoló félélt azonosít.\n",
    "\n",
    "~~~~C++\n",
    "struct Face {\n",
    "    int halfEdge;\n",
    "}\n",
    "~~~~\n",
    "\n",
    "* **Half-Edge Array (HA)**: A félélek tömbje. A féléleket reprezentáló adatszerkezet indexek formájában tartalmazza az adott félél párját és rákövetkezőjét, azt a csúcsot, melybe a félél fut, valamint a lapot, melyet határol.\n",
    "\n",
    "~~~~C++\n",
    "struct HalfEdge {\n",
    "    int vertex\n",
    "    int next;\n",
    "    int pair;\n",
    "    int face;\n",
    "}\n",
    "~~~~\n",
    "\n",
    "További mezők is hozzáadhatók az egyes struktúrákhoz az algoritmus hatékony megvalósításának érdekében."
   ]
  },
  {
   "cell_type": "markdown",
   "metadata": {},
   "source": [
    "### Az algoritmus lépései"
   ]
  },
  {
   "cell_type": "markdown",
   "metadata": {},
   "source": [
    "#### 0. Inicializáció"
   ]
  },
  {
   "cell_type": "markdown",
   "metadata": {},
   "source": [
    "Mielőtt megkezdenénk a finomítást, hozzunk létre néhány segédtömböt:\n",
    "\n",
    "  * `EP` (Edge Points) - Az élek felezőpontjait tároló tömb.\n",
    "  * `FP` (Face Points) - A lapok súlypontjait tároló tömb.\n",
    "  * `NF` (New Faces) - Új lapok tömbje.\n",
    "  * `NE` (New Edges) - Az új félélek tömbje.\n",
    "  * `NV` (New Vertices) - Új csúcsok tömbje.\n",
    "  \n",
    "Az `NF` tömbbe rögtön másoljuk át a régi lapokat, az `NE` tömbbe pedig a régi féléleket. Ennek az az oka, hogy az *F-face*-ek tárolását így már meg is valósítottuk, mindössze a félélek párjainak módosítására lesz szükség. Ez abból következik, hogy minden régi lap egy új *F-face*-t generál, ami pontosan ugyanannyi csúcsból és félélből áll, mint az eredeti lap."
   ]
  },
  {
   "cell_type": "markdown",
   "metadata": {},
   "source": [
    "#### 1. *Edge Points*"
   ]
  },
  {
   "cell_type": "markdown",
   "metadata": {},
   "source": [
    "Töltsük fel az `EP` tömböt az élek által generált pontokkal! Ehhez menjünk végig a félélek tömbjén, és keressük meg minden félél kezdő- és végpontját. Utána vegyük ezek pozíciójának átlagát, megkapva e módon az él felezőpontját. Az előállított pontot helyezzük be az `EP` tömbbe.\n",
    "\n",
    "Mivel egy félél és a párja ugyanazt a pontot generálják, itt kisebb optimalizációra is lehetőség van, ha nem szeretnénk a szükséges pontok kétszeresét eltárolni."
   ]
  },
  {
   "cell_type": "markdown",
   "metadata": {},
   "source": [
    "#### 2. *Face Points*"
   ]
  },
  {
   "cell_type": "markdown",
   "metadata": {},
   "source": [
    "A lapok súlypontjait a csúcsaik pozíciójának átlagaként számolhatjuk ki. Ezt úgy tudjuk megvalósítani, hogy az egyes lapokat alkotó féléleken cirkulálunk, melynek során összegezzük a csúcsok pozícióit, s az így kapott összeget végül elosztjuk az érintett csúcsok számával. A kapott pontokat tároljuk el a `FP` tömbben!"
   ]
  },
  {
   "cell_type": "markdown",
   "metadata": {},
   "source": [
    "#### 3. Új csúcsok előállítása"
   ]
  },
  {
   "cell_type": "markdown",
   "metadata": {},
   "source": [
    "Egy új csúcs pozíciójának előállításához négy pontra lesz szükség: $2$ edge point, $1$ face point és $1$ csúcs. Mivel egy csúcs minden olyan lapon generál egy új csúcsot, amiben részt vesz, érdemes a lapokon és a lapokon belül a csúcsokon végigfutni. Ennek megvalósításához ezúttal is a féléleken való cirkulálás lesz a megfelelő eszköz. \n",
    "\n",
    "Ha tehát adott egy $f$ indexű lap, cirkuláljunk végig az összes félélen, mely a laphoz tartozik, és vegyük az adott lap $s$ súlypontját, a félél $v$ végpontját és a félél $f$, valamint a félél rákövetkezőjének $f^{\\prime}$ felezőpontját. Az új csúcs $u$ pozíciója ezeknek átlaga lesz:\n",
    "\n",
    "$$\n",
    "u = \\frac{1}{4}(v + f + f^{\\prime} +s )\n",
    "$$"
   ]
  },
  {
   "cell_type": "markdown",
   "metadata": {},
   "source": [
    "#### 4. *E-faces*"
   ]
  },
  {
   "cell_type": "markdown",
   "metadata": {},
   "source": [
    "Minden él egy négyszöglapot fog képezni, melynek négy csúcsát az adott élben részt vevő két félél által képzett csúcsok adják. Ezekből tehát felépíthető egy új *E-face*, aminek két szomszédja az eredeti él két oldalán fekvő két *F-face*, másik két szomszédja pedig az él két végpontjából képzett két *V-face*. \n",
    "\n",
    "Az előbbiek, azaz az *F-face*-ek szinte teljes egészében elkészültek az inicializációs lépésben szereplő másolása során, itt csak a félélek párjainak beállítására kell ügyelnünk."
   ]
  },
  {
   "cell_type": "markdown",
   "metadata": {},
   "source": [
    "#### 5. *V-faces*"
   ]
  },
  {
   "cell_type": "markdown",
   "metadata": {},
   "source": [
    "Az eredeti csúcsokból képzett lapok összeállítása a legnehezebb feladat. Egy adott csúcs esetén végig kell mennünk az összes félélen, mely érintette a csúcsot. Minden ilyen félélből az előző lépés során lett egy *E-face*, mely a szomszédja lesz az újonnan létrehozott *V-face*-nek. A szomszédos *E-face*-ek segítségével be tudjuk állítani az új lapot alkotó félélek párjait és csúcsait."
   ]
  },
  {
   "cell_type": "markdown",
   "metadata": {},
   "source": [
    "#### 6. Befejezés"
   ]
  },
  {
   "cell_type": "markdown",
   "metadata": {},
   "source": [
    "A finomítás végrehajtásának utolsó lépése, hogy a mesht tároló adatszerkezetünkben a `VA`, `FA` és `HA` tömböket kicseréljük az `NV`, `NF` és `NE` tömbökre, azaz a régi mesht kicseréljük az új, simább változatra. A következő iterációban már ezt fogjuk tovább finomítani."
   ]
  },
  {
   "cell_type": "markdown",
   "metadata": {},
   "source": [
    "## Demonstráció"
   ]
  },
  {
   "cell_type": "markdown",
   "metadata": {},
   "source": [
    "A demonstráció a séma működését mutatja be egy kockán. A kamerát a már ismert módon kezelhetjük (leírás [itt](http://nbviewer.jupyter.org/github/kompgraf/course-material/blob/master/notebooks/06-bezier-felulet/06-bezier-felulet.ipynb#Demonstráció])). Újabb finomítást az <kbd>ENTER</kbd> leütésével hajthatunk végre."
   ]
  },
  {
   "cell_type": "code",
   "execution_count": 7,
   "metadata": {},
   "outputs": [
    {
     "data": {
      "text/html": [
       "\n",
       "    <div id=\"doo-sabin-subdivision-container\"></div>\n",
       "    <script>require(['js/doo-sabin-subdivision'], main => main($(\"#doo-sabin-subdivision-container\"), 'doo-sabin-subdivision'));</script>\n",
       "    "
      ],
      "text/plain": [
       "<IPython.core.display.HTML object>"
      ]
     },
     "execution_count": 7,
     "metadata": {},
     "output_type": "execute_result"
    }
   ],
   "source": [
    "addScript('js/doo-sabin-subdivision', 'doo-sabin-subdivision')"
   ]
  },
  {
   "cell_type": "code",
   "execution_count": 6,
   "metadata": {},
   "outputs": [
    {
     "data": {
      "text/html": [
       "<style>\n",
       ".prompt{\n",
       "    display: None;\n",
       "}\n",
       "canvas {\n",
       "    display: block;\n",
       "    margin-left: auto;\n",
       "    margin-right: auto;\n",
       "    border: 1px solid #42A5F5;\n",
       "}\n",
       "div.output_png {\n",
       "    display: block;\n",
       "}\n",
       "div.output_subarea {\n",
       "    max-width: 100%;\n",
       "    text-align: center;\n",
       "}\n",
       ".canvas-controller {\n",
       "    position: relative;\n",
       "    top: 50%;\n",
       "    transform: translateY(-50%);\n",
       "}\n",
       ".controller-input-container {\n",
       "    display: flex;\n",
       "    align-items: center;\n",
       "    text-align: left;\n",
       "    margin-bottom: 1em;\n",
       "}\n",
       ".controller-input-container label {\n",
       "    width: 10em;\n",
       "}\n",
       ".slider-container {\n",
       "    display: flex;\n",
       "    flex-grow: 1;\n",
       "}\n",
       ".slider-container input {\n",
       "    flex-grow: 1;\n",
       "}\n",
       ".slider-min-label {\n",
       "    padding-right: 1em;\n",
       "}\n",
       ".slider-max-label {\n",
       "    padding-left: 1em;\n",
       "}\n",
       ".knot-container {\n",
       "    flex: 1 1 auto;\n",
       "    margin-bottom: 1em;\n",
       "}\n",
       ".knot-container input {\n",
       "    width: 100%;\n",
       "}\n",
       ".knot-container-heading {\n",
       "    text-align: left;\n",
       "    padding-bottom: 1em;\n",
       "}\n",
       "</style>\n",
       "<script>\n",
       "MathJax.Hub.Config({\n",
       "    TeX: {\n",
       "        extensions: [\"AMSmath.js\"]\n",
       "    },\n",
       "    tex2jax: {\n",
       "        inlineMath: [ ['$','$'], [\"\\\\(\",\"\\\\)\"] ],\n",
       "        displayMath: [ ['$$','$$'], [\"\\\\[\",\"\\\\]\"] ]\n",
       "    },\n",
       "    displayAlign: 'center',\n",
       "    \"HTML-CSS\": {\n",
       "        styles: {'.MathJax_Display': {\"margin\": 4}}\n",
       "    }\n",
       "});\n",
       "</script>"
      ],
      "text/plain": [
       "<IPython.core.display.HTML object>"
      ]
     },
     "execution_count": 6,
     "metadata": {},
     "output_type": "execute_result"
    }
   ],
   "source": [
    "def styling():\n",
    "    styles = open(\"../../styles/custom.html\", \"r\").read()\n",
    "    return HTML(styles)\n",
    "styling()\n"
   ]
  }
 ],
 "metadata": {
  "kernelspec": {
   "display_name": "Python 3",
   "language": "python",
   "name": "python3"
  },
  "language_info": {
   "codemirror_mode": {
    "name": "ipython",
    "version": 3
   },
   "file_extension": ".py",
   "mimetype": "text/x-python",
   "name": "python",
   "nbconvert_exporter": "python",
   "pygments_lexer": "ipython3",
   "version": "3.6.1"
  }
 },
 "nbformat": 4,
 "nbformat_minor": 2
}
