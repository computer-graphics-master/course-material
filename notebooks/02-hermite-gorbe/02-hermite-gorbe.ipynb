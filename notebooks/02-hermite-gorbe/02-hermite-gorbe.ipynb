{
 "cells": [
  {
   "cell_type": "code",
   "execution_count": 1,
   "metadata": {},
   "outputs": [
    {
     "data": {
      "text/html": [
       "\n",
       "    <script>require.config({ baseUrl: 'https://rawgit.com/kompgraf/course-material/master/assets/' });</script>\n",
       "    "
      ],
      "text/plain": [
       "<IPython.core.display.HTML object>"
      ]
     },
     "execution_count": 1,
     "metadata": {},
     "output_type": "execute_result"
    }
   ],
   "source": [
    "from IPython.core.display import HTML\n",
    "from string import Template\n",
    "def jsConfig():\n",
    "    src = \"\"\"\n",
    "    <script>require.config({ baseUrl: 'https://rawgit.com/kompgraf/course-material/master/assets/' });</script>\n",
    "    \"\"\"\n",
    "    return HTML(src)\n",
    "def addScript(script, identifier):\n",
    "    src = Template(\"\"\"\n",
    "    <div id=\"${identifier}-container\"></div>\n",
    "    <script>require(['${script}'], main => main($$(\"#${identifier}-container\"), '${identifier}'));</script>\n",
    "    \"\"\")\n",
    "    return HTML(src.substitute(script = script, identifier = identifier))\n",
    "jsConfig()\n"
   ]
  },
  {
   "cell_type": "markdown",
   "metadata": {},
   "source": [
    "# Hermite-görbe"
   ]
  },
  {
   "cell_type": "markdown",
   "metadata": {},
   "source": [
    "## Bevezetés"
   ]
  },
  {
   "cell_type": "markdown",
   "metadata": {},
   "source": [
    "Az Hermite-görbe az első paraméteres görbe, amivel megismerkedünk. Ez egy olyan harmadfokú görbe, melynek előállításához az egyes kontrollpontok mellett minden kontrollponthoz meg kell adnunk a görbe adott pontbeli érintőjét.\n",
    "\n",
    "Fontos kiemelni, hogy az *Hermite-görbe* név félrevezető, hiszen ez egy előállítási mód, ahogyan görbét tudunk képezni, és nem a görbék egy speciális fajtája."
   ]
  },
  {
   "cell_type": "markdown",
   "metadata": {},
   "source": [
    "## A feladat"
   ]
  },
  {
   "cell_type": "markdown",
   "metadata": {},
   "source": [
    "Tegyük fel, hogy adott két síkbeli pont, $P$ és $Q$, továbbá adott a $P$-beli érintővektor, $v$ és a $Q$-beli érintővektor, $w$. Egy olyan $H(t)$ ($t \\in [0, 1]$) harmadfokú polinomot keresünk, mely teljesíti a következő feltételeket:\n",
    "\n",
    "$$\n",
    "\\begin{align*}\n",
    "H(0) &= P \\\\\n",
    "H(1) &= Q \\\\\n",
    "H^{\\prime}(0) &= v \\\\\n",
    "H^{\\prime}(1) &= w\n",
    "\\end{align*}\n",
    "$$"
   ]
  },
  {
   "cell_type": "markdown",
   "metadata": {},
   "source": [
    "## Polinomiális alak"
   ]
  },
  {
   "cell_type": "markdown",
   "metadata": {},
   "source": [
    "Vezessük le az előző feltételekből a polinomiális alakot! Ez azt jelenti, hogy meg kell határoznunk a $h_0, h_1, h_2, h_3$ súlyfüggvényeket.\n",
    "\n",
    "Nézzük meg, hogy pontosan hogyan is néz ki $H(t)$:\n",
    "\n",
    "$$\n",
    "H(t) = h_0(t) \\cdot P + h_1(t) \\cdot Q + h_2(t) \\cdot v + h_3(t) \\cdot w\n",
    "$$\n",
    "\n",
    "Pusztán az előző képlet és a feltételek ismeretében már elkezdhetjük egyenként meghatározni a súlyfüggvényekben szereplő együtthatókat."
   ]
  },
  {
   "cell_type": "markdown",
   "metadata": {},
   "source": [
    "### $h_0(t)$\n",
    "\n",
    "Részletesen csak az első súlyfüggvényt vezetjük le, hiszen az együtthatók meghatározása a maradék három esetben teljesen analóg módon elvégezhető.\n",
    "\n",
    "Kezdjük azzal, hogy felírjuk a sülyfüggvényt és deriváltját még egyelőre csupa ismeretlen együtthatóval:\n",
    "\n",
    "$$\n",
    "\\begin{align*}\n",
    "h_0(t) &= a_0 \\cdot t^3 + b_0 \\cdot t^2 + c_0 \\cdot t + d_0 \\\\\n",
    "h_0^{\\prime}(t) &= 3 a_0 \\cdot t^2 + 2 b_0 \\cdot t + c_0\n",
    "\\end{align*}\n",
    "$$\n",
    "\n",
    "Most pedig a $H(t)$-re vonatkozó feltételeket vezessük át $h_0(t)$-re:\n",
    "\n",
    "  * Ha $H(0) = P$, akkor $h_0(0) = 1$.\n",
    "  * Ha $H(1) = Q$, akkor $h_0(1) = 0$.\n",
    "  * Ha $H^{\\prime}(0) = v$, akkor $h_0^{\\prime}(0)=0$.\n",
    "  * Ha $H^{\\prime}(1) = w$, akkor $h_0^{\\prime}(1)=0$.\n",
    "  \n",
    "Folytassuk a levezetést most már a $h_0(t)$-re vonatkozó feltételekkel:\n",
    "\n",
    "$$\n",
    "\\begin{align*}\n",
    "h_0(0) &= d_0 &= 1 \\\\\n",
    "h_0(1) &= a_0 + b_0 + c_0 + d_0 &= 0 \\\\\n",
    "h_0^{\\prime}(0) &= c_0 &= 0 \\\\\n",
    "h_0^{\\prime}(1) &= 3a_0 + 2b_0 + c_0  &= 0\n",
    "\\end{align*}\n",
    "$$\n",
    "\n",
    "Az első egyenletből következik, hogy $d_0 = 1$, a harmadik egyenletből pedig, hogy $c_0 = 0$. Tehát marad két egyenlet két ismeretlennel:\n",
    "\n",
    "$$\n",
    "\\begin{align*}\n",
    "a_0 + b_0 + 1 &= 0 \\\\\n",
    "3a_0 + 2b_0 &= 0\n",
    "\\end{align*}\n",
    "$$\n",
    "\n",
    "Ezeket megoldva kapjuk, hogy $a_0 = 2$ és $b_0 = -3$.\n",
    "\n",
    "Az összes együttható ismeretében most már felírhatjuk, hogy\n",
    "\n",
    "$$\n",
    "h_0(t) = 2t^3 -3t^2 + 1.\n",
    "$$"
   ]
  },
  {
   "cell_type": "markdown",
   "metadata": {},
   "source": [
    "### $h_1(t), h_2(t), h_3(t)$"
   ]
  },
  {
   "cell_type": "markdown",
   "metadata": {},
   "source": [
    "A maradék három bázisfüggvény azonos levezetés után a következő formában áll elő:\n",
    "\n",
    "$$\n",
    "\\begin{align*}\n",
    "h_1(t) &= -2t^3 + 3t^2 \\\\\n",
    "h_2(t) &= t^3 -2t^2 + t \\\\\n",
    "h_3(t) &= t^3 - t^2\n",
    "\\end{align*}\n",
    "$$\n",
    "\n",
    "Ábrázoljuk a súlyfüggvényeket!"
   ]
  },
  {
   "cell_type": "code",
   "execution_count": 2,
   "metadata": {
    "collapsed": true
   },
   "outputs": [],
   "source": [
    "%matplotlib inline\n",
    "import matplotlib\n",
    "import matplotlib.pyplot as plt\n",
    "import numpy as np"
   ]
  },
  {
   "cell_type": "code",
   "execution_count": 3,
   "metadata": {},
   "outputs": [
    {
     "data": {
      "image/png": "[encoded data removed]",
      "text/plain": [
       "<matplotlib.figure.Figure at 0x1ddd1fa1780>"
      ]
     },
     "metadata": {},
     "output_type": "display_data"
    }
   ],
   "source": [
    "def hermite():\n",
    "    t = np.linspace(0, 1, 100)\n",
    "\n",
    "    h0 = (2*(t**3)) + (-3 * (t**2)) + 1\n",
    "    h1 = (-2*(t**3)) + (3 * (t**2))\n",
    "    h2 = t**3 + (-2 * (t**2)) + t\n",
    "    h3 = t**3 + - t**2\n",
    "\n",
    "    fig = plt.figure()\n",
    "\n",
    "    axes = fig.add_axes([0, 0, 1, 1])\n",
    "\n",
    "    axes.set_xlim([0, 1])\n",
    "    axes.set_ylim([-0.3, 1.3])\n",
    "\n",
    "    axes.plot(t, h0, 'r', label='$h_0$')\n",
    "    axes.plot(t, h1, 'g', label='$h_1$')\n",
    "    axes.plot(t, h2, 'b', label='$h_2$')\n",
    "    axes.plot(t, h3, 'cyan', label='$h_3$')\n",
    "    \n",
    "    axes.axhline(y=0, color='k')\n",
    "    \n",
    "    axes.legend(loc=2);\n",
    "\n",
    "    axes.set_xlabel('t')\n",
    "    axes.set_title('Hermite súlyfüggvények');\n",
    "\n",
    "\n",
    "hermite()"
   ]
  },
  {
   "cell_type": "markdown",
   "metadata": {},
   "source": [
    "## Mátrix alak"
   ]
  },
  {
   "cell_type": "markdown",
   "metadata": {},
   "source": [
    "A polinomiális alak ismeretében a mátrix alak felírása már nem jelenthet kihívást, hiszen csak az $M$ mátrixot kell összeállítanunk a bázisfüggvények együtthatóiból:\n",
    "\n",
    "$$\n",
    "M =\n",
    "\\begin{bmatrix}\n",
    "2 & -3 & 0 & 1 \\\\\n",
    "-2 & 3 & 0 & 0 \\\\\n",
    "1 & -2 & 1 & 0 \\\\\n",
    "1 & -1 & 0 & 0\n",
    "\\end{bmatrix}.\n",
    "$$\n",
    "\n",
    "Tehát\n",
    "\n",
    "$$\n",
    "H(t) = \n",
    "\\begin{bmatrix}\n",
    "P & Q & v & w\n",
    "\\end{bmatrix}\n",
    "\\cdot\n",
    "\\begin{bmatrix}\n",
    "2 & -3 & 0 & 1 \\\\\n",
    "-2 & 3 & 0 & 0 \\\\\n",
    "1 & -2 & 1 & 0 \\\\\n",
    "1 & -1 & 0 & 0\n",
    "\\end{bmatrix}\n",
    "\\cdot\n",
    "\\begin{bmatrix}\n",
    "t^3 \\\\\n",
    "t^2 \\\\\n",
    "t \\\\ \n",
    "1\n",
    "\\end{bmatrix}.\n",
    "$$"
   ]
  },
  {
   "cell_type": "markdown",
   "metadata": {},
   "source": [
    "## Az Hermite-görbe hátrányai"
   ]
  },
  {
   "cell_type": "markdown",
   "metadata": {},
   "source": [
    "A legnagyobb probléma az Hermite-görbével az, hogy előállításához nemcsak kontrollpontokra, hanem érintőkre is szükség van, mint bemeneti információ. Sokkal szélesebb körben használhatóak az olyan eljárások, melyekhez a kontrollpontokon kívül más geometriai információra nincsen szükség. Látni fogjuk majd, hogy a Bézier-görbe vagy a Cardinal Spline mennyivel kényelmesebb lehetőséget biztosít a görbét előállításához."
   ]
  },
  {
   "cell_type": "markdown",
   "metadata": {},
   "source": [
    "## Demonstráció"
   ]
  },
  {
   "cell_type": "markdown",
   "metadata": {},
   "source": [
    "A következő demonstráció bemutat egy Hermite-görbét. A pontok és az érintők is mozgathatóak, utóbbiak a végpontok megragadásával és vonszolásával."
   ]
  },
  {
   "cell_type": "code",
   "execution_count": 4,
   "metadata": {},
   "outputs": [
    {
     "data": {
      "text/html": [
       "\n",
       "    <div id=\"hermite-demo-container\"></div>\n",
       "    <script>require(['js/hermite-demo'], main => main($(\"#hermite-demo-container\"), 'hermite-demo'));</script>\n",
       "    "
      ],
      "text/plain": [
       "<IPython.core.display.HTML object>"
      ]
     },
     "execution_count": 4,
     "metadata": {},
     "output_type": "execute_result"
    }
   ],
   "source": [
    "addScript(\"js/hermite-demo\", \"hermite-demo\")"
   ]
  },
  {
   "cell_type": "markdown",
   "metadata": {},
   "source": [
    "## Források"
   ]
  },
  {
   "cell_type": "markdown",
   "metadata": {},
   "source": [
    "* D. D. Hearn, M. P. Baker, W. Caritehers (2014). *Computer Graphics With OpenGL*, Fourth Edition, pp. 416-417.\n",
    "* J. F. Hughes, A. van Dam (2013). *Computer Graphics: Principles and Practice*, Third Edition, Chapter 22W, pp. 82-86. http://dept.cs.williams.edu/~morgan/cgpp/file/cgpp3e_ch22W.pdf"
   ]
  },
  {
   "cell_type": "code",
   "execution_count": 5,
   "metadata": {},
   "outputs": [
    {
     "data": {
      "text/html": [
       "<style>\n",
       ".prompt{\n",
       "    display: None;\n",
       "}\n",
       "canvas {\n",
       "    display: block;\n",
       "    margin-left: auto;\n",
       "    margin-right: auto;\n",
       "    border: 1px solid #42A5F5;\n",
       "}\n",
       "div.output_png {\n",
       "    display: block;\n",
       "}\n",
       "div.output_subarea {\n",
       "    max-width: 100%;\n",
       "    text-align: center;\n",
       "}\n",
       ".canvas-controller {\n",
       "    position: relative;\n",
       "    top: 50%;\n",
       "    transform: translateY(-50%);\n",
       "}\n",
       ".controller-input-container {\n",
       "    display: flex;\n",
       "    align-items: center;\n",
       "    text-align: left;\n",
       "    margin-bottom: 1em;\n",
       "}\n",
       ".controller-input-container label {\n",
       "    width: 10em;\n",
       "}\n",
       ".controller-input-container input {\n",
       "    flex: 1 1 auto;\n",
       "}\n",
       "</style>\n",
       "<script>\n",
       "MathJax.Hub.Config({\n",
       "    TeX: {\n",
       "        extensions: [\"AMSmath.js\"]\n",
       "    },\n",
       "    tex2jax: {\n",
       "        inlineMath: [ ['$','$'], [\"\\\\(\",\"\\\\)\"] ],\n",
       "        displayMath: [ ['$$','$$'], [\"\\\\[\",\"\\\\]\"] ]\n",
       "    },\n",
       "    displayAlign: 'center',\n",
       "    \"HTML-CSS\": {\n",
       "        styles: {'.MathJax_Display': {\"margin\": 4}}\n",
       "    }\n",
       "});\n",
       "</script>"
      ],
      "text/plain": [
       "<IPython.core.display.HTML object>"
      ]
     },
     "execution_count": 5,
     "metadata": {},
     "output_type": "execute_result"
    }
   ],
   "source": [
    "def styling():\n",
    "    styles = open(\"../../styles/custom.html\", \"r\").read()\n",
    "    return HTML(styles)\n",
    "styling()\n"
   ]
  }
 ],
 "metadata": {
  "kernelspec": {
   "display_name": "Python 3",
   "language": "python",
   "name": "python3"
  },
  "language_info": {
   "codemirror_mode": {
    "name": "ipython",
    "version": 3
   },
   "file_extension": ".py",
   "mimetype": "text/x-python",
   "name": "python",
   "nbconvert_exporter": "python",
   "pygments_lexer": "ipython3",
   "version": "3.6.1"
  }
 },
 "nbformat": 4,
 "nbformat_minor": 2
}
